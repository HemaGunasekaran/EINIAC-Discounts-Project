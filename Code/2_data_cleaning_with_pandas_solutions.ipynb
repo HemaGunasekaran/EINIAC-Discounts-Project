{
 "cells": [
  {
   "cell_type": "markdown",
   "metadata": {
    "id": "kYo4UvcCvkUs"
   },
   "source": [
    "# Data Cleaning with Pandas\n",
    "\n",
    "In this notebook we'll go through a few basic data cleaning steps that should be performed on all new datasets where necessary.\n",
    "\n",
    "We'll go through the process with both the `orders` and `orderlines` datasets. You can then practice these skills by cleaning the `products` dataset yourself"
   ]
  },
  {
   "cell_type": "code",
   "execution_count": 1,
   "metadata": {
    "id": "FgRIdUs1vcZ8"
   },
   "outputs": [],
   "source": [
    "import pandas as pd"
   ]
  },
  {
   "cell_type": "code",
   "execution_count": 2,
   "metadata": {
    "id": "rCFadwwK6Ial"
   },
   "outputs": [],
   "source": [
    "pd.set_option('display.max_colwidth', None) # to increase the width of the columns"
   ]
  },
  {
   "cell_type": "code",
   "execution_count": null,
   "metadata": {
    "id": "_87JoNgVviOG"
   },
   "outputs": [],
   "source": [
    "# orders.csv\n",
    "url = \"https://drive.google.com/file/d/1Vu0q91qZw6lqhIqbjoXYvYAQTmVHh6uZ/view?usp=sharing\"\n",
    "path = \"https://drive.google.com/uc?export=download&id=\"+url.split(\"/\")[-2]\n",
    "orders = pd.read_csv(path)\n",
    "\n",
    "# orderlines.csv\n",
    "url = \"https://drive.google.com/file/d/1FYhN_2AzTBFuWcfHaRuKcuCE6CWXsWtG/view?usp=sharing\"\n",
    "path = \"https://drive.google.com/uc?export=download&id=\"+url.split(\"/\")[-2]\n",
    "orderlines = pd.read_csv(path)"
   ]
  },
  {
   "cell_type": "markdown",
   "metadata": {
    "id": "qS6O9HFLUgkU"
   },
   "source": [
    "Before we begin, let's create a copy of the `orders` and `orderlines` DataFrames. This way we are sure any of our changes won't affect the original DataFrames."
   ]
  },
  {
   "cell_type": "code",
   "execution_count": null,
   "metadata": {
    "id": "4QdMtar7_lrX"
   },
   "outputs": [],
   "source": [
    "orders_df = orders.copy()"
   ]
  },
  {
   "cell_type": "code",
   "execution_count": null,
   "metadata": {
    "id": "oka4mnqU_mds"
   },
   "outputs": [],
   "source": [
    "orderlines_df = orderlines.copy()"
   ]
  },
  {
   "cell_type": "markdown",
   "metadata": {
    "id": "fVLitYX1yhc6"
   },
   "source": [
    "One of the best ways to begin data cleaning is by exploring using `.info()`. This will tell us:\n",
    "* The shape of the DataFrame\n",
    "* The names of the columns\n",
    "* If there are any missing values\n",
    "* The datatypes of the columns\n",
    "\n",
    "By exploring the missing values and correcting any incorrect datatypes, we often come across inconsistencies in our data.\n",
    "\n",
    "Beyond this, we should also have a **check for any duplicate rows**.\n",
    "\n",
    "Let's first deal with the duplicates, as it's nice and easy, then we'll explore what `.info()` has to tell us."
   ]
  },
  {
   "cell_type": "markdown",
   "metadata": {
    "id": "036ciQ6rwBJm"
   },
   "source": [
    "## 1.&nbsp; Duplicates\n",
    "We can check for duplicates using the pandas [.duplicated()](https://pandas.pydata.org/docs/reference/api/pandas.DataFrame.duplicated.html) method.\n",
    "\n",
    "We can then delete these rows, if we wish, using [.drop_duplicates()](https://pandas.pydata.org/docs/reference/api/pandas.DataFrame.drop_duplicates.html)"
   ]
  },
  {
   "cell_type": "code",
   "execution_count": null,
   "metadata": {
    "colab": {
     "base_uri": "https://localhost:8080/"
    },
    "executionInfo": {
     "elapsed": 18,
     "status": "ok",
     "timestamp": 1696854592649,
     "user": {
      "displayName": "Yanish Veerahoo",
      "userId": "12777002046449133933"
     },
     "user_tz": -120
    },
    "id": "6dVkoUu7wC-b",
    "outputId": "d48a4e4f-9448-41e1-8b9c-6a18aa9ca9fe"
   },
   "outputs": [
    {
     "data": {
      "text/plain": [
       "0"
      ]
     },
     "execution_count": 3,
     "metadata": {},
     "output_type": "execute_result"
    }
   ],
   "source": [
    "# orders\n",
    "orders_df.duplicated().sum()"
   ]
  },
  {
   "cell_type": "code",
   "execution_count": null,
   "metadata": {
    "colab": {
     "base_uri": "https://localhost:8080/"
    },
    "executionInfo": {
     "elapsed": 808,
     "status": "ok",
     "timestamp": 1696854593447,
     "user": {
      "displayName": "Yanish Veerahoo",
      "userId": "12777002046449133933"
     },
     "user_tz": -120
    },
    "id": "iaeAQB_3whli",
    "outputId": "4ce3f487-bd84-495e-865e-ab24f0547ea7"
   },
   "outputs": [
    {
     "data": {
      "text/plain": [
       "0"
      ]
     },
     "execution_count": 4,
     "metadata": {},
     "output_type": "execute_result"
    }
   ],
   "source": [
    "# orderlines\n",
    "orderlines_df.duplicated().sum()"
   ]
  },
  {
   "cell_type": "markdown",
   "metadata": {
    "id": "3LbnJquF0vRe"
   },
   "source": [
    "We have no duplicate rows in either DataFrame. Easy, there is no problem to solve. Normally though, if there were some duplicates, we'd drop the extra rows."
   ]
  },
  {
   "cell_type": "markdown",
   "metadata": {
    "id": "9lX7YbHlzoEO"
   },
   "source": [
    "# 2.&nbsp; `.info()`"
   ]
  },
  {
   "cell_type": "code",
   "execution_count": null,
   "metadata": {
    "colab": {
     "base_uri": "https://localhost:8080/"
    },
    "executionInfo": {
     "elapsed": 8,
     "status": "ok",
     "timestamp": 1696854593448,
     "user": {
      "displayName": "Yanish Veerahoo",
      "userId": "12777002046449133933"
     },
     "user_tz": -120
    },
    "id": "_AAsMOTS2L9r",
    "outputId": "35fb4e8a-703c-4b13-eafc-3c2d0e7ae73b"
   },
   "outputs": [
    {
     "name": "stdout",
     "output_type": "stream",
     "text": [
      "<class 'pandas.core.frame.DataFrame'>\n",
      "RangeIndex: 226909 entries, 0 to 226908\n",
      "Data columns (total 4 columns):\n",
      " #   Column        Non-Null Count   Dtype  \n",
      "---  ------        --------------   -----  \n",
      " 0   order_id      226909 non-null  int64  \n",
      " 1   created_date  226909 non-null  object \n",
      " 2   total_paid    226904 non-null  float64\n",
      " 3   state         226909 non-null  object \n",
      "dtypes: float64(1), int64(1), object(2)\n",
      "memory usage: 6.9+ MB\n"
     ]
    }
   ],
   "source": [
    "orders_df.info()"
   ]
  },
  {
   "cell_type": "markdown",
   "metadata": {
    "id": "Txm3Bv952UCb"
   },
   "source": [
    "* `total_paid` has 5 missing values\n",
    "* `created_date` should become datetime datatype"
   ]
  },
  {
   "cell_type": "code",
   "execution_count": null,
   "metadata": {
    "colab": {
     "base_uri": "https://localhost:8080/"
    },
    "executionInfo": {
     "elapsed": 432,
     "status": "ok",
     "timestamp": 1696854593875,
     "user": {
      "displayName": "Yanish Veerahoo",
      "userId": "12777002046449133933"
     },
     "user_tz": -120
    },
    "id": "kvDA-z032Rm2",
    "outputId": "d4bfedca-4ade-4506-f34f-a75982270598"
   },
   "outputs": [
    {
     "name": "stdout",
     "output_type": "stream",
     "text": [
      "<class 'pandas.core.frame.DataFrame'>\n",
      "RangeIndex: 293983 entries, 0 to 293982\n",
      "Data columns (total 7 columns):\n",
      " #   Column            Non-Null Count   Dtype \n",
      "---  ------            --------------   ----- \n",
      " 0   id                293983 non-null  int64 \n",
      " 1   id_order          293983 non-null  int64 \n",
      " 2   product_id        293983 non-null  int64 \n",
      " 3   product_quantity  293983 non-null  int64 \n",
      " 4   sku               293983 non-null  object\n",
      " 5   unit_price        293983 non-null  object\n",
      " 6   date              293983 non-null  object\n",
      "dtypes: int64(4), object(3)\n",
      "memory usage: 15.7+ MB\n"
     ]
    }
   ],
   "source": [
    "orderlines_df.info()"
   ]
  },
  {
   "cell_type": "markdown",
   "metadata": {
    "id": "iLSpYm1G2sPD"
   },
   "source": [
    "* `date` should be a datetime datatype\n",
    "* `unit_price` should be a float datatype"
   ]
  },
  {
   "cell_type": "markdown",
   "metadata": {
    "id": "MlwJt5c-wiQh"
   },
   "source": [
    "## 3.&nbsp; Missing values"
   ]
  },
  {
   "cell_type": "markdown",
   "metadata": {
    "id": "63eKHGzJwkuT"
   },
   "source": [
    "### 3.1.&nbsp; Orders\n",
    "* `total_paid` has 5 missing values"
   ]
  },
  {
   "cell_type": "code",
   "execution_count": null,
   "metadata": {
    "colab": {
     "base_uri": "https://localhost:8080/"
    },
    "executionInfo": {
     "elapsed": 16,
     "status": "ok",
     "timestamp": 1696854593875,
     "user": {
      "displayName": "Yanish Veerahoo",
      "userId": "12777002046449133933"
     },
     "user_tz": -120
    },
    "id": "Yh81k3ppwl37",
    "outputId": "0fffe7c5-d22d-412e-8947-7a80f265fcc7"
   },
   "outputs": [
    {
     "name": "stdout",
     "output_type": "stream",
     "text": [
      "5 missing values represents 0.0022% of the rows in our DataFrame\n"
     ]
    }
   ],
   "source": [
    "print(f\"5 missing values represents {((orders_df.total_paid.isna().sum() / orders_df.shape[0])*100).round(5)}% of the rows in our DataFrame\")"
   ]
  },
  {
   "cell_type": "markdown",
   "metadata": {
    "id": "8s6q6JScX9QV"
   },
   "source": [
    "A quick way to find out a percentage here, if you don't need to print out a sentence for yourself/students/colleagues is `.value_count(normalize=True)`"
   ]
  },
  {
   "cell_type": "code",
   "execution_count": null,
   "metadata": {
    "colab": {
     "base_uri": "https://localhost:8080/"
    },
    "executionInfo": {
     "elapsed": 11,
     "status": "ok",
     "timestamp": 1696854593876,
     "user": {
      "displayName": "Yanish Veerahoo",
      "userId": "12777002046449133933"
     },
     "user_tz": -120
    },
    "id": "PJedh_tXX8jO",
    "outputId": "46b07c11-96bc-4bc7-c4a3-1f89d9a6a6af"
   },
   "outputs": [
    {
     "data": {
      "text/plain": [
       "False    0.999978\n",
       "True     0.000022\n",
       "Name: total_paid, dtype: float64"
      ]
     },
     "execution_count": 8,
     "metadata": {},
     "output_type": "execute_result"
    }
   ],
   "source": [
    "orders_df.total_paid.isna().value_counts(normalize=True)"
   ]
  },
  {
   "cell_type": "markdown",
   "metadata": {
    "id": "eMW6J-4v_iVM"
   },
   "source": [
    "As there is such a tiny amount of missing values, we will simply delete these rows, as we have enough data without them."
   ]
  },
  {
   "cell_type": "code",
   "execution_count": null,
   "metadata": {
    "id": "ohcl2Pb2B_Ch"
   },
   "outputs": [],
   "source": [
    "orders_df = orders_df.loc[~orders.total_paid.isna(), :]"
   ]
  },
  {
   "cell_type": "markdown",
   "metadata": {
    "id": "AIWAR4xI_3jv"
   },
   "source": [
    "Should you have a significant number of missing values in the future, you have a choice:\n",
    "+ you can impute the values\n",
    "+ you can take the values from other DataFrames, if they are present there\n",
    "+ you can delete the values\n",
    "+ or any number of other creative solutions\n",
    "\n",
    "Please, always consider how much time you have on your project, and what impact your method of choice will have on your final assesment."
   ]
  },
  {
   "cell_type": "markdown",
   "metadata": {
    "id": "nziIE3hbwmNa"
   },
   "source": [
    "### 3.2.&nbsp; Orderlines\n",
    "There are no missing values in `orderlines`"
   ]
  },
  {
   "cell_type": "markdown",
   "metadata": {
    "id": "_feog1aCwosJ"
   },
   "source": [
    "## 4.&nbsp; Datatypes"
   ]
  },
  {
   "cell_type": "markdown",
   "metadata": {
    "id": "wCJyQYkOwrBE"
   },
   "source": [
    "### 4.1.&nbsp; Orders\n",
    "* `created_date` should become datetime datatype"
   ]
  },
  {
   "cell_type": "code",
   "execution_count": null,
   "metadata": {
    "id": "cF9roGlewr8j"
   },
   "outputs": [],
   "source": [
    "orders_df[\"created_date\"] = pd.to_datetime(orders_df[\"created_date\"])"
   ]
  },
  {
   "cell_type": "markdown",
   "metadata": {
    "id": "osvynBTNwsin"
   },
   "source": [
    "### 4.1.&nbsp; Orderlines\n",
    "* `date` should be a datetime datatype\n",
    "* `unit_price` should be a float datatype"
   ]
  },
  {
   "cell_type": "markdown",
   "metadata": {
    "id": "PJcuKn8K06Yd"
   },
   "source": [
    "#### 4.1.1.&nbsp; `date`"
   ]
  },
  {
   "cell_type": "code",
   "execution_count": null,
   "metadata": {
    "id": "FnXgRKERwtvS"
   },
   "outputs": [],
   "source": [
    "orderlines_df[\"date\"] = pd.to_datetime(orderlines_df[\"date\"])"
   ]
  },
  {
   "cell_type": "markdown",
   "metadata": {
    "id": "F7i78NDY0-oF"
   },
   "source": [
    "#### 4.1.2.&nbsp;`unit_price`"
   ]
  },
  {
   "cell_type": "code",
   "execution_count": null,
   "metadata": {
    "colab": {
     "base_uri": "https://localhost:8080/",
     "height": 315
    },
    "executionInfo": {
     "elapsed": 317,
     "status": "error",
     "timestamp": 1696854594462,
     "user": {
      "displayName": "Yanish Veerahoo",
      "userId": "12777002046449133933"
     },
     "user_tz": -120
    },
    "id": "iOFBNmuRDuGU",
    "outputId": "468e0df6-36c3-47e0-cf56-f2928fa57836"
   },
   "outputs": [
    {
     "ename": "ValueError",
     "evalue": "ignored",
     "output_type": "error",
     "traceback": [
      "\u001b[0;31m---------------------------------------------------------------------------\u001b[0m",
      "\u001b[0;31mValueError\u001b[0m                                Traceback (most recent call last)",
      "\u001b[0;32m/usr/local/lib/python3.10/dist-packages/pandas/_libs/lib.pyx\u001b[0m in \u001b[0;36mpandas._libs.lib.maybe_convert_numeric\u001b[0;34m()\u001b[0m\n",
      "\u001b[0;31mValueError\u001b[0m: Unable to parse string \"1.137.99\"",
      "\nDuring handling of the above exception, another exception occurred:\n",
      "\u001b[0;31mValueError\u001b[0m                                Traceback (most recent call last)",
      "\u001b[0;32m<ipython-input-12-ddce6c16f698>\u001b[0m in \u001b[0;36m<cell line: 1>\u001b[0;34m()\u001b[0m\n\u001b[0;32m----> 1\u001b[0;31m \u001b[0morderlines\u001b[0m\u001b[0;34m[\u001b[0m\u001b[0;34m\"unit_price\"\u001b[0m\u001b[0;34m]\u001b[0m \u001b[0;34m=\u001b[0m \u001b[0mpd\u001b[0m\u001b[0;34m.\u001b[0m\u001b[0mto_numeric\u001b[0m\u001b[0;34m(\u001b[0m\u001b[0morderlines\u001b[0m\u001b[0;34m[\u001b[0m\u001b[0;34m\"unit_price\"\u001b[0m\u001b[0;34m]\u001b[0m\u001b[0;34m)\u001b[0m\u001b[0;34m\u001b[0m\u001b[0;34m\u001b[0m\u001b[0m\n\u001b[0m",
      "\u001b[0;32m/usr/local/lib/python3.10/dist-packages/pandas/core/tools/numeric.py\u001b[0m in \u001b[0;36mto_numeric\u001b[0;34m(arg, errors, downcast)\u001b[0m\n\u001b[1;32m    183\u001b[0m         \u001b[0mcoerce_numeric\u001b[0m \u001b[0;34m=\u001b[0m \u001b[0merrors\u001b[0m \u001b[0;32mnot\u001b[0m \u001b[0;32min\u001b[0m \u001b[0;34m(\u001b[0m\u001b[0;34m\"ignore\"\u001b[0m\u001b[0;34m,\u001b[0m \u001b[0;34m\"raise\"\u001b[0m\u001b[0;34m)\u001b[0m\u001b[0;34m\u001b[0m\u001b[0;34m\u001b[0m\u001b[0m\n\u001b[1;32m    184\u001b[0m         \u001b[0;32mtry\u001b[0m\u001b[0;34m:\u001b[0m\u001b[0;34m\u001b[0m\u001b[0;34m\u001b[0m\u001b[0m\n\u001b[0;32m--> 185\u001b[0;31m             values, _ = lib.maybe_convert_numeric(\n\u001b[0m\u001b[1;32m    186\u001b[0m                 \u001b[0mvalues\u001b[0m\u001b[0;34m,\u001b[0m \u001b[0mset\u001b[0m\u001b[0;34m(\u001b[0m\u001b[0;34m)\u001b[0m\u001b[0;34m,\u001b[0m \u001b[0mcoerce_numeric\u001b[0m\u001b[0;34m=\u001b[0m\u001b[0mcoerce_numeric\u001b[0m\u001b[0;34m\u001b[0m\u001b[0;34m\u001b[0m\u001b[0m\n\u001b[1;32m    187\u001b[0m             )\n",
      "\u001b[0;32m/usr/local/lib/python3.10/dist-packages/pandas/_libs/lib.pyx\u001b[0m in \u001b[0;36mpandas._libs.lib.maybe_convert_numeric\u001b[0;34m()\u001b[0m\n",
      "\u001b[0;31mValueError\u001b[0m: Unable to parse string \"1.137.99\" at position 6"
     ]
    }
   ],
   "source": [
    "orderlines_df[\"unit_price\"] = pd.to_numeric(orderlines_df[\"unit_price\"])"
   ]
  },
  {
   "cell_type": "markdown",
   "metadata": {
    "id": "xEqhP5RFSmRi"
   },
   "source": [
    "As you can see when we try to convert `unit_price` to a numerical datatype, we receive a `ValueError` telling us that pandas doesn't understand the number `1.137.99`. This is probably because numbers cannot have 2 decimal points. Let's see if there are any other numbers like this."
   ]
  },
  {
   "cell_type": "code",
   "execution_count": null,
   "metadata": {
    "colab": {
     "base_uri": "https://localhost:8080/"
    },
    "executionInfo": {
     "elapsed": 633,
     "status": "ok",
     "timestamp": 1696854598330,
     "user": {
      "displayName": "Yanish Veerahoo",
      "userId": "12777002046449133933"
     },
     "user_tz": -120
    },
    "id": "ONy-oCt0SkrR",
    "outputId": "4ba4fb40-5923-45ce-cf87-37a3ffd98b10"
   },
   "outputs": [
    {
     "data": {
      "text/plain": [
       "False    257814\n",
       "True      36169\n",
       "Name: unit_price, dtype: int64"
      ]
     },
     "execution_count": 13,
     "metadata": {},
     "output_type": "execute_result"
    }
   ],
   "source": [
    "orderlines_df.unit_price.str.contains(\"\\d+\\.\\d+\\.\\d+\").value_counts()"
   ]
  },
  {
   "cell_type": "markdown",
   "metadata": {
    "id": "HSUPvFJU6Jv-"
   },
   "source": [
    "Looks like over 36000 rows in `orderlines` are affected by this problem. Let's work out how much that is as a percentage of our total data."
   ]
  },
  {
   "cell_type": "code",
   "execution_count": null,
   "metadata": {
    "colab": {
     "base_uri": "https://localhost:8080/"
    },
    "executionInfo": {
     "elapsed": 313,
     "status": "ok",
     "timestamp": 1696854600679,
     "user": {
      "displayName": "Yanish Veerahoo",
      "userId": "12777002046449133933"
     },
     "user_tz": -120
    },
    "id": "r75Rm1EgVjpi",
    "outputId": "b67f1097-13db-4fe6-f16a-c8931bf35f5d"
   },
   "outputs": [
    {
     "name": "stdout",
     "output_type": "stream",
     "text": [
      "The 2 dot problem represents 12.3% of the rows in our DataFrame\n"
     ]
    }
   ],
   "source": [
    "two_dot_percentage = ((orderlines_df.unit_price.str.contains(\"\\d+\\.\\d+\\.\\d+\").value_counts()[1] / orderlines_df.shape[0])*100).round(2)\n",
    "print(f\"The 2 dot problem represents {two_dot_percentage}% of the rows in our DataFrame\")"
   ]
  },
  {
   "cell_type": "markdown",
   "metadata": {
    "id": "5Kp9_4pqeu5J"
   },
   "source": [
    "This is a bit of a tricky decision as 12.3% is a significant amount of our data... and we might even end up losing a larger portion of our data than this too. For the moment we will delete the rows as we only have 2 weeks for this project and I'd like some quick, accurate results to show. If we have time at the end, we can come back and investigate this problem further, maybe there's a solution?\n",
    "\n",
    "Each row of `orderlines` represents a product in an order. For example, if order number 175 contained 3 seperate products, then order 175 would have 3 rows in `orderlines`, one row for each of the products. If 2 of those products have 'normal' prices (14.99, 15.85) and 1 has a price with 2 decimal points (1.137.99), we need to remove the whole order and not just the affected row. If we only remove the row with 2 decimal places then any later analysis about products and prices could be misleading.\n",
    "\n",
    "We therefore need to find the order numbers associated with the rows that have 2 decimal points, and then remove all the associated rows."
   ]
  },
  {
   "cell_type": "code",
   "execution_count": null,
   "metadata": {
    "id": "wQnSe-n1WCqv"
   },
   "outputs": [],
   "source": [
    "two_dot_order_ids_list = orderlines_df.loc[orderlines_df.unit_price.str.contains(\"\\d+\\.\\d+\\.\\d+\"), \"id_order\"]\n",
    "\n",
    "orderlines_df = orderlines_df.loc[~orderlines_df.id_order.isin(two_dot_order_ids_list)]"
   ]
  },
  {
   "cell_type": "code",
   "execution_count": null,
   "metadata": {
    "colab": {
     "base_uri": "https://localhost:8080/"
    },
    "executionInfo": {
     "elapsed": 320,
     "status": "ok",
     "timestamp": 1696854603799,
     "user": {
      "displayName": "Yanish Veerahoo",
      "userId": "12777002046449133933"
     },
     "user_tz": -120
    },
    "id": "k-GLzXuV0Ioj",
    "outputId": "57f7bddd-589c-4538-d35c-9afdfe080649"
   },
   "outputs": [
    {
     "data": {
      "text/plain": [
       "216250"
      ]
     },
     "execution_count": 16,
     "metadata": {},
     "output_type": "execute_result"
    }
   ],
   "source": [
    "orderlines_df.shape[0]"
   ]
  },
  {
   "cell_type": "markdown",
   "metadata": {
    "id": "2pd5t4110iz3"
   },
   "source": [
    "We still have 216250 rows in orderlines to work with. This should be more than enough for our evaluation.\n",
    "\n",
    "Now that all of the 2 decimal point prices have been removed, let's try again to convert the column `unit_price` to the correct datatype."
   ]
  },
  {
   "cell_type": "code",
   "execution_count": null,
   "metadata": {
    "id": "Q4eDTAPs1HMZ"
   },
   "outputs": [],
   "source": [
    "orderlines_df[\"unit_price\"] = pd.to_numeric(orderlines_df[\"unit_price\"])"
   ]
  },
  {
   "cell_type": "markdown",
   "metadata": {
    "id": "sBudIQLm6oJQ"
   },
   "source": [
    "It worked perfectly"
   ]
  },
  {
   "cell_type": "markdown",
   "metadata": {
    "id": "1zGAzgIX8_-D"
   },
   "source": [
    "# Challenge: Clean the `products` DataFrame\n",
    "Now it's your turn. Use the lessons you learnt above and clean the products DataFrame. You don't have to copy exactly what we did. Think about the consequences of your actions, sometimes it is ok to delete rows, other times you may wish to come up with more creative solutions."
   ]
  },
  {
   "cell_type": "code",
   "execution_count": 45,
   "metadata": {
    "id": "LtYqdFsa9KTS"
   },
   "outputs": [],
   "source": [
    "# products.csv\n",
    "url = \"https://drive.google.com/file/d/1afxwDXfl-7cQ_qLwyDitfcCx3u7WMvkU/view?usp=sharing\"\n",
    "path = \"https://drive.google.com/uc?export=download&id=\"+url.split(\"/\")[-2]\n",
    "products = pd.read_csv(path)"
   ]
  },
  {
   "cell_type": "code",
   "execution_count": 4,
   "metadata": {
    "id": "-Vb3zvDwapQA"
   },
   "outputs": [],
   "source": [
    "products_df = products.copy()"
   ]
  },
  {
   "cell_type": "code",
   "execution_count": 5,
   "metadata": {
    "colab": {
     "base_uri": "https://localhost:8080/",
     "height": 206
    },
    "executionInfo": {
     "elapsed": 5,
     "status": "ok",
     "timestamp": 1696860548940,
     "user": {
      "displayName": "Yanish Veerahoo",
      "userId": "12777002046449133933"
     },
     "user_tz": -120
    },
    "id": "UW3zYoni9Vcy",
    "outputId": "7dadf253-9d2a-4ee8-8cd1-0fddfd4b613d"
   },
   "outputs": [
    {
     "data": {
      "text/html": [
       "<div>\n",
       "<style scoped>\n",
       "    .dataframe tbody tr th:only-of-type {\n",
       "        vertical-align: middle;\n",
       "    }\n",
       "\n",
       "    .dataframe tbody tr th {\n",
       "        vertical-align: top;\n",
       "    }\n",
       "\n",
       "    .dataframe thead th {\n",
       "        text-align: right;\n",
       "    }\n",
       "</style>\n",
       "<table border=\"1\" class=\"dataframe\">\n",
       "  <thead>\n",
       "    <tr style=\"text-align: right;\">\n",
       "      <th></th>\n",
       "      <th>sku</th>\n",
       "      <th>name</th>\n",
       "      <th>desc</th>\n",
       "      <th>price</th>\n",
       "      <th>promo_price</th>\n",
       "      <th>in_stock</th>\n",
       "      <th>type</th>\n",
       "    </tr>\n",
       "  </thead>\n",
       "  <tbody>\n",
       "    <tr>\n",
       "      <th>0</th>\n",
       "      <td>RAI0007</td>\n",
       "      <td>Silver Rain Design mStand Support</td>\n",
       "      <td>Aluminum support compatible with all MacBook</td>\n",
       "      <td>59.99</td>\n",
       "      <td>499.899</td>\n",
       "      <td>1</td>\n",
       "      <td>8696</td>\n",
       "    </tr>\n",
       "    <tr>\n",
       "      <th>1</th>\n",
       "      <td>APP0023</td>\n",
       "      <td>Apple Mac Keyboard Keypad Spanish</td>\n",
       "      <td>USB ultrathin keyboard Apple Mac Spanish.</td>\n",
       "      <td>59</td>\n",
       "      <td>589.996</td>\n",
       "      <td>0</td>\n",
       "      <td>13855401</td>\n",
       "    </tr>\n",
       "    <tr>\n",
       "      <th>2</th>\n",
       "      <td>APP0025</td>\n",
       "      <td>Mighty Mouse Apple Mouse for Mac</td>\n",
       "      <td>mouse Apple USB cable.</td>\n",
       "      <td>59</td>\n",
       "      <td>569.898</td>\n",
       "      <td>0</td>\n",
       "      <td>1387</td>\n",
       "    </tr>\n",
       "    <tr>\n",
       "      <th>3</th>\n",
       "      <td>APP0072</td>\n",
       "      <td>Apple Dock to USB Cable iPhone and iPod white</td>\n",
       "      <td>IPhone dock and USB Cable Apple iPod.</td>\n",
       "      <td>25</td>\n",
       "      <td>229.997</td>\n",
       "      <td>0</td>\n",
       "      <td>1230</td>\n",
       "    </tr>\n",
       "    <tr>\n",
       "      <th>4</th>\n",
       "      <td>KIN0007</td>\n",
       "      <td>Mac Memory Kingston 2GB 667MHz DDR2 SO-DIMM</td>\n",
       "      <td>2GB RAM Mac mini and iMac (2006/07) MacBook Pro (2006/07/08).</td>\n",
       "      <td>34.99</td>\n",
       "      <td>31.99</td>\n",
       "      <td>1</td>\n",
       "      <td>1364</td>\n",
       "    </tr>\n",
       "  </tbody>\n",
       "</table>\n",
       "</div>"
      ],
      "text/plain": [
       "       sku                                           name  \\\n",
       "0  RAI0007              Silver Rain Design mStand Support   \n",
       "1  APP0023              Apple Mac Keyboard Keypad Spanish   \n",
       "2  APP0025               Mighty Mouse Apple Mouse for Mac   \n",
       "3  APP0072  Apple Dock to USB Cable iPhone and iPod white   \n",
       "4  KIN0007    Mac Memory Kingston 2GB 667MHz DDR2 SO-DIMM   \n",
       "\n",
       "                                                            desc  price  \\\n",
       "0                   Aluminum support compatible with all MacBook  59.99   \n",
       "1                      USB ultrathin keyboard Apple Mac Spanish.     59   \n",
       "2                                         mouse Apple USB cable.     59   \n",
       "3                          IPhone dock and USB Cable Apple iPod.     25   \n",
       "4  2GB RAM Mac mini and iMac (2006/07) MacBook Pro (2006/07/08).  34.99   \n",
       "\n",
       "  promo_price  in_stock      type  \n",
       "0     499.899         1      8696  \n",
       "1     589.996         0  13855401  \n",
       "2     569.898         0      1387  \n",
       "3     229.997         0      1230  \n",
       "4       31.99         1      1364  "
      ]
     },
     "execution_count": 5,
     "metadata": {},
     "output_type": "execute_result"
    }
   ],
   "source": [
    "products_df.head()"
   ]
  },
  {
   "cell_type": "code",
   "execution_count": 6,
   "metadata": {
    "colab": {
     "base_uri": "https://localhost:8080/"
    },
    "executionInfo": {
     "elapsed": 672,
     "status": "ok",
     "timestamp": 1696860551835,
     "user": {
      "displayName": "Yanish Veerahoo",
      "userId": "12777002046449133933"
     },
     "user_tz": -120
    },
    "id": "per_bjhcO0_L",
    "outputId": "5530e17e-3278-4b3b-b974-4c8bd3c01b98"
   },
   "outputs": [
    {
     "name": "stdout",
     "output_type": "stream",
     "text": [
      "<class 'pandas.core.frame.DataFrame'>\n",
      "RangeIndex: 19326 entries, 0 to 19325\n",
      "Data columns (total 7 columns):\n",
      " #   Column       Non-Null Count  Dtype \n",
      "---  ------       --------------  ----- \n",
      " 0   sku          19326 non-null  object\n",
      " 1   name         19326 non-null  object\n",
      " 2   desc         19319 non-null  object\n",
      " 3   price        19280 non-null  object\n",
      " 4   promo_price  19326 non-null  object\n",
      " 5   in_stock     19326 non-null  int64 \n",
      " 6   type         19276 non-null  object\n",
      "dtypes: int64(1), object(6)\n",
      "memory usage: 1.0+ MB\n"
     ]
    }
   ],
   "source": [
    "products_df.info()"
   ]
  },
  {
   "cell_type": "markdown",
   "metadata": {
    "id": "eJJELJjD9l3W"
   },
   "source": [
    "We'll go through the steps above in order\n",
    "* Duplicates\n",
    "* Missing values\n",
    "* Datatypes\n",
    "\n",
    "But I think we can all see straight away from `products.head()` above that some of the prices in `promo_price` look wrong. Let's make sure we deal with this later."
   ]
  },
  {
   "cell_type": "markdown",
   "metadata": {
    "id": "DyTfC-WY-IWe"
   },
   "source": [
    "## Duplicates"
   ]
  },
  {
   "cell_type": "code",
   "execution_count": 7,
   "metadata": {
    "colab": {
     "base_uri": "https://localhost:8080/"
    },
    "executionInfo": {
     "elapsed": 350,
     "status": "ok",
     "timestamp": 1696860554500,
     "user": {
      "displayName": "Yanish Veerahoo",
      "userId": "12777002046449133933"
     },
     "user_tz": -120
    },
    "id": "7WzmgCuz9X1x",
    "outputId": "3f816a08-a22f-403a-f39c-06114c1dcb3b"
   },
   "outputs": [
    {
     "data": {
      "text/plain": [
       "8746"
      ]
     },
     "execution_count": 7,
     "metadata": {},
     "output_type": "execute_result"
    }
   ],
   "source": [
    "products_df.duplicated().sum()"
   ]
  },
  {
   "cell_type": "markdown",
   "metadata": {
    "id": "goe2v94N-Oyk"
   },
   "source": [
    "Wow, that's a lot of duplicates. Let's get rid of them."
   ]
  },
  {
   "cell_type": "code",
   "execution_count": 8,
   "metadata": {
    "id": "aP-EeieW-N5i"
   },
   "outputs": [],
   "source": [
    "products_df = products_df.drop_duplicates().copy()"
   ]
  },
  {
   "cell_type": "code",
   "execution_count": 9,
   "metadata": {
    "colab": {
     "base_uri": "https://localhost:8080/",
     "height": 423
    },
    "executionInfo": {
     "elapsed": 271,
     "status": "ok",
     "timestamp": 1696862970267,
     "user": {
      "displayName": "Yanish Veerahoo",
      "userId": "12777002046449133933"
     },
     "user_tz": -120
    },
    "id": "i8kUJuWqbVXG",
    "outputId": "1a6d1a2e-f1f0-4a49-9a75-5a0ecd133a82"
   },
   "outputs": [
    {
     "data": {
      "text/html": [
       "<div>\n",
       "<style scoped>\n",
       "    .dataframe tbody tr th:only-of-type {\n",
       "        vertical-align: middle;\n",
       "    }\n",
       "\n",
       "    .dataframe tbody tr th {\n",
       "        vertical-align: top;\n",
       "    }\n",
       "\n",
       "    .dataframe thead th {\n",
       "        text-align: right;\n",
       "    }\n",
       "</style>\n",
       "<table border=\"1\" class=\"dataframe\">\n",
       "  <thead>\n",
       "    <tr style=\"text-align: right;\">\n",
       "      <th></th>\n",
       "      <th>sku</th>\n",
       "      <th>name</th>\n",
       "      <th>desc</th>\n",
       "      <th>price</th>\n",
       "      <th>promo_price</th>\n",
       "      <th>in_stock</th>\n",
       "      <th>type</th>\n",
       "    </tr>\n",
       "  </thead>\n",
       "  <tbody>\n",
       "    <tr>\n",
       "      <th>0</th>\n",
       "      <td>RAI0007</td>\n",
       "      <td>Silver Rain Design mStand Support</td>\n",
       "      <td>Aluminum support compatible with all MacBook</td>\n",
       "      <td>59.99</td>\n",
       "      <td>499.899</td>\n",
       "      <td>1</td>\n",
       "      <td>8696</td>\n",
       "    </tr>\n",
       "    <tr>\n",
       "      <th>1</th>\n",
       "      <td>APP0023</td>\n",
       "      <td>Apple Mac Keyboard Keypad Spanish</td>\n",
       "      <td>USB ultrathin keyboard Apple Mac Spanish.</td>\n",
       "      <td>59</td>\n",
       "      <td>589.996</td>\n",
       "      <td>0</td>\n",
       "      <td>13855401</td>\n",
       "    </tr>\n",
       "    <tr>\n",
       "      <th>2</th>\n",
       "      <td>APP0025</td>\n",
       "      <td>Mighty Mouse Apple Mouse for Mac</td>\n",
       "      <td>mouse Apple USB cable.</td>\n",
       "      <td>59</td>\n",
       "      <td>569.898</td>\n",
       "      <td>0</td>\n",
       "      <td>1387</td>\n",
       "    </tr>\n",
       "    <tr>\n",
       "      <th>3</th>\n",
       "      <td>APP0072</td>\n",
       "      <td>Apple Dock to USB Cable iPhone and iPod white</td>\n",
       "      <td>IPhone dock and USB Cable Apple iPod.</td>\n",
       "      <td>25</td>\n",
       "      <td>229.997</td>\n",
       "      <td>0</td>\n",
       "      <td>1230</td>\n",
       "    </tr>\n",
       "    <tr>\n",
       "      <th>4</th>\n",
       "      <td>KIN0007</td>\n",
       "      <td>Mac Memory Kingston 2GB 667MHz DDR2 SO-DIMM</td>\n",
       "      <td>2GB RAM Mac mini and iMac (2006/07) MacBook Pro (2006/07/08).</td>\n",
       "      <td>34.99</td>\n",
       "      <td>31.99</td>\n",
       "      <td>1</td>\n",
       "      <td>1364</td>\n",
       "    </tr>\n",
       "    <tr>\n",
       "      <th>...</th>\n",
       "      <td>...</td>\n",
       "      <td>...</td>\n",
       "      <td>...</td>\n",
       "      <td>...</td>\n",
       "      <td>...</td>\n",
       "      <td>...</td>\n",
       "      <td>...</td>\n",
       "    </tr>\n",
       "    <tr>\n",
       "      <th>19321</th>\n",
       "      <td>BEL0376</td>\n",
       "      <td>Belkin Travel Support Apple Watch Black</td>\n",
       "      <td>compact and portable stand vertically or horizontally for Apple Watch</td>\n",
       "      <td>29.99</td>\n",
       "      <td>269.903</td>\n",
       "      <td>1</td>\n",
       "      <td>12282</td>\n",
       "    </tr>\n",
       "    <tr>\n",
       "      <th>19322</th>\n",
       "      <td>THU0060</td>\n",
       "      <td>Enroute Thule 14L Backpack MacBook 13 \"Black</td>\n",
       "      <td>Backpack with capacity of 14 liter compartments MacBook up to 13 inches up to 10 inches Cases</td>\n",
       "      <td>69.95</td>\n",
       "      <td>649.903</td>\n",
       "      <td>1</td>\n",
       "      <td>1392</td>\n",
       "    </tr>\n",
       "    <tr>\n",
       "      <th>19323</th>\n",
       "      <td>THU0061</td>\n",
       "      <td>Enroute Thule 14L Backpack MacBook 13 \"Blue</td>\n",
       "      <td>Backpack with capacity of 14 liter compartments MacBook up to 13 inches up to 10 inches Cases</td>\n",
       "      <td>69.95</td>\n",
       "      <td>649.903</td>\n",
       "      <td>1</td>\n",
       "      <td>1392</td>\n",
       "    </tr>\n",
       "    <tr>\n",
       "      <th>19324</th>\n",
       "      <td>THU0062</td>\n",
       "      <td>Enroute Thule 14L Backpack MacBook 13 \"Red</td>\n",
       "      <td>Backpack with capacity of 14 liter compartments MacBook up to 13 inches up to 10 inches Cases</td>\n",
       "      <td>69.95</td>\n",
       "      <td>649.903</td>\n",
       "      <td>0</td>\n",
       "      <td>1392</td>\n",
       "    </tr>\n",
       "    <tr>\n",
       "      <th>19325</th>\n",
       "      <td>THU0063</td>\n",
       "      <td>Enroute Thule 14L Backpack MacBook 13 \"Green</td>\n",
       "      <td>Backpack with capacity of 14 liter compartments MacBook up to 13 inches up to 10 inches Cases</td>\n",
       "      <td>69.95</td>\n",
       "      <td>649.903</td>\n",
       "      <td>1</td>\n",
       "      <td>1392</td>\n",
       "    </tr>\n",
       "  </tbody>\n",
       "</table>\n",
       "<p>10580 rows × 7 columns</p>\n",
       "</div>"
      ],
      "text/plain": [
       "           sku                                           name  \\\n",
       "0      RAI0007              Silver Rain Design mStand Support   \n",
       "1      APP0023              Apple Mac Keyboard Keypad Spanish   \n",
       "2      APP0025               Mighty Mouse Apple Mouse for Mac   \n",
       "3      APP0072  Apple Dock to USB Cable iPhone and iPod white   \n",
       "4      KIN0007    Mac Memory Kingston 2GB 667MHz DDR2 SO-DIMM   \n",
       "...        ...                                            ...   \n",
       "19321  BEL0376        Belkin Travel Support Apple Watch Black   \n",
       "19322  THU0060   Enroute Thule 14L Backpack MacBook 13 \"Black   \n",
       "19323  THU0061    Enroute Thule 14L Backpack MacBook 13 \"Blue   \n",
       "19324  THU0062     Enroute Thule 14L Backpack MacBook 13 \"Red   \n",
       "19325  THU0063   Enroute Thule 14L Backpack MacBook 13 \"Green   \n",
       "\n",
       "                                                                                                desc  \\\n",
       "0                                                       Aluminum support compatible with all MacBook   \n",
       "1                                                          USB ultrathin keyboard Apple Mac Spanish.   \n",
       "2                                                                             mouse Apple USB cable.   \n",
       "3                                                              IPhone dock and USB Cable Apple iPod.   \n",
       "4                                      2GB RAM Mac mini and iMac (2006/07) MacBook Pro (2006/07/08).   \n",
       "...                                                                                              ...   \n",
       "19321                          compact and portable stand vertically or horizontally for Apple Watch   \n",
       "19322  Backpack with capacity of 14 liter compartments MacBook up to 13 inches up to 10 inches Cases   \n",
       "19323  Backpack with capacity of 14 liter compartments MacBook up to 13 inches up to 10 inches Cases   \n",
       "19324  Backpack with capacity of 14 liter compartments MacBook up to 13 inches up to 10 inches Cases   \n",
       "19325  Backpack with capacity of 14 liter compartments MacBook up to 13 inches up to 10 inches Cases   \n",
       "\n",
       "       price promo_price  in_stock      type  \n",
       "0      59.99     499.899         1      8696  \n",
       "1         59     589.996         0  13855401  \n",
       "2         59     569.898         0      1387  \n",
       "3         25     229.997         0      1230  \n",
       "4      34.99       31.99         1      1364  \n",
       "...      ...         ...       ...       ...  \n",
       "19321  29.99     269.903         1     12282  \n",
       "19322  69.95     649.903         1      1392  \n",
       "19323  69.95     649.903         1      1392  \n",
       "19324  69.95     649.903         0      1392  \n",
       "19325  69.95     649.903         1      1392  \n",
       "\n",
       "[10580 rows x 7 columns]"
      ]
     },
     "execution_count": 9,
     "metadata": {},
     "output_type": "execute_result"
    }
   ],
   "source": [
    "products_df"
   ]
  },
  {
   "cell_type": "markdown",
   "metadata": {
    "id": "kAgpknOR-zAg"
   },
   "source": [
    "## `.info()`"
   ]
  },
  {
   "cell_type": "code",
   "execution_count": 10,
   "metadata": {
    "colab": {
     "base_uri": "https://localhost:8080/"
    },
    "executionInfo": {
     "elapsed": 3,
     "status": "ok",
     "timestamp": 1696860726767,
     "user": {
      "displayName": "Yanish Veerahoo",
      "userId": "12777002046449133933"
     },
     "user_tz": -120
    },
    "id": "MXZXRvUa_GTW",
    "outputId": "59596508-c35c-41f7-9c29-4e791e7f34a6"
   },
   "outputs": [
    {
     "name": "stdout",
     "output_type": "stream",
     "text": [
      "<class 'pandas.core.frame.DataFrame'>\n",
      "Index: 10580 entries, 0 to 19325\n",
      "Data columns (total 7 columns):\n",
      " #   Column       Non-Null Count  Dtype \n",
      "---  ------       --------------  ----- \n",
      " 0   sku          10580 non-null  object\n",
      " 1   name         10580 non-null  object\n",
      " 2   desc         10573 non-null  object\n",
      " 3   price        10534 non-null  object\n",
      " 4   promo_price  10580 non-null  object\n",
      " 5   in_stock     10580 non-null  int64 \n",
      " 6   type         10530 non-null  object\n",
      "dtypes: int64(1), object(6)\n",
      "memory usage: 661.2+ KB\n"
     ]
    }
   ],
   "source": [
    "products_df.info()"
   ]
  },
  {
   "cell_type": "markdown",
   "metadata": {
    "id": "XTGqkqtm--ln"
   },
   "source": [
    "### Missing values\n",
    "We can see from `.info()` above that we have missing values in `desc` and `price`"
   ]
  },
  {
   "cell_type": "markdown",
   "metadata": {
    "id": "LnW3DuWh_ZFr"
   },
   "source": [
    "#### `desc`"
   ]
  },
  {
   "cell_type": "code",
   "execution_count": 11,
   "metadata": {
    "colab": {
     "base_uri": "https://localhost:8080/"
    },
    "executionInfo": {
     "elapsed": 3,
     "status": "ok",
     "timestamp": 1696860756012,
     "user": {
      "displayName": "Yanish Veerahoo",
      "userId": "12777002046449133933"
     },
     "user_tz": -120
    },
    "id": "1cS0Zz9kSNrr",
    "outputId": "86a35d22-33f6-47dd-c0ef-5e1de799c7f7"
   },
   "outputs": [
    {
     "data": {
      "text/plain": [
       "7"
      ]
     },
     "execution_count": 11,
     "metadata": {},
     "output_type": "execute_result"
    }
   ],
   "source": [
    "products_df[\"desc\"].isna().sum()"
   ]
  },
  {
   "cell_type": "markdown",
   "metadata": {
    "id": "tiRskHsWlrqC"
   },
   "source": [
    "7 is a very small number to have missing, let's have a closer look"
   ]
  },
  {
   "cell_type": "code",
   "execution_count": 12,
   "metadata": {
    "colab": {
     "base_uri": "https://localhost:8080/",
     "height": 269
    },
    "executionInfo": {
     "elapsed": 4,
     "status": "ok",
     "timestamp": 1696860771135,
     "user": {
      "displayName": "Yanish Veerahoo",
      "userId": "12777002046449133933"
     },
     "user_tz": -120
    },
    "id": "eK9_QN6H-klR",
    "outputId": "66e8eea2-1a01-4381-ced4-0e3358b5695d"
   },
   "outputs": [
    {
     "data": {
      "text/html": [
       "<div>\n",
       "<style scoped>\n",
       "    .dataframe tbody tr th:only-of-type {\n",
       "        vertical-align: middle;\n",
       "    }\n",
       "\n",
       "    .dataframe tbody tr th {\n",
       "        vertical-align: top;\n",
       "    }\n",
       "\n",
       "    .dataframe thead th {\n",
       "        text-align: right;\n",
       "    }\n",
       "</style>\n",
       "<table border=\"1\" class=\"dataframe\">\n",
       "  <thead>\n",
       "    <tr style=\"text-align: right;\">\n",
       "      <th></th>\n",
       "      <th>sku</th>\n",
       "      <th>name</th>\n",
       "      <th>desc</th>\n",
       "      <th>price</th>\n",
       "      <th>promo_price</th>\n",
       "      <th>in_stock</th>\n",
       "      <th>type</th>\n",
       "    </tr>\n",
       "  </thead>\n",
       "  <tbody>\n",
       "    <tr>\n",
       "      <th>16126</th>\n",
       "      <td>WDT0211-A</td>\n",
       "      <td>Open - Purple 2TB WD 35 \"PC Security Mac hard drive and NAS</td>\n",
       "      <td>NaN</td>\n",
       "      <td>107</td>\n",
       "      <td>814.659</td>\n",
       "      <td>0</td>\n",
       "      <td>1298</td>\n",
       "    </tr>\n",
       "    <tr>\n",
       "      <th>16128</th>\n",
       "      <td>APP1622-A</td>\n",
       "      <td>Open - Apple Smart Keyboard Pro Keyboard Folio iPad 9.7 \"</td>\n",
       "      <td>NaN</td>\n",
       "      <td>1.568.206</td>\n",
       "      <td>1.568.206</td>\n",
       "      <td>0</td>\n",
       "      <td>1298</td>\n",
       "    </tr>\n",
       "    <tr>\n",
       "      <th>17843</th>\n",
       "      <td>PAC2334</td>\n",
       "      <td>Synology DS718 + NAS Server | 10GB RAM</td>\n",
       "      <td>NaN</td>\n",
       "      <td>566.35</td>\n",
       "      <td>5.659.896</td>\n",
       "      <td>0</td>\n",
       "      <td>12175397</td>\n",
       "    </tr>\n",
       "    <tr>\n",
       "      <th>18152</th>\n",
       "      <td>KAN0034-A</td>\n",
       "      <td>Open - Kanex USB-C Gigabit Ethernet Adapter MacBook 12 \"</td>\n",
       "      <td>NaN</td>\n",
       "      <td>29.99</td>\n",
       "      <td>237.925</td>\n",
       "      <td>0</td>\n",
       "      <td>1298</td>\n",
       "    </tr>\n",
       "    <tr>\n",
       "      <th>18490</th>\n",
       "      <td>HTE0025</td>\n",
       "      <td>Hyper Pearl 1600mAh battery Mini USB Mirror and Comic Blond</td>\n",
       "      <td>NaN</td>\n",
       "      <td>24.99</td>\n",
       "      <td>22.99</td>\n",
       "      <td>1</td>\n",
       "      <td>1515</td>\n",
       "    </tr>\n",
       "    <tr>\n",
       "      <th>18612</th>\n",
       "      <td>OTT0200</td>\n",
       "      <td>OtterBox External Battery Power Pack 20000 mAHr</td>\n",
       "      <td>NaN</td>\n",
       "      <td>79.99</td>\n",
       "      <td>56.99</td>\n",
       "      <td>1</td>\n",
       "      <td>1515</td>\n",
       "    </tr>\n",
       "    <tr>\n",
       "      <th>18690</th>\n",
       "      <td>HOW0001-A</td>\n",
       "      <td>Open - Honeywell thermostat Lyric zonificador T6 Intelligent Wireless (cable)</td>\n",
       "      <td>NaN</td>\n",
       "      <td>199.99</td>\n",
       "      <td>1.441.174</td>\n",
       "      <td>0</td>\n",
       "      <td>11905404</td>\n",
       "    </tr>\n",
       "  </tbody>\n",
       "</table>\n",
       "</div>"
      ],
      "text/plain": [
       "             sku  \\\n",
       "16126  WDT0211-A   \n",
       "16128  APP1622-A   \n",
       "17843    PAC2334   \n",
       "18152  KAN0034-A   \n",
       "18490    HTE0025   \n",
       "18612    OTT0200   \n",
       "18690  HOW0001-A   \n",
       "\n",
       "                                                                                name  \\\n",
       "16126                    Open - Purple 2TB WD 35 \"PC Security Mac hard drive and NAS   \n",
       "16128                      Open - Apple Smart Keyboard Pro Keyboard Folio iPad 9.7 \"   \n",
       "17843                                         Synology DS718 + NAS Server | 10GB RAM   \n",
       "18152                       Open - Kanex USB-C Gigabit Ethernet Adapter MacBook 12 \"   \n",
       "18490                    Hyper Pearl 1600mAh battery Mini USB Mirror and Comic Blond   \n",
       "18612                                OtterBox External Battery Power Pack 20000 mAHr   \n",
       "18690  Open - Honeywell thermostat Lyric zonificador T6 Intelligent Wireless (cable)   \n",
       "\n",
       "      desc      price promo_price  in_stock      type  \n",
       "16126  NaN        107     814.659         0      1298  \n",
       "16128  NaN  1.568.206   1.568.206         0      1298  \n",
       "17843  NaN     566.35   5.659.896         0  12175397  \n",
       "18152  NaN      29.99     237.925         0      1298  \n",
       "18490  NaN      24.99       22.99         1      1515  \n",
       "18612  NaN      79.99       56.99         1      1515  \n",
       "18690  NaN     199.99   1.441.174         0  11905404  "
      ]
     },
     "execution_count": 12,
     "metadata": {},
     "output_type": "execute_result"
    }
   ],
   "source": [
    "products_df.loc[products_df['desc'].isna(), :]"
   ]
  },
  {
   "cell_type": "markdown",
   "metadata": {
    "id": "PlFfSOI5_zTB"
   },
   "source": [
    "We have 2 choices here:\n",
    "* We can quickly and easily remove these rows.\n",
    "* Or, alternatively, the products names here are quite descriptive, so I'm tempted to just copy them to the description column, so that there is a description if we later want utilise this column. I wouldn't recommend this if this DataFrame was the source of truth for our website. But this is not the case here, and we're not faking any information (guessing a price or so), so I'm happy with this option"
   ]
  },
  {
   "cell_type": "code",
   "execution_count": 15,
   "metadata": {
    "id": "Tu_ZH5e0PZ4W"
   },
   "outputs": [],
   "source": [
    "products_df.loc[products_df['desc'].isna(), 'desc'] = products_df.loc[products_df['desc'].isna(), 'name']"
   ]
  },
  {
   "cell_type": "code",
   "execution_count": 16,
   "metadata": {
    "colab": {
     "base_uri": "https://localhost:8080/",
     "height": 53
    },
    "executionInfo": {
     "elapsed": 483,
     "status": "ok",
     "timestamp": 1696861091766,
     "user": {
      "displayName": "Yanish Veerahoo",
      "userId": "12777002046449133933"
     },
     "user_tz": -120
    },
    "id": "sGYPGy8xzW0v",
    "outputId": "83ab8879-c60b-4ab6-c79d-b14311d5e72f"
   },
   "outputs": [
    {
     "data": {
      "text/html": [
       "<div>\n",
       "<style scoped>\n",
       "    .dataframe tbody tr th:only-of-type {\n",
       "        vertical-align: middle;\n",
       "    }\n",
       "\n",
       "    .dataframe tbody tr th {\n",
       "        vertical-align: top;\n",
       "    }\n",
       "\n",
       "    .dataframe thead th {\n",
       "        text-align: right;\n",
       "    }\n",
       "</style>\n",
       "<table border=\"1\" class=\"dataframe\">\n",
       "  <thead>\n",
       "    <tr style=\"text-align: right;\">\n",
       "      <th></th>\n",
       "      <th>sku</th>\n",
       "      <th>name</th>\n",
       "      <th>desc</th>\n",
       "      <th>price</th>\n",
       "      <th>promo_price</th>\n",
       "      <th>in_stock</th>\n",
       "      <th>type</th>\n",
       "    </tr>\n",
       "  </thead>\n",
       "  <tbody>\n",
       "  </tbody>\n",
       "</table>\n",
       "</div>"
      ],
      "text/plain": [
       "Empty DataFrame\n",
       "Columns: [sku, name, desc, price, promo_price, in_stock, type]\n",
       "Index: []"
      ]
     },
     "execution_count": 16,
     "metadata": {},
     "output_type": "execute_result"
    }
   ],
   "source": [
    "products_df.loc[products_df['desc'].isna(), :]"
   ]
  },
  {
   "cell_type": "markdown",
   "metadata": {
    "id": "yb37eyvIBuep"
   },
   "source": [
    "Did you also notice above that we have the dreaded two decimal point problem in both the `price` and `promo_price` columns? We can also see prices with 3 decimal places, prices should have 2 decimal places: this gives us more cause for concern"
   ]
  },
  {
   "cell_type": "markdown",
   "metadata": {
    "id": "DX9u7jeE_c95"
   },
   "source": [
    "#### `price`"
   ]
  },
  {
   "cell_type": "code",
   "execution_count": 17,
   "metadata": {
    "colab": {
     "base_uri": "https://localhost:8080/"
    },
    "executionInfo": {
     "elapsed": 3,
     "status": "ok",
     "timestamp": 1696861173392,
     "user": {
      "displayName": "Yanish Veerahoo",
      "userId": "12777002046449133933"
     },
     "user_tz": -120
    },
    "id": "AzID-a2TS6y_",
    "outputId": "7a06e65a-3ac7-41c2-87e8-61d3368fb6fd"
   },
   "outputs": [
    {
     "data": {
      "text/plain": [
       "46"
      ]
     },
     "execution_count": 17,
     "metadata": {},
     "output_type": "execute_result"
    }
   ],
   "source": [
    "products_df.price.isna().sum()"
   ]
  },
  {
   "cell_type": "code",
   "execution_count": 18,
   "metadata": {
    "colab": {
     "base_uri": "https://localhost:8080/"
    },
    "executionInfo": {
     "elapsed": 273,
     "status": "ok",
     "timestamp": 1696861196826,
     "user": {
      "displayName": "Yanish Veerahoo",
      "userId": "12777002046449133933"
     },
     "user_tz": -120
    },
    "id": "LRknumaMk9gn",
    "outputId": "049c8aef-9af2-4c99-ee7b-d95cbd83526b"
   },
   "outputs": [
    {
     "name": "stdout",
     "output_type": "stream",
     "text": [
      "The missing values in price are 0.43% of all rows in the DataFrame\n"
     ]
    },
    {
     "name": "stderr",
     "output_type": "stream",
     "text": [
      "/var/folders/ts/3b69bt6s08sdw_hm__snx_n40000gn/T/ipykernel_36046/3940564348.py:1: FutureWarning: Series.__getitem__ treating keys as positions is deprecated. In a future version, integer keys will always be treated as labels (consistent with DataFrame behavior). To access a value by position, use `ser.iloc[pos]`\n",
      "  print(f\"The missing values in price are {(products_df.price.isna().value_counts(normalize=True)[1] * 100).round(2)}% of all rows in the DataFrame\")\n"
     ]
    }
   ],
   "source": [
    "print(f\"The missing values in price are {(products_df.price.isna().value_counts(normalize=True)[1] * 100).round(2)}% of all rows in the DataFrame\")"
   ]
  },
  {
   "cell_type": "markdown",
   "metadata": {
    "id": "WVAC9q6Zldyu"
   },
   "source": [
    "Let's simply delete these rows to ensure that we can trust the numbers in our final DataFrame. Afterall, the price is very important when investigating discounts."
   ]
  },
  {
   "cell_type": "markdown",
   "metadata": {
    "id": "W7Bv1QXrTVbR"
   },
   "source": [
    "Option 1: `.loc`"
   ]
  },
  {
   "cell_type": "code",
   "execution_count": null,
   "metadata": {
    "id": "aJIuqC1LQL8u"
   },
   "outputs": [],
   "source": [
    "products_df = products_df.loc[~products['price'].isna()]"
   ]
  },
  {
   "cell_type": "markdown",
   "metadata": {
    "id": "5iShhiyRTcCz"
   },
   "source": [
    "Option 2: `.dropna()`"
   ]
  },
  {
   "cell_type": "code",
   "execution_count": 19,
   "metadata": {
    "id": "2_S5lPV3QcnR"
   },
   "outputs": [],
   "source": [
    "products_df = products_df.dropna(subset='price').copy()"
   ]
  },
  {
   "cell_type": "markdown",
   "metadata": {
    "id": "4x6xeGDu_B0N"
   },
   "source": [
    "### Data types\n",
    "\n",
    "We saw from looking at the output of `.info()` that both `price` and `promo_price` have been stored as objects and not as a numerical datatypes. We also saw while solving other problems that both columns have some prices with 3 decimal places and others with 2 decimal points - the latter will prevent us from converting the datatype to numerical, so first we must investigate and solve these problems."
   ]
  },
  {
   "cell_type": "markdown",
   "metadata": {
    "id": "u0CsTv1WnMie"
   },
   "source": [
    "#### `price`"
   ]
  },
  {
   "cell_type": "markdown",
   "metadata": {
    "id": "2mIc7YWdva5I"
   },
   "source": [
    "First, let's see how many values are affected by the 2-decimal-dot problems or 3 decimal places."
   ]
  },
  {
   "cell_type": "code",
   "execution_count": 20,
   "metadata": {},
   "outputs": [
    {
     "data": {
      "text/html": [
       "<div>\n",
       "<style scoped>\n",
       "    .dataframe tbody tr th:only-of-type {\n",
       "        vertical-align: middle;\n",
       "    }\n",
       "\n",
       "    .dataframe tbody tr th {\n",
       "        vertical-align: top;\n",
       "    }\n",
       "\n",
       "    .dataframe thead th {\n",
       "        text-align: right;\n",
       "    }\n",
       "</style>\n",
       "<table border=\"1\" class=\"dataframe\">\n",
       "  <thead>\n",
       "    <tr style=\"text-align: right;\">\n",
       "      <th></th>\n",
       "      <th>sku</th>\n",
       "      <th>name</th>\n",
       "      <th>desc</th>\n",
       "      <th>price</th>\n",
       "      <th>promo_price</th>\n",
       "      <th>in_stock</th>\n",
       "      <th>type</th>\n",
       "    </tr>\n",
       "  </thead>\n",
       "  <tbody>\n",
       "    <tr>\n",
       "      <th>14446</th>\n",
       "      <td>OTR0025-A</td>\n",
       "      <td>Open - Startech Cable DVI-I Male to DVI-I (29-pin) 18m</td>\n",
       "      <td>Cable DVI-I Male to DVI-I 18m.</td>\n",
       "      <td>14.98</td>\n",
       "      <td>109.892</td>\n",
       "      <td>0</td>\n",
       "      <td>1298</td>\n",
       "    </tr>\n",
       "    <tr>\n",
       "      <th>1897</th>\n",
       "      <td>APP0017-A</td>\n",
       "      <td>Open - Apple Keyboard Keypad for Mac Spanish</td>\n",
       "      <td>USB ultrathin Apple Keyboard Spanish for Mac.</td>\n",
       "      <td>59</td>\n",
       "      <td>494.761</td>\n",
       "      <td>0</td>\n",
       "      <td>1298</td>\n",
       "    </tr>\n",
       "    <tr>\n",
       "      <th>17130</th>\n",
       "      <td>IFX0170</td>\n",
       "      <td>Battery iFixit MacBook Pro 13 \"Retina (Late 2012 - Early 2013)</td>\n",
       "      <td>Internal Battery for Macbook Pro Retina 13-inch Late 2012 - Early 2013</td>\n",
       "      <td>119.99</td>\n",
       "      <td>1.049.899</td>\n",
       "      <td>1</td>\n",
       "      <td>10142</td>\n",
       "    </tr>\n",
       "    <tr>\n",
       "      <th>2006</th>\n",
       "      <td>PAC0713</td>\n",
       "      <td>Samsung SSD 850 expansion kit PRO 512GB + 8GB RAM 1066Mhz + Datadoubler for iMac and Mac mini 2009 2009</td>\n",
       "      <td>Upgrade kit 512GB SSD + Datadoubler Mac Mini 2009 iMac 20 Early / Mid 2009 iMac 24 Early 2009 iMac 215 inches and 27 inches tools Late 2009</td>\n",
       "      <td>465.96</td>\n",
       "      <td>3.925.845</td>\n",
       "      <td>1</td>\n",
       "      <td>1433</td>\n",
       "    </tr>\n",
       "    <tr>\n",
       "      <th>12698</th>\n",
       "      <td>OTT0143</td>\n",
       "      <td>Otterbox Clearly Protected gel Case iPhone 6 / 6S Transparent</td>\n",
       "      <td>transparent cover and a flexible piece TPU for iPhone 6 and iPhone 6s</td>\n",
       "      <td>19.99</td>\n",
       "      <td>129.906</td>\n",
       "      <td>1</td>\n",
       "      <td>11865403</td>\n",
       "    </tr>\n",
       "    <tr>\n",
       "      <th>1152</th>\n",
       "      <td>OWC0119</td>\n",
       "      <td>OWC ThunderBay 4 Thunderbolt 2 RAID 5 Edition</td>\n",
       "      <td>OWC external storage box 4 bay professional Thunderbolt 2.</td>\n",
       "      <td>701.99</td>\n",
       "      <td>5.699.899</td>\n",
       "      <td>0</td>\n",
       "      <td>11935397</td>\n",
       "    </tr>\n",
       "    <tr>\n",
       "      <th>12677</th>\n",
       "      <td>MOP0082</td>\n",
       "      <td>Mophie Power Reserve 2600 mAh battery 1X Blue</td>\n",
       "      <td>Laptop Battery 2600mAh (18A) with LED and micro / USB connection for iPhone</td>\n",
       "      <td>39.95</td>\n",
       "      <td>329.894</td>\n",
       "      <td>0</td>\n",
       "      <td>1515</td>\n",
       "    </tr>\n",
       "    <tr>\n",
       "      <th>1087</th>\n",
       "      <td>SAM0067</td>\n",
       "      <td>External Recorder Samsung Bluray White</td>\n",
       "      <td>Bluray recorder slim format supports USB 2.0 and AV XL.</td>\n",
       "      <td>90</td>\n",
       "      <td>799.931</td>\n",
       "      <td>0</td>\n",
       "      <td>1424</td>\n",
       "    </tr>\n",
       "    <tr>\n",
       "      <th>10975</th>\n",
       "      <td>GRT0391</td>\n",
       "      <td>Griffin Survivor Case Tough Journey iPhone 6 / 6S Black / White</td>\n",
       "      <td>Thin casing absorbs impact iPhone 6 / 6s.</td>\n",
       "      <td>29.99</td>\n",
       "      <td>169.896</td>\n",
       "      <td>0</td>\n",
       "      <td>11865403</td>\n",
       "    </tr>\n",
       "    <tr>\n",
       "      <th>15856</th>\n",
       "      <td>BEZ0220</td>\n",
       "      <td>Be.ez LA robe Black Addicted MacBook Pro 13 \"(Late 2016) Black / Red</td>\n",
       "      <td>compact case with full protection and eye-catching color for Macbook Pro 13-inch Late 2016</td>\n",
       "      <td>29.99</td>\n",
       "      <td>199.892</td>\n",
       "      <td>0</td>\n",
       "      <td>13835403</td>\n",
       "    </tr>\n",
       "    <tr>\n",
       "      <th>12535</th>\n",
       "      <td>PUR0140</td>\n",
       "      <td>Pure UltraSlim Case 03 + Protector iPhone 6 / 6S Plus Amarillo</td>\n",
       "      <td>03mm skinny sleeve with included screen protector for iPhone 6 / 6S Plus</td>\n",
       "      <td>12.95</td>\n",
       "      <td>119.899</td>\n",
       "      <td>0</td>\n",
       "      <td>11865403</td>\n",
       "    </tr>\n",
       "    <tr>\n",
       "      <th>3001</th>\n",
       "      <td>SAN0098</td>\n",
       "      <td>SanDisk Connect Wireless Flash Drive 32GB Wireless Black / Gold</td>\n",
       "      <td>Wireless 32GB storage for iPhone / iPad / Mac.</td>\n",
       "      <td>37.99</td>\n",
       "      <td>330.003</td>\n",
       "      <td>1</td>\n",
       "      <td>42945397</td>\n",
       "    </tr>\n",
       "    <tr>\n",
       "      <th>15624</th>\n",
       "      <td>APP2011</td>\n",
       "      <td>Apple Watch Series 1 42mm Aluminum Gold Case and Strap Sport Blue Night</td>\n",
       "      <td>Apple Watch Series 1 sports strap 42 mm with blue and gold aluminum case</td>\n",
       "      <td>369</td>\n",
       "      <td>3.690.004</td>\n",
       "      <td>0</td>\n",
       "      <td>24895185</td>\n",
       "    </tr>\n",
       "    <tr>\n",
       "      <th>15187</th>\n",
       "      <td>MUJ0031</td>\n",
       "      <td>Mujjo Single-Layered gloves color touch screen Black size M</td>\n",
       "      <td>M size gloves for touch screens.</td>\n",
       "      <td>29.95</td>\n",
       "      <td>219.901</td>\n",
       "      <td>1</td>\n",
       "      <td>11905404</td>\n",
       "    </tr>\n",
       "    <tr>\n",
       "      <th>16889</th>\n",
       "      <td>PAC1942</td>\n",
       "      <td>Apple Mac Pro 35GHz 6 cores | 64GB RAM | 256GB PCIe SSD</td>\n",
       "      <td>New Mac Pro with 64GB of RAM and two 6-core GPU 35GHz AMD FirePro D500 (MD878Y / A)</td>\n",
       "      <td>4895.59</td>\n",
       "      <td>40.990.045</td>\n",
       "      <td>0</td>\n",
       "      <td>21632158</td>\n",
       "    </tr>\n",
       "    <tr>\n",
       "      <th>12128</th>\n",
       "      <td>UAG0037</td>\n",
       "      <td>Urban Armor Gear Case iPad Pro 97 \"Red / Black</td>\n",
       "      <td>Super durable Case for iPad Pro 97</td>\n",
       "      <td>499.899</td>\n",
       "      <td>499.899</td>\n",
       "      <td>0</td>\n",
       "      <td>12635403</td>\n",
       "    </tr>\n",
       "    <tr>\n",
       "      <th>15174</th>\n",
       "      <td>TWS0108</td>\n",
       "      <td>Twelve South ActionSleeve Apple Watch Bracelet 38mm Red</td>\n",
       "      <td>Sports Armband for Apple Watch 38mm</td>\n",
       "      <td>35</td>\n",
       "      <td>299.899</td>\n",
       "      <td>1</td>\n",
       "      <td>5405</td>\n",
       "    </tr>\n",
       "    <tr>\n",
       "      <th>2318</th>\n",
       "      <td>MOX0016</td>\n",
       "      <td>Moxie 2.5D Tempered glass iPhone 6s Plus / 6 Plus</td>\n",
       "      <td>Screen Saver tempered glass for iPhone 6s Plus / 6 Plus.</td>\n",
       "      <td>11.99</td>\n",
       "      <td>89.903</td>\n",
       "      <td>0</td>\n",
       "      <td>13555403</td>\n",
       "    </tr>\n",
       "    <tr>\n",
       "      <th>536</th>\n",
       "      <td>SEV0028</td>\n",
       "      <td>Budget Request repair Apple MacBook Pro</td>\n",
       "      <td>diagnosis to repair MacBook Pro.</td>\n",
       "      <td>199.892</td>\n",
       "      <td>199.892</td>\n",
       "      <td>0</td>\n",
       "      <td>1,46E+11</td>\n",
       "    </tr>\n",
       "    <tr>\n",
       "      <th>11902</th>\n",
       "      <td>LOG0142-A</td>\n",
       "      <td>(Open) Logitech Type + Keyboard Folio iPad Air 2 Black</td>\n",
       "      <td>Keyboard Case for iPad Air 2.</td>\n",
       "      <td>125</td>\n",
       "      <td>109.989</td>\n",
       "      <td>0</td>\n",
       "      <td>1298</td>\n",
       "    </tr>\n",
       "    <tr>\n",
       "      <th>1189</th>\n",
       "      <td>DLK0083</td>\n",
       "      <td>D-Link Adapter DWA-125 Wireless USB 150 N</td>\n",
       "      <td>DLink Wireless Adapter Wireless USB 2.0 with speeds up to 150Mbps.</td>\n",
       "      <td>19.99</td>\n",
       "      <td>169.884</td>\n",
       "      <td>0</td>\n",
       "      <td>1334</td>\n",
       "    </tr>\n",
       "    <tr>\n",
       "      <th>2569</th>\n",
       "      <td>JBL0097</td>\n",
       "      <td>JBL GO Bluetooth Speaker Blue</td>\n",
       "      <td>Compact Bluetooth Handsfree for iPhone iPad and iPod speaker.</td>\n",
       "      <td>29.99</td>\n",
       "      <td>27.99</td>\n",
       "      <td>1</td>\n",
       "      <td>5398</td>\n",
       "    </tr>\n",
       "    <tr>\n",
       "      <th>13678</th>\n",
       "      <td>TUC0190-A</td>\n",
       "      <td>(Open) Tucano Folio Case Filo Black iPad Air 2</td>\n",
       "      <td>Hard Case for iPad Air 2</td>\n",
       "      <td>39.99</td>\n",
       "      <td>151.791</td>\n",
       "      <td>0</td>\n",
       "      <td>1298</td>\n",
       "    </tr>\n",
       "    <tr>\n",
       "      <th>957</th>\n",
       "      <td>LEP0008</td>\n",
       "      <td>Lepow Modre Wireless Speaker Green</td>\n",
       "      <td>Portable bluetooth speaker surround sound.</td>\n",
       "      <td>49.99</td>\n",
       "      <td>239.943</td>\n",
       "      <td>0</td>\n",
       "      <td>5398</td>\n",
       "    </tr>\n",
       "    <tr>\n",
       "      <th>19221</th>\n",
       "      <td>WAC0250</td>\n",
       "      <td>Education - Wacom Intuos Graphics Tablet S Black</td>\n",
       "      <td>small graphic tablet with creative art software worth 60 euros included</td>\n",
       "      <td>79</td>\n",
       "      <td>649.903</td>\n",
       "      <td>1</td>\n",
       "      <td>1405</td>\n",
       "    </tr>\n",
       "    <tr>\n",
       "      <th>1259</th>\n",
       "      <td>TUC0177</td>\n",
       "      <td>Tucano Fabric Case iPhone 6 Plus Black</td>\n",
       "      <td>Cover for iPhone 6 Plus ultra light polycarbonate.</td>\n",
       "      <td>12.99</td>\n",
       "      <td>128.986</td>\n",
       "      <td>0</td>\n",
       "      <td>11865403</td>\n",
       "    </tr>\n",
       "    <tr>\n",
       "      <th>18846</th>\n",
       "      <td>AP20067</td>\n",
       "      <td>Very Good - Apple iMac 20 \"Core 2 Duo 226GHz | 2GB RAM | 160GB HDD</td>\n",
       "      <td>Refurbished iMac 20 inch Core 2 Duo 226GHz | 2GB RAM | 160GB HDD</td>\n",
       "      <td>1199</td>\n",
       "      <td>3.755.949</td>\n",
       "      <td>0</td>\n",
       "      <td>5,43E+15</td>\n",
       "    </tr>\n",
       "    <tr>\n",
       "      <th>17113</th>\n",
       "      <td>SAN0182</td>\n",
       "      <td>Sandisk Extreme Memory Card 128GB v30 microSDXC UHS-I 100MB / s-90MB / s</td>\n",
       "      <td>Memory card read speed 100MB / s and speed of video: U3 C10 and V30</td>\n",
       "      <td>99.99</td>\n",
       "      <td>82.28</td>\n",
       "      <td>1</td>\n",
       "      <td>57445397</td>\n",
       "    </tr>\n",
       "    <tr>\n",
       "      <th>2450</th>\n",
       "      <td>LIF0063</td>\n",
       "      <td>Lifeproof fre iPhone 5 Waterproof Case White / Gray</td>\n",
       "      <td>waterproof case and extreme conditions for iPhone 5 / 5S.</td>\n",
       "      <td>79.99</td>\n",
       "      <td>249.865</td>\n",
       "      <td>0</td>\n",
       "      <td>11865403</td>\n",
       "    </tr>\n",
       "    <tr>\n",
       "      <th>12968</th>\n",
       "      <td>OSM0007</td>\n",
       "      <td>Osmo Game Genius Kit for iPad (Base + Words + Tangram + Numbers)</td>\n",
       "      <td>Children play with 3 educational accessories and free APP for iPad</td>\n",
       "      <td>119.95</td>\n",
       "      <td>1.099.902</td>\n",
       "      <td>1</td>\n",
       "      <td>11905404</td>\n",
       "    </tr>\n",
       "    <tr>\n",
       "      <th>12701</th>\n",
       "      <td>MDT0007-A</td>\n",
       "      <td>(Open) Mediterrans cover iPhone 6 / 6s Blue Menorca</td>\n",
       "      <td>Cover with matte finishes iPhone 6 / 6s Blue Menorca</td>\n",
       "      <td>19</td>\n",
       "      <td>99.985</td>\n",
       "      <td>0</td>\n",
       "      <td>1298</td>\n",
       "    </tr>\n",
       "    <tr>\n",
       "      <th>11351</th>\n",
       "      <td>SAM0093</td>\n",
       "      <td>Samsung S22E450F 215 Monitor \"</td>\n",
       "      <td>Monitor FHD detachable LED 215 inches.</td>\n",
       "      <td>169.99</td>\n",
       "      <td>1.689.898</td>\n",
       "      <td>0</td>\n",
       "      <td>1296</td>\n",
       "    </tr>\n",
       "    <tr>\n",
       "      <th>13020</th>\n",
       "      <td>CRU0053</td>\n",
       "      <td>Disk 1TB SSD Crucial MX300</td>\n",
       "      <td>1050GB SSD Hard Drive SATA 3.0 (6Gb / s) for Mac and PC</td>\n",
       "      <td>293.34</td>\n",
       "      <td>2.489.938</td>\n",
       "      <td>1</td>\n",
       "      <td>12215397</td>\n",
       "    </tr>\n",
       "    <tr>\n",
       "      <th>15846</th>\n",
       "      <td>WDT0246-A</td>\n",
       "      <td>Open - Western Digital 6TB Green 35 \"5400rpm hard drive Mac and PC</td>\n",
       "      <td>WD 6TB hard drive (WD60EZRX) for Mac YPC</td>\n",
       "      <td>279</td>\n",
       "      <td>2.174.945</td>\n",
       "      <td>0</td>\n",
       "      <td>1298</td>\n",
       "    </tr>\n",
       "    <tr>\n",
       "      <th>12692</th>\n",
       "      <td>OTT0137</td>\n",
       "      <td>Otterbox iPhone Case Symmetry 2.0 SE / 5s / 5 Blue</td>\n",
       "      <td>resistant cover and thin beveled edges for iPhone SE / 5s / 5</td>\n",
       "      <td>34.99</td>\n",
       "      <td>199.904</td>\n",
       "      <td>0</td>\n",
       "      <td>11865403</td>\n",
       "    </tr>\n",
       "    <tr>\n",
       "      <th>15277</th>\n",
       "      <td>PHI0048-A</td>\n",
       "      <td>Open - Philips Living Colors Bloom Iris Hue independent</td>\n",
       "      <td>Iris Bloom Colors LED bulb expansion Hue</td>\n",
       "      <td>79.95</td>\n",
       "      <td>610.476</td>\n",
       "      <td>0</td>\n",
       "      <td>1298</td>\n",
       "    </tr>\n",
       "    <tr>\n",
       "      <th>497</th>\n",
       "      <td>DRO0016</td>\n",
       "      <td>Drobo Mini USB 3.0 Thunderbolt Mac and PC RAID System</td>\n",
       "      <td>Mac and PC RAID 4 bay with USB 3.0 Thunderbolt.</td>\n",
       "      <td>699</td>\n",
       "      <td>6.199.919</td>\n",
       "      <td>0</td>\n",
       "      <td>11935397</td>\n",
       "    </tr>\n",
       "    <tr>\n",
       "      <th>17012</th>\n",
       "      <td>PAC1693</td>\n",
       "      <td>Pack QNAP TS-251A NAS Server | 16 GB</td>\n",
       "      <td>NAS with 16GB of RAM for Mac and PC</td>\n",
       "      <td>491.67</td>\n",
       "      <td>4.639.902</td>\n",
       "      <td>0</td>\n",
       "      <td>12175397</td>\n",
       "    </tr>\n",
       "    <tr>\n",
       "      <th>15014</th>\n",
       "      <td>PAC1913</td>\n",
       "      <td>Macally External Hard Drive 1TB 25 \"USB 3.0</td>\n",
       "      <td>External Hard Drive 1TB 5400rpm aluminum housing 25 and USB 3.0 connection for Mac and PC</td>\n",
       "      <td>98.98</td>\n",
       "      <td>585.846</td>\n",
       "      <td>0</td>\n",
       "      <td>11935397</td>\n",
       "    </tr>\n",
       "    <tr>\n",
       "      <th>527</th>\n",
       "      <td>MOP0027</td>\n",
       "      <td>Mophie Juice Pack Helium (1500mAh) battery cover iPhone SE / 5s / 5 gray</td>\n",
       "      <td>IPhone Battery Case SE / 5s / 5 plastic and metal.</td>\n",
       "      <td>79.99</td>\n",
       "      <td>649.891</td>\n",
       "      <td>0</td>\n",
       "      <td>5,49E+11</td>\n",
       "    </tr>\n",
       "    <tr>\n",
       "      <th>11593</th>\n",
       "      <td>LGE0030</td>\n",
       "      <td>LG 34UM88-P Monitor 34 \"IPS QHD Thunderbolt 2</td>\n",
       "      <td>Monitor 34 inches Thunderbolt 2 QHD adjustable height Adobe 99% with speakers.</td>\n",
       "      <td>699</td>\n",
       "      <td>6.199.895</td>\n",
       "      <td>1</td>\n",
       "      <td>1296</td>\n",
       "    </tr>\n",
       "    <tr>\n",
       "      <th>15827</th>\n",
       "      <td>NTE0109-A</td>\n",
       "      <td>Open - OWC Maxpower 2-port eSATA 6Gb / s PCIe 2 Port USB3 Mac Pro</td>\n",
       "      <td>NewerTech eSATA PCIe adapter card for Mac Pro and USB3 2006-2012.</td>\n",
       "      <td>181.99</td>\n",
       "      <td>1.348.993</td>\n",
       "      <td>0</td>\n",
       "      <td>1298</td>\n",
       "    </tr>\n",
       "    <tr>\n",
       "      <th>17567</th>\n",
       "      <td>AP20299</td>\n",
       "      <td>Like new - Apple Smart Cover with Keyboard English Keyboard iPad Pro 12.9 \"</td>\n",
       "      <td>Reconditioned cover keyboard support Apple Keyboard</td>\n",
       "      <td>179</td>\n",
       "      <td>799.931</td>\n",
       "      <td>0</td>\n",
       "      <td>5403</td>\n",
       "    </tr>\n",
       "    <tr>\n",
       "      <th>13504</th>\n",
       "      <td>WAC0205</td>\n",
       "      <td>Wacom Bamboo Stylus Duo 4 Blue</td>\n",
       "      <td>digital pen and pencil with built-in triangular design for iPad and iPhone</td>\n",
       "      <td>29.9</td>\n",
       "      <td>169.884</td>\n",
       "      <td>1</td>\n",
       "      <td>1229</td>\n",
       "    </tr>\n",
       "    <tr>\n",
       "      <th>13035</th>\n",
       "      <td>PAC1500</td>\n",
       "      <td>Kit Samsung SSD 850 EVO expansion 2TB iMac 27 \"2012-2015</td>\n",
       "      <td>SSD upgrade kit for 2TB iMac Late 2012 Late 2015</td>\n",
       "      <td>807.97</td>\n",
       "      <td>7.215.847</td>\n",
       "      <td>0</td>\n",
       "      <td>1433</td>\n",
       "    </tr>\n",
       "    <tr>\n",
       "      <th>16177</th>\n",
       "      <td>PAC2084</td>\n",
       "      <td>Apple iMac 27 \"Core i5 3.5GHz Retina 5K | 32GB | 2TB Fusion</td>\n",
       "      <td>IMac desktop computer 27 inch Retina 5K RAM 32GB (2x16GB) with 2TB Fusion</td>\n",
       "      <td>3259</td>\n",
       "      <td>28.370.045</td>\n",
       "      <td>0</td>\n",
       "      <td>5,74E+15</td>\n",
       "    </tr>\n",
       "    <tr>\n",
       "      <th>14601</th>\n",
       "      <td>SAT0037</td>\n",
       "      <td>Satechi Silver Aluminum Bluetooth Headset</td>\n",
       "      <td>Bluetooth headset with microphone and port Jack 3.5 for iPhone iPad and iPod</td>\n",
       "      <td>79.99</td>\n",
       "      <td>569.898</td>\n",
       "      <td>1</td>\n",
       "      <td>5384</td>\n",
       "    </tr>\n",
       "    <tr>\n",
       "      <th>6183</th>\n",
       "      <td>PAC1065</td>\n",
       "      <td>Apple iMac 27 \"Core i7 Retina 5K 4GHz | 16GB | 512GB Flash | R9 M395X 4GB</td>\n",
       "      <td>IMac desktop computer 27 inch 5K Retina i7 4GHz 512GB Flash RAM 16GB R9 M395X 4GB (MK482Y / A).</td>\n",
       "      <td>3709</td>\n",
       "      <td>31.999.902</td>\n",
       "      <td>0</td>\n",
       "      <td>5,74E+15</td>\n",
       "    </tr>\n",
       "    <tr>\n",
       "      <th>2249</th>\n",
       "      <td>APP0976</td>\n",
       "      <td>Apple MacBook Pro Retina 13 \"i7 3GHz | 8GB RAM | 1TB Flash</td>\n",
       "      <td>New MacBook Pro 13-inch Retina Display i7 3GHz Flash 8GB RAM 1TB (MF841Y / A).</td>\n",
       "      <td>2809</td>\n",
       "      <td>26.219.901</td>\n",
       "      <td>0</td>\n",
       "      <td>1282</td>\n",
       "    </tr>\n",
       "    <tr>\n",
       "      <th>2938</th>\n",
       "      <td>MUV0167</td>\n",
       "      <td>Muvit belt with waterproof window Touchscreen Black</td>\n",
       "      <td>Muvit belt / shoulder bag with waterproof pocket for iPhone and iPod.</td>\n",
       "      <td>19.95</td>\n",
       "      <td>119.899</td>\n",
       "      <td>0</td>\n",
       "      <td>11865403</td>\n",
       "    </tr>\n",
       "  </tbody>\n",
       "</table>\n",
       "</div>"
      ],
      "text/plain": [
       "             sku  \\\n",
       "14446  OTR0025-A   \n",
       "1897   APP0017-A   \n",
       "17130    IFX0170   \n",
       "2006     PAC0713   \n",
       "12698    OTT0143   \n",
       "1152     OWC0119   \n",
       "12677    MOP0082   \n",
       "1087     SAM0067   \n",
       "10975    GRT0391   \n",
       "15856    BEZ0220   \n",
       "12535    PUR0140   \n",
       "3001     SAN0098   \n",
       "15624    APP2011   \n",
       "15187    MUJ0031   \n",
       "16889    PAC1942   \n",
       "12128    UAG0037   \n",
       "15174    TWS0108   \n",
       "2318     MOX0016   \n",
       "536      SEV0028   \n",
       "11902  LOG0142-A   \n",
       "1189     DLK0083   \n",
       "2569     JBL0097   \n",
       "13678  TUC0190-A   \n",
       "957      LEP0008   \n",
       "19221    WAC0250   \n",
       "1259     TUC0177   \n",
       "18846    AP20067   \n",
       "17113    SAN0182   \n",
       "2450     LIF0063   \n",
       "12968    OSM0007   \n",
       "12701  MDT0007-A   \n",
       "11351    SAM0093   \n",
       "13020    CRU0053   \n",
       "15846  WDT0246-A   \n",
       "12692    OTT0137   \n",
       "15277  PHI0048-A   \n",
       "497      DRO0016   \n",
       "17012    PAC1693   \n",
       "15014    PAC1913   \n",
       "527      MOP0027   \n",
       "11593    LGE0030   \n",
       "15827  NTE0109-A   \n",
       "17567    AP20299   \n",
       "13504    WAC0205   \n",
       "13035    PAC1500   \n",
       "16177    PAC2084   \n",
       "14601    SAT0037   \n",
       "6183     PAC1065   \n",
       "2249     APP0976   \n",
       "2938     MUV0167   \n",
       "\n",
       "                                                                                                          name  \\\n",
       "14446                                                   Open - Startech Cable DVI-I Male to DVI-I (29-pin) 18m   \n",
       "1897                                                              Open - Apple Keyboard Keypad for Mac Spanish   \n",
       "17130                                           Battery iFixit MacBook Pro 13 \"Retina (Late 2012 - Early 2013)   \n",
       "2006   Samsung SSD 850 expansion kit PRO 512GB + 8GB RAM 1066Mhz + Datadoubler for iMac and Mac mini 2009 2009   \n",
       "12698                                            Otterbox Clearly Protected gel Case iPhone 6 / 6S Transparent   \n",
       "1152                                                             OWC ThunderBay 4 Thunderbolt 2 RAID 5 Edition   \n",
       "12677                                                            Mophie Power Reserve 2600 mAh battery 1X Blue   \n",
       "1087                                                                    External Recorder Samsung Bluray White   \n",
       "10975                                          Griffin Survivor Case Tough Journey iPhone 6 / 6S Black / White   \n",
       "15856                                     Be.ez LA robe Black Addicted MacBook Pro 13 \"(Late 2016) Black / Red   \n",
       "12535                                           Pure UltraSlim Case 03 + Protector iPhone 6 / 6S Plus Amarillo   \n",
       "3001                                           SanDisk Connect Wireless Flash Drive 32GB Wireless Black / Gold   \n",
       "15624                                  Apple Watch Series 1 42mm Aluminum Gold Case and Strap Sport Blue Night   \n",
       "15187                                              Mujjo Single-Layered gloves color touch screen Black size M   \n",
       "16889                                                  Apple Mac Pro 35GHz 6 cores | 64GB RAM | 256GB PCIe SSD   \n",
       "12128                                                           Urban Armor Gear Case iPad Pro 97 \"Red / Black   \n",
       "15174                                                  Twelve South ActionSleeve Apple Watch Bracelet 38mm Red   \n",
       "2318                                                         Moxie 2.5D Tempered glass iPhone 6s Plus / 6 Plus   \n",
       "536                                                                    Budget Request repair Apple MacBook Pro   \n",
       "11902                                                   (Open) Logitech Type + Keyboard Folio iPad Air 2 Black   \n",
       "1189                                                                 D-Link Adapter DWA-125 Wireless USB 150 N   \n",
       "2569                                                                             JBL GO Bluetooth Speaker Blue   \n",
       "13678                                                           (Open) Tucano Folio Case Filo Black iPad Air 2   \n",
       "957                                                                         Lepow Modre Wireless Speaker Green   \n",
       "19221                                                         Education - Wacom Intuos Graphics Tablet S Black   \n",
       "1259                                                                    Tucano Fabric Case iPhone 6 Plus Black   \n",
       "18846                                       Very Good - Apple iMac 20 \"Core 2 Duo 226GHz | 2GB RAM | 160GB HDD   \n",
       "17113                                 Sandisk Extreme Memory Card 128GB v30 microSDXC UHS-I 100MB / s-90MB / s   \n",
       "2450                                                       Lifeproof fre iPhone 5 Waterproof Case White / Gray   \n",
       "12968                                         Osmo Game Genius Kit for iPad (Base + Words + Tangram + Numbers)   \n",
       "12701                                                      (Open) Mediterrans cover iPhone 6 / 6s Blue Menorca   \n",
       "11351                                                                           Samsung S22E450F 215 Monitor \"   \n",
       "13020                                                                               Disk 1TB SSD Crucial MX300   \n",
       "15846                                       Open - Western Digital 6TB Green 35 \"5400rpm hard drive Mac and PC   \n",
       "12692                                                       Otterbox iPhone Case Symmetry 2.0 SE / 5s / 5 Blue   \n",
       "15277                                                  Open - Philips Living Colors Bloom Iris Hue independent   \n",
       "497                                                      Drobo Mini USB 3.0 Thunderbolt Mac and PC RAID System   \n",
       "17012                                                                     Pack QNAP TS-251A NAS Server | 16 GB   \n",
       "15014                                                              Macally External Hard Drive 1TB 25 \"USB 3.0   \n",
       "527                                   Mophie Juice Pack Helium (1500mAh) battery cover iPhone SE / 5s / 5 gray   \n",
       "11593                                                            LG 34UM88-P Monitor 34 \"IPS QHD Thunderbolt 2   \n",
       "15827                                        Open - OWC Maxpower 2-port eSATA 6Gb / s PCIe 2 Port USB3 Mac Pro   \n",
       "17567                              Like new - Apple Smart Cover with Keyboard English Keyboard iPad Pro 12.9 \"   \n",
       "13504                                                                           Wacom Bamboo Stylus Duo 4 Blue   \n",
       "13035                                                 Kit Samsung SSD 850 EVO expansion 2TB iMac 27 \"2012-2015   \n",
       "16177                                              Apple iMac 27 \"Core i5 3.5GHz Retina 5K | 32GB | 2TB Fusion   \n",
       "14601                                                                Satechi Silver Aluminum Bluetooth Headset   \n",
       "6183                                 Apple iMac 27 \"Core i7 Retina 5K 4GHz | 16GB | 512GB Flash | R9 M395X 4GB   \n",
       "2249                                                Apple MacBook Pro Retina 13 \"i7 3GHz | 8GB RAM | 1TB Flash   \n",
       "2938                                                       Muvit belt with waterproof window Touchscreen Black   \n",
       "\n",
       "                                                                                                                                              desc  \\\n",
       "14446                                                                                                               Cable DVI-I Male to DVI-I 18m.   \n",
       "1897                                                                                                 USB ultrathin Apple Keyboard Spanish for Mac.   \n",
       "17130                                                                       Internal Battery for Macbook Pro Retina 13-inch Late 2012 - Early 2013   \n",
       "2006   Upgrade kit 512GB SSD + Datadoubler Mac Mini 2009 iMac 20 Early / Mid 2009 iMac 24 Early 2009 iMac 215 inches and 27 inches tools Late 2009   \n",
       "12698                                                                        transparent cover and a flexible piece TPU for iPhone 6 and iPhone 6s   \n",
       "1152                                                                                    OWC external storage box 4 bay professional Thunderbolt 2.   \n",
       "12677                                                                  Laptop Battery 2600mAh (18A) with LED and micro / USB connection for iPhone   \n",
       "1087                                                                                       Bluray recorder slim format supports USB 2.0 and AV XL.   \n",
       "10975                                                                                                    Thin casing absorbs impact iPhone 6 / 6s.   \n",
       "15856                                                   compact case with full protection and eye-catching color for Macbook Pro 13-inch Late 2016   \n",
       "12535                                                                     03mm skinny sleeve with included screen protector for iPhone 6 / 6S Plus   \n",
       "3001                                                                                                Wireless 32GB storage for iPhone / iPad / Mac.   \n",
       "15624                                                                     Apple Watch Series 1 sports strap 42 mm with blue and gold aluminum case   \n",
       "15187                                                                                                             M size gloves for touch screens.   \n",
       "16889                                                          New Mac Pro with 64GB of RAM and two 6-core GPU 35GHz AMD FirePro D500 (MD878Y / A)   \n",
       "12128                                                                                                           Super durable Case for iPad Pro 97   \n",
       "15174                                                                                                          Sports Armband for Apple Watch 38mm   \n",
       "2318                                                                                      Screen Saver tempered glass for iPhone 6s Plus / 6 Plus.   \n",
       "536                                                                                                               diagnosis to repair MacBook Pro.   \n",
       "11902                                                                                                                Keyboard Case for iPad Air 2.   \n",
       "1189                                                                            DLink Wireless Adapter Wireless USB 2.0 with speeds up to 150Mbps.   \n",
       "2569                                                                                 Compact Bluetooth Handsfree for iPhone iPad and iPod speaker.   \n",
       "13678                                                                                                                     Hard Case for iPad Air 2   \n",
       "957                                                                                                     Portable bluetooth speaker surround sound.   \n",
       "19221                                                                      small graphic tablet with creative art software worth 60 euros included   \n",
       "1259                                                                                            Cover for iPhone 6 Plus ultra light polycarbonate.   \n",
       "18846                                                                             Refurbished iMac 20 inch Core 2 Duo 226GHz | 2GB RAM | 160GB HDD   \n",
       "17113                                                                          Memory card read speed 100MB / s and speed of video: U3 C10 and V30   \n",
       "2450                                                                                     waterproof case and extreme conditions for iPhone 5 / 5S.   \n",
       "12968                                                                           Children play with 3 educational accessories and free APP for iPad   \n",
       "12701                                                                                         Cover with matte finishes iPhone 6 / 6s Blue Menorca   \n",
       "11351                                                                                                       Monitor FHD detachable LED 215 inches.   \n",
       "13020                                                                                      1050GB SSD Hard Drive SATA 3.0 (6Gb / s) for Mac and PC   \n",
       "15846                                                                                                     WD 6TB hard drive (WD60EZRX) for Mac YPC   \n",
       "12692                                                                                resistant cover and thin beveled edges for iPhone SE / 5s / 5   \n",
       "15277                                                                                                     Iris Bloom Colors LED bulb expansion Hue   \n",
       "497                                                                                                Mac and PC RAID 4 bay with USB 3.0 Thunderbolt.   \n",
       "17012                                                                                                          NAS with 16GB of RAM for Mac and PC   \n",
       "15014                                                    External Hard Drive 1TB 5400rpm aluminum housing 25 and USB 3.0 connection for Mac and PC   \n",
       "527                                                                                             IPhone Battery Case SE / 5s / 5 plastic and metal.   \n",
       "11593                                                               Monitor 34 inches Thunderbolt 2 QHD adjustable height Adobe 99% with speakers.   \n",
       "15827                                                                            NewerTech eSATA PCIe adapter card for Mac Pro and USB3 2006-2012.   \n",
       "17567                                                                                          Reconditioned cover keyboard support Apple Keyboard   \n",
       "13504                                                                   digital pen and pencil with built-in triangular design for iPad and iPhone   \n",
       "13035                                                                                             SSD upgrade kit for 2TB iMac Late 2012 Late 2015   \n",
       "16177                                                                    IMac desktop computer 27 inch Retina 5K RAM 32GB (2x16GB) with 2TB Fusion   \n",
       "14601                                                                 Bluetooth headset with microphone and port Jack 3.5 for iPhone iPad and iPod   \n",
       "6183                                               IMac desktop computer 27 inch 5K Retina i7 4GHz 512GB Flash RAM 16GB R9 M395X 4GB (MK482Y / A).   \n",
       "2249                                                                New MacBook Pro 13-inch Retina Display i7 3GHz Flash 8GB RAM 1TB (MF841Y / A).   \n",
       "2938                                                                         Muvit belt / shoulder bag with waterproof pocket for iPhone and iPod.   \n",
       "\n",
       "         price promo_price  in_stock      type  \n",
       "14446    14.98     109.892         0      1298  \n",
       "1897        59     494.761         0      1298  \n",
       "17130   119.99   1.049.899         1     10142  \n",
       "2006    465.96   3.925.845         1      1433  \n",
       "12698    19.99     129.906         1  11865403  \n",
       "1152    701.99   5.699.899         0  11935397  \n",
       "12677    39.95     329.894         0      1515  \n",
       "1087        90     799.931         0      1424  \n",
       "10975    29.99     169.896         0  11865403  \n",
       "15856    29.99     199.892         0  13835403  \n",
       "12535    12.95     119.899         0  11865403  \n",
       "3001     37.99     330.003         1  42945397  \n",
       "15624      369   3.690.004         0  24895185  \n",
       "15187    29.95     219.901         1  11905404  \n",
       "16889  4895.59  40.990.045         0  21632158  \n",
       "12128  499.899     499.899         0  12635403  \n",
       "15174       35     299.899         1      5405  \n",
       "2318     11.99      89.903         0  13555403  \n",
       "536    199.892     199.892         0  1,46E+11  \n",
       "11902      125     109.989         0      1298  \n",
       "1189     19.99     169.884         0      1334  \n",
       "2569     29.99       27.99         1      5398  \n",
       "13678    39.99     151.791         0      1298  \n",
       "957      49.99     239.943         0      5398  \n",
       "19221       79     649.903         1      1405  \n",
       "1259     12.99     128.986         0  11865403  \n",
       "18846     1199   3.755.949         0  5,43E+15  \n",
       "17113    99.99       82.28         1  57445397  \n",
       "2450     79.99     249.865         0  11865403  \n",
       "12968   119.95   1.099.902         1  11905404  \n",
       "12701       19      99.985         0      1298  \n",
       "11351   169.99   1.689.898         0      1296  \n",
       "13020   293.34   2.489.938         1  12215397  \n",
       "15846      279   2.174.945         0      1298  \n",
       "12692    34.99     199.904         0  11865403  \n",
       "15277    79.95     610.476         0      1298  \n",
       "497        699   6.199.919         0  11935397  \n",
       "17012   491.67   4.639.902         0  12175397  \n",
       "15014    98.98     585.846         0  11935397  \n",
       "527      79.99     649.891         0  5,49E+11  \n",
       "11593      699   6.199.895         1      1296  \n",
       "15827   181.99   1.348.993         0      1298  \n",
       "17567      179     799.931         0      5403  \n",
       "13504     29.9     169.884         1      1229  \n",
       "13035   807.97   7.215.847         0      1433  \n",
       "16177     3259  28.370.045         0  5,74E+15  \n",
       "14601    79.99     569.898         1      5384  \n",
       "6183      3709  31.999.902         0  5,74E+15  \n",
       "2249      2809  26.219.901         0      1282  \n",
       "2938     19.95     119.899         0  11865403  "
      ]
     },
     "execution_count": 20,
     "metadata": {},
     "output_type": "execute_result"
    }
   ],
   "source": [
    "products_df.sample(50)"
   ]
  },
  {
   "cell_type": "code",
   "execution_count": 22,
   "metadata": {
    "colab": {
     "base_uri": "https://localhost:8080/"
    },
    "executionInfo": {
     "elapsed": 4,
     "status": "ok",
     "timestamp": 1696861431861,
     "user": {
      "displayName": "Yanish Veerahoo",
      "userId": "12777002046449133933"
     },
     "user_tz": -120
    },
    "id": "bShFL27Nq3Da",
    "outputId": "86540d64-04fe-461a-c483-8e46c100d9c3"
   },
   "outputs": [
    {
     "data": {
      "text/plain": [
       "542"
      ]
     },
     "execution_count": 22,
     "metadata": {},
     "output_type": "execute_result"
    }
   ],
   "source": [
    "price_problems_number = products_df.loc[(products_df.price.astype(str).str.contains(r\"\\d+\\.\\d+\\.\\d+\"))|(products_df.price.astype(str).str.contains(r\"\\d+\\.\\d{3,}\")), :].shape[0]\n",
    "price_problems_number"
   ]
  },
  {
   "cell_type": "code",
   "execution_count": 23,
   "metadata": {
    "colab": {
     "base_uri": "https://localhost:8080/"
    },
    "executionInfo": {
     "elapsed": 3,
     "status": "ok",
     "timestamp": 1696861457830,
     "user": {
      "displayName": "Yanish Veerahoo",
      "userId": "12777002046449133933"
     },
     "user_tz": -120
    },
    "id": "R-HG2ur6eOiP",
    "outputId": "be2a0ae6-1151-477c-dd7b-f9cb81c6d9ec"
   },
   "outputs": [
    {
     "name": "stdout",
     "output_type": "stream",
     "text": [
      "The column price has in total 542 wrong values. This is 5.15% of the rows of the DataFrame\n"
     ]
    }
   ],
   "source": [
    "print(f\"The column price has in total {price_problems_number} wrong values. This is {round(((price_problems_number / products_df.shape[0]) * 100), 2)}% of the rows of the DataFrame\")"
   ]
  },
  {
   "cell_type": "markdown",
   "metadata": {
    "id": "p9QV50j3orpP"
   },
   "source": [
    "5.15% is a reasonable amount of our data. However, the price column will be important to understanding discounts, so I'd like it to be very trustworthy as we are basing business decisions on it. Therefore, we'll delete these rows"
   ]
  },
  {
   "cell_type": "code",
   "execution_count": 25,
   "metadata": {
    "id": "3xkK12Mspand"
   },
   "outputs": [],
   "source": [
    "products_df = products_df.loc[(~products_df.price.astype(str).str.contains(r\"\\d+\\.\\d+\\.\\d+\"))&(~products_df.price.astype(str).str.contains(r\"\\d+\\.\\d{3,}\")), :]"
   ]
  },
  {
   "cell_type": "code",
   "execution_count": 26,
   "metadata": {
    "colab": {
     "base_uri": "https://localhost:8080/",
     "height": 423
    },
    "executionInfo": {
     "elapsed": 268,
     "status": "ok",
     "timestamp": 1696861632493,
     "user": {
      "displayName": "Yanish Veerahoo",
      "userId": "12777002046449133933"
     },
     "user_tz": -120
    },
    "id": "h8R_vq6-VZ1X",
    "outputId": "8eaa4a48-acaf-40d8-a523-290feedd7f3d"
   },
   "outputs": [
    {
     "data": {
      "text/html": [
       "<div>\n",
       "<style scoped>\n",
       "    .dataframe tbody tr th:only-of-type {\n",
       "        vertical-align: middle;\n",
       "    }\n",
       "\n",
       "    .dataframe tbody tr th {\n",
       "        vertical-align: top;\n",
       "    }\n",
       "\n",
       "    .dataframe thead th {\n",
       "        text-align: right;\n",
       "    }\n",
       "</style>\n",
       "<table border=\"1\" class=\"dataframe\">\n",
       "  <thead>\n",
       "    <tr style=\"text-align: right;\">\n",
       "      <th></th>\n",
       "      <th>sku</th>\n",
       "      <th>name</th>\n",
       "      <th>desc</th>\n",
       "      <th>price</th>\n",
       "      <th>promo_price</th>\n",
       "      <th>in_stock</th>\n",
       "      <th>type</th>\n",
       "    </tr>\n",
       "  </thead>\n",
       "  <tbody>\n",
       "    <tr>\n",
       "      <th>0</th>\n",
       "      <td>RAI0007</td>\n",
       "      <td>Silver Rain Design mStand Support</td>\n",
       "      <td>Aluminum support compatible with all MacBook</td>\n",
       "      <td>59.99</td>\n",
       "      <td>499.899</td>\n",
       "      <td>1</td>\n",
       "      <td>8696</td>\n",
       "    </tr>\n",
       "    <tr>\n",
       "      <th>1</th>\n",
       "      <td>APP0023</td>\n",
       "      <td>Apple Mac Keyboard Keypad Spanish</td>\n",
       "      <td>USB ultrathin keyboard Apple Mac Spanish.</td>\n",
       "      <td>59</td>\n",
       "      <td>589.996</td>\n",
       "      <td>0</td>\n",
       "      <td>13855401</td>\n",
       "    </tr>\n",
       "    <tr>\n",
       "      <th>2</th>\n",
       "      <td>APP0025</td>\n",
       "      <td>Mighty Mouse Apple Mouse for Mac</td>\n",
       "      <td>mouse Apple USB cable.</td>\n",
       "      <td>59</td>\n",
       "      <td>569.898</td>\n",
       "      <td>0</td>\n",
       "      <td>1387</td>\n",
       "    </tr>\n",
       "    <tr>\n",
       "      <th>3</th>\n",
       "      <td>APP0072</td>\n",
       "      <td>Apple Dock to USB Cable iPhone and iPod white</td>\n",
       "      <td>IPhone dock and USB Cable Apple iPod.</td>\n",
       "      <td>25</td>\n",
       "      <td>229.997</td>\n",
       "      <td>0</td>\n",
       "      <td>1230</td>\n",
       "    </tr>\n",
       "    <tr>\n",
       "      <th>4</th>\n",
       "      <td>KIN0007</td>\n",
       "      <td>Mac Memory Kingston 2GB 667MHz DDR2 SO-DIMM</td>\n",
       "      <td>2GB RAM Mac mini and iMac (2006/07) MacBook Pro (2006/07/08).</td>\n",
       "      <td>34.99</td>\n",
       "      <td>31.99</td>\n",
       "      <td>1</td>\n",
       "      <td>1364</td>\n",
       "    </tr>\n",
       "    <tr>\n",
       "      <th>...</th>\n",
       "      <td>...</td>\n",
       "      <td>...</td>\n",
       "      <td>...</td>\n",
       "      <td>...</td>\n",
       "      <td>...</td>\n",
       "      <td>...</td>\n",
       "      <td>...</td>\n",
       "    </tr>\n",
       "    <tr>\n",
       "      <th>19321</th>\n",
       "      <td>BEL0376</td>\n",
       "      <td>Belkin Travel Support Apple Watch Black</td>\n",
       "      <td>compact and portable stand vertically or horizontally for Apple Watch</td>\n",
       "      <td>29.99</td>\n",
       "      <td>269.903</td>\n",
       "      <td>1</td>\n",
       "      <td>12282</td>\n",
       "    </tr>\n",
       "    <tr>\n",
       "      <th>19322</th>\n",
       "      <td>THU0060</td>\n",
       "      <td>Enroute Thule 14L Backpack MacBook 13 \"Black</td>\n",
       "      <td>Backpack with capacity of 14 liter compartments MacBook up to 13 inches up to 10 inches Cases</td>\n",
       "      <td>69.95</td>\n",
       "      <td>649.903</td>\n",
       "      <td>1</td>\n",
       "      <td>1392</td>\n",
       "    </tr>\n",
       "    <tr>\n",
       "      <th>19323</th>\n",
       "      <td>THU0061</td>\n",
       "      <td>Enroute Thule 14L Backpack MacBook 13 \"Blue</td>\n",
       "      <td>Backpack with capacity of 14 liter compartments MacBook up to 13 inches up to 10 inches Cases</td>\n",
       "      <td>69.95</td>\n",
       "      <td>649.903</td>\n",
       "      <td>1</td>\n",
       "      <td>1392</td>\n",
       "    </tr>\n",
       "    <tr>\n",
       "      <th>19324</th>\n",
       "      <td>THU0062</td>\n",
       "      <td>Enroute Thule 14L Backpack MacBook 13 \"Red</td>\n",
       "      <td>Backpack with capacity of 14 liter compartments MacBook up to 13 inches up to 10 inches Cases</td>\n",
       "      <td>69.95</td>\n",
       "      <td>649.903</td>\n",
       "      <td>0</td>\n",
       "      <td>1392</td>\n",
       "    </tr>\n",
       "    <tr>\n",
       "      <th>19325</th>\n",
       "      <td>THU0063</td>\n",
       "      <td>Enroute Thule 14L Backpack MacBook 13 \"Green</td>\n",
       "      <td>Backpack with capacity of 14 liter compartments MacBook up to 13 inches up to 10 inches Cases</td>\n",
       "      <td>69.95</td>\n",
       "      <td>649.903</td>\n",
       "      <td>1</td>\n",
       "      <td>1392</td>\n",
       "    </tr>\n",
       "  </tbody>\n",
       "</table>\n",
       "<p>9992 rows × 7 columns</p>\n",
       "</div>"
      ],
      "text/plain": [
       "           sku                                           name  \\\n",
       "0      RAI0007              Silver Rain Design mStand Support   \n",
       "1      APP0023              Apple Mac Keyboard Keypad Spanish   \n",
       "2      APP0025               Mighty Mouse Apple Mouse for Mac   \n",
       "3      APP0072  Apple Dock to USB Cable iPhone and iPod white   \n",
       "4      KIN0007    Mac Memory Kingston 2GB 667MHz DDR2 SO-DIMM   \n",
       "...        ...                                            ...   \n",
       "19321  BEL0376        Belkin Travel Support Apple Watch Black   \n",
       "19322  THU0060   Enroute Thule 14L Backpack MacBook 13 \"Black   \n",
       "19323  THU0061    Enroute Thule 14L Backpack MacBook 13 \"Blue   \n",
       "19324  THU0062     Enroute Thule 14L Backpack MacBook 13 \"Red   \n",
       "19325  THU0063   Enroute Thule 14L Backpack MacBook 13 \"Green   \n",
       "\n",
       "                                                                                                desc  \\\n",
       "0                                                       Aluminum support compatible with all MacBook   \n",
       "1                                                          USB ultrathin keyboard Apple Mac Spanish.   \n",
       "2                                                                             mouse Apple USB cable.   \n",
       "3                                                              IPhone dock and USB Cable Apple iPod.   \n",
       "4                                      2GB RAM Mac mini and iMac (2006/07) MacBook Pro (2006/07/08).   \n",
       "...                                                                                              ...   \n",
       "19321                          compact and portable stand vertically or horizontally for Apple Watch   \n",
       "19322  Backpack with capacity of 14 liter compartments MacBook up to 13 inches up to 10 inches Cases   \n",
       "19323  Backpack with capacity of 14 liter compartments MacBook up to 13 inches up to 10 inches Cases   \n",
       "19324  Backpack with capacity of 14 liter compartments MacBook up to 13 inches up to 10 inches Cases   \n",
       "19325  Backpack with capacity of 14 liter compartments MacBook up to 13 inches up to 10 inches Cases   \n",
       "\n",
       "       price promo_price  in_stock      type  \n",
       "0      59.99     499.899         1      8696  \n",
       "1         59     589.996         0  13855401  \n",
       "2         59     569.898         0      1387  \n",
       "3         25     229.997         0      1230  \n",
       "4      34.99       31.99         1      1364  \n",
       "...      ...         ...       ...       ...  \n",
       "19321  29.99     269.903         1     12282  \n",
       "19322  69.95     649.903         1      1392  \n",
       "19323  69.95     649.903         1      1392  \n",
       "19324  69.95     649.903         0      1392  \n",
       "19325  69.95     649.903         1      1392  \n",
       "\n",
       "[9992 rows x 7 columns]"
      ]
     },
     "execution_count": 26,
     "metadata": {},
     "output_type": "execute_result"
    }
   ],
   "source": [
    "products_df"
   ]
  },
  {
   "cell_type": "markdown",
   "metadata": {
    "id": "Y_3K0v8wvMP1"
   },
   "source": [
    "To complete our task, let's convert the column to a numeric datatype"
   ]
  },
  {
   "cell_type": "code",
   "execution_count": 27,
   "metadata": {
    "id": "3evkDaafvFUq"
   },
   "outputs": [],
   "source": [
    "products_df[\"price\"] = pd.to_numeric(products_df[\"price\"])"
   ]
  },
  {
   "cell_type": "code",
   "execution_count": 28,
   "metadata": {
    "colab": {
     "base_uri": "https://localhost:8080/"
    },
    "executionInfo": {
     "elapsed": 4,
     "status": "ok",
     "timestamp": 1696861735934,
     "user": {
      "displayName": "Yanish Veerahoo",
      "userId": "12777002046449133933"
     },
     "user_tz": -120
    },
    "id": "h2BjVDJ31yiB",
    "outputId": "6a15e603-6013-4091-fa44-5dbbbf7ee35b"
   },
   "outputs": [
    {
     "name": "stdout",
     "output_type": "stream",
     "text": [
      "<class 'pandas.core.frame.DataFrame'>\n",
      "Index: 9992 entries, 0 to 19325\n",
      "Data columns (total 7 columns):\n",
      " #   Column       Non-Null Count  Dtype  \n",
      "---  ------       --------------  -----  \n",
      " 0   sku          9992 non-null   object \n",
      " 1   name         9992 non-null   object \n",
      " 2   desc         9992 non-null   object \n",
      " 3   price        9992 non-null   float64\n",
      " 4   promo_price  9992 non-null   object \n",
      " 5   in_stock     9992 non-null   int64  \n",
      " 6   type         9946 non-null   object \n",
      "dtypes: float64(1), int64(1), object(5)\n",
      "memory usage: 624.5+ KB\n"
     ]
    }
   ],
   "source": [
    "products_df.info()"
   ]
  },
  {
   "cell_type": "markdown",
   "metadata": {
    "id": "9GcbI2upeG3M"
   },
   "source": [
    "#### `promo_price`"
   ]
  },
  {
   "cell_type": "markdown",
   "metadata": {
    "id": "NQq3M2zGvzS5"
   },
   "source": [
    "Again, let's begin by seeing how many values are affected by the 2-decimal-dots problem, or the 3 decimal-places problem"
   ]
  },
  {
   "cell_type": "code",
   "execution_count": 30,
   "metadata": {
    "colab": {
     "base_uri": "https://localhost:8080/"
    },
    "executionInfo": {
     "elapsed": 241,
     "status": "ok",
     "timestamp": 1696861826801,
     "user": {
      "displayName": "Yanish Veerahoo",
      "userId": "12777002046449133933"
     },
     "user_tz": -120
    },
    "id": "vI4ueHibtK1P",
    "outputId": "e33ff515-59a2-4231-f1f5-8a3193dc2328"
   },
   "outputs": [
    {
     "data": {
      "text/plain": [
       "9232"
      ]
     },
     "execution_count": 30,
     "metadata": {},
     "output_type": "execute_result"
    }
   ],
   "source": [
    "promo_problems_number = products_df.loc[(products_df.promo_price.astype(str).str.contains(r\"\\d+\\.\\d+\\.\\d+\"))|(products_df.promo_price.astype(str).str.contains(r\"\\d+\\.\\d{3,}\")), :].shape[0]\n",
    "promo_problems_number"
   ]
  },
  {
   "cell_type": "code",
   "execution_count": 31,
   "metadata": {
    "colab": {
     "base_uri": "https://localhost:8080/"
    },
    "executionInfo": {
     "elapsed": 279,
     "status": "ok",
     "timestamp": 1696861821517,
     "user": {
      "displayName": "Yanish Veerahoo",
      "userId": "12777002046449133933"
     },
     "user_tz": -120
    },
    "id": "Jxpd8nVptKxs",
    "outputId": "6e108e5b-5149-460d-d179-7c8ce589d136"
   },
   "outputs": [
    {
     "name": "stdout",
     "output_type": "stream",
     "text": [
      "The column promo_price has in total 9232 wrong values. This is 92.39% of the rows of the DataFrame\n"
     ]
    }
   ],
   "source": [
    "print(f\"The column promo_price has in total {promo_problems_number} wrong values. This is {round(((promo_problems_number / products_df.shape[0]) * 100), 2)}% of the rows of the DataFrame\")"
   ]
  },
  {
   "cell_type": "markdown",
   "metadata": {
    "id": "dnEM5lBruU0U"
   },
   "source": [
    "WOW!!! That's a lot of wrong data. Let's have a quick investigate to check that's correct. We'll make a DataFrame by copy-pasting the code we used above and then look at a large sample to check that all the numbers in the `promo_price` column really have either 2 decimal points or 3 decimal places."
   ]
  },
  {
   "cell_type": "code",
   "execution_count": null,
   "metadata": {
    "colab": {
     "base_uri": "https://localhost:8080/",
     "height": 1000
    },
    "editable": true,
    "executionInfo": {
     "elapsed": 357,
     "status": "ok",
     "timestamp": 1696861920787,
     "user": {
      "displayName": "Yanish Veerahoo",
      "userId": "12777002046449133933"
     },
     "user_tz": -120
    },
    "id": "6S88DpsRtaM0",
    "outputId": "a9860ddf-d878-4961-a960-6bd37f6d7d07",
    "slideshow": {
     "slide_type": ""
    },
    "tags": []
   },
   "outputs": [
    {
     "data": {
      "text/html": [
       "\n",
       "  <div id=\"df-bf98adb3-82f1-4b71-8736-598a0979ef9e\" class=\"colab-df-container\">\n",
       "    <div>\n",
       "<style scoped>\n",
       "    .dataframe tbody tr th:only-of-type {\n",
       "        vertical-align: middle;\n",
       "    }\n",
       "\n",
       "    .dataframe tbody tr th {\n",
       "        vertical-align: top;\n",
       "    }\n",
       "\n",
       "    .dataframe thead th {\n",
       "        text-align: right;\n",
       "    }\n",
       "</style>\n",
       "<table border=\"1\" class=\"dataframe\">\n",
       "  <thead>\n",
       "    <tr style=\"text-align: right;\">\n",
       "      <th></th>\n",
       "      <th>sku</th>\n",
       "      <th>name</th>\n",
       "      <th>desc</th>\n",
       "      <th>price</th>\n",
       "      <th>promo_price</th>\n",
       "      <th>in_stock</th>\n",
       "      <th>type</th>\n",
       "    </tr>\n",
       "  </thead>\n",
       "  <tbody>\n",
       "    <tr>\n",
       "      <th>14703</th>\n",
       "      <td>PAC1764</td>\n",
       "      <td>QNAP TS-431P NAS</td>\n",
       "      <td>NAS with 16TB capacity Seagate Hard Drives for...</td>\n",
       "      <td>1021.95</td>\n",
       "      <td>6.913.686</td>\n",
       "      <td>0</td>\n",
       "      <td>12175397</td>\n",
       "    </tr>\n",
       "    <tr>\n",
       "      <th>2696</th>\n",
       "      <td>WDT0288</td>\n",
       "      <td>8GB SSHD 1TB WD Blue SSD 25 \"SATA</td>\n",
       "      <td>Western Digital hard drive hybrid Mac and PC 1...</td>\n",
       "      <td>94.90</td>\n",
       "      <td>949.003</td>\n",
       "      <td>0</td>\n",
       "      <td>12655397</td>\n",
       "    </tr>\n",
       "    <tr>\n",
       "      <th>17484</th>\n",
       "      <td>APP2489</td>\n",
       "      <td>Apple iPhone 64GB Space Gray X</td>\n",
       "      <td>New Free iPhone 64GB X</td>\n",
       "      <td>1159.00</td>\n",
       "      <td>11.240.005</td>\n",
       "      <td>1</td>\n",
       "      <td>113271716</td>\n",
       "    </tr>\n",
       "    <tr>\n",
       "      <th>13648</th>\n",
       "      <td>GRT0447</td>\n",
       "      <td>Griffin Survivor iPhone Case Journey 8 Plus / ...</td>\n",
       "      <td>rugged case with shock dispersion system for i...</td>\n",
       "      <td>29.99</td>\n",
       "      <td>159.902</td>\n",
       "      <td>0</td>\n",
       "      <td>11865403</td>\n",
       "    </tr>\n",
       "    <tr>\n",
       "      <th>11288</th>\n",
       "      <td>OWC0132</td>\n",
       "      <td>OWC Aura 2TB SSD for Apple Mac Pro 2013</td>\n",
       "      <td>2TB SSD hard drive for Mac Pro 2013.</td>\n",
       "      <td>1399.99</td>\n",
       "      <td>14.285.865</td>\n",
       "      <td>0</td>\n",
       "      <td>12215397</td>\n",
       "    </tr>\n",
       "    <tr>\n",
       "      <th>12389</th>\n",
       "      <td>PAC1424</td>\n",
       "      <td>Synology DS916 + Pack | 2GB RAM | WD 16TB Network</td>\n",
       "      <td>Synology DS916 + with 2GB RAM memory + 16TB (4...</td>\n",
       "      <td>1256.80</td>\n",
       "      <td>1.138.368</td>\n",
       "      <td>0</td>\n",
       "      <td>12175397</td>\n",
       "    </tr>\n",
       "    <tr>\n",
       "      <th>19060</th>\n",
       "      <td>TRA0051</td>\n",
       "      <td>Transcend JetDrive PCIe SSD 825 240GB</td>\n",
       "      <td>240GB SSD expansion for Macbook Pro Retina Mac...</td>\n",
       "      <td>269.99</td>\n",
       "      <td>2.689.951</td>\n",
       "      <td>1</td>\n",
       "      <td>12215397</td>\n",
       "    </tr>\n",
       "    <tr>\n",
       "      <th>17267</th>\n",
       "      <td>AP20278</td>\n",
       "      <td>Like new - Apple Watch 42mm steel case and str...</td>\n",
       "      <td>Apple Watch 42 mm refitted as new</td>\n",
       "      <td>869.00</td>\n",
       "      <td>3.989.999</td>\n",
       "      <td>0</td>\n",
       "      <td>24895185</td>\n",
       "    </tr>\n",
       "    <tr>\n",
       "      <th>11559</th>\n",
       "      <td>PAC1270</td>\n",
       "      <td>Pack QNAP TS-251 | 4GB RAM | WD 4TB Network</td>\n",
       "      <td>QNAP TS-251 pack 4GB RAM + 4TB (2x2TB) Network...</td>\n",
       "      <td>616.00</td>\n",
       "      <td>4.679.905</td>\n",
       "      <td>0</td>\n",
       "      <td>12175397</td>\n",
       "    </tr>\n",
       "    <tr>\n",
       "      <th>2291</th>\n",
       "      <td>MYK0013</td>\n",
       "      <td>MyKronoz ZeBracelet 2 receiving calls Bracelet...</td>\n",
       "      <td>Bracelet sports and activities for iPhone iPad...</td>\n",
       "      <td>79.00</td>\n",
       "      <td>74.899</td>\n",
       "      <td>0</td>\n",
       "      <td>11905404</td>\n",
       "    </tr>\n",
       "    <tr>\n",
       "      <th>2309</th>\n",
       "      <td>LOG0158</td>\n",
       "      <td>Logitech AnyAngle iPad Mini Case with Stand Black</td>\n",
       "      <td>Cover with multiposition support for iPad Mini...</td>\n",
       "      <td>71.99</td>\n",
       "      <td>468.996</td>\n",
       "      <td>0</td>\n",
       "      <td>12635403</td>\n",
       "    </tr>\n",
       "    <tr>\n",
       "      <th>14564</th>\n",
       "      <td>SAT0021</td>\n",
       "      <td>Support Satechi iPhone Aluminum Silver</td>\n",
       "      <td>Stand with aluminum finish Lightning access to...</td>\n",
       "      <td>34.99</td>\n",
       "      <td>249.901</td>\n",
       "      <td>1</td>\n",
       "      <td>5720</td>\n",
       "    </tr>\n",
       "    <tr>\n",
       "      <th>11723</th>\n",
       "      <td>OWC0182</td>\n",
       "      <td>OWC Mercury Electra 6G SSD Max 2TB 7mm</td>\n",
       "      <td>7mm 2.5-inch hard drive for Mac 2TB and PC.</td>\n",
       "      <td>967.99</td>\n",
       "      <td>6.685.843</td>\n",
       "      <td>0</td>\n",
       "      <td>12215397</td>\n",
       "    </tr>\n",
       "    <tr>\n",
       "      <th>1944</th>\n",
       "      <td>PAC0721</td>\n",
       "      <td>expansion kit 1TB SSD Crucial MX200 Mac mini a...</td>\n",
       "      <td>SSD upgrade kit 1TB iMac Mac mini 2009 and 200...</td>\n",
       "      <td>684.98</td>\n",
       "      <td>6.479.901</td>\n",
       "      <td>0</td>\n",
       "      <td>1433</td>\n",
       "    </tr>\n",
       "    <tr>\n",
       "      <th>18318</th>\n",
       "      <td>EVU0013</td>\n",
       "      <td>Evutec Aergo Ballistic Nylon Case + Support Ha...</td>\n",
       "      <td>Protection cover with plastic anti-impact nylo...</td>\n",
       "      <td>29.99</td>\n",
       "      <td>199.904</td>\n",
       "      <td>1</td>\n",
       "      <td>11865403</td>\n",
       "    </tr>\n",
       "    <tr>\n",
       "      <th>15748</th>\n",
       "      <td>APP2044</td>\n",
       "      <td>Open - Apple iPhone 7 Plus 32GB Silver - like new</td>\n",
       "      <td>Apple iPhone 7 Plus Free 32 GB Silver (MN4X2QL...</td>\n",
       "      <td>909.00</td>\n",
       "      <td>7.303.306</td>\n",
       "      <td>0</td>\n",
       "      <td>85651716</td>\n",
       "    </tr>\n",
       "    <tr>\n",
       "      <th>15742</th>\n",
       "      <td>APP2027</td>\n",
       "      <td>Open - Pink Apple iPhone 6s 16GB Gold - Like New</td>\n",
       "      <td>Apple 16GB Apple iPhone 6s Rose Gold (MKQM2QL ...</td>\n",
       "      <td>659.00</td>\n",
       "      <td>5.203.315</td>\n",
       "      <td>0</td>\n",
       "      <td>1716</td>\n",
       "    </tr>\n",
       "    <tr>\n",
       "      <th>931</th>\n",
       "      <td>CRU0016-2</td>\n",
       "      <td>Crucial memory Mac 8GB (2x4GB) SO-DIMM DDR3 10...</td>\n",
       "      <td>RAM 8GB (2x4GB) Mac mini iMac MacBook and MacB...</td>\n",
       "      <td>107.98</td>\n",
       "      <td>1.069.894</td>\n",
       "      <td>1</td>\n",
       "      <td>1364</td>\n",
       "    </tr>\n",
       "    <tr>\n",
       "      <th>14600</th>\n",
       "      <td>SAT0042</td>\n",
       "      <td>Satechi Aluminum HDD Dock Mac</td>\n",
       "      <td>Dock with DVD HDD SATA SSDs and two USB 3.0 po...</td>\n",
       "      <td>69.99</td>\n",
       "      <td>399.905</td>\n",
       "      <td>1</td>\n",
       "      <td>11935397</td>\n",
       "    </tr>\n",
       "    <tr>\n",
       "      <th>15067</th>\n",
       "      <td>BNQ0037-A</td>\n",
       "      <td>Open - LED Monitor Benq GW2270 215 \"DVI VGA</td>\n",
       "      <td>LED 215-inch monitor flicker-free technology a...</td>\n",
       "      <td>115.00</td>\n",
       "      <td>973.732</td>\n",
       "      <td>0</td>\n",
       "      <td>1298</td>\n",
       "    </tr>\n",
       "    <tr>\n",
       "      <th>18460</th>\n",
       "      <td>APP2691</td>\n",
       "      <td>Apple iMac Pro 27 \"14-core Intel Xeon W 25GHz ...</td>\n",
       "      <td>Pro iMac 27 inch screen Retina 5K and Intel Xe...</td>\n",
       "      <td>11739.00</td>\n",
       "      <td>11.035.004</td>\n",
       "      <td>0</td>\n",
       "      <td>118692158</td>\n",
       "    </tr>\n",
       "    <tr>\n",
       "      <th>2288</th>\n",
       "      <td>TRA0033</td>\n",
       "      <td>Transcend StoreJet 100 2TB External Hard Drive...</td>\n",
       "      <td>2TB external hard drive ultrafast and ultra re...</td>\n",
       "      <td>137.00</td>\n",
       "      <td>1.242.041</td>\n",
       "      <td>0</td>\n",
       "      <td>11935397</td>\n",
       "    </tr>\n",
       "    <tr>\n",
       "      <th>15844</th>\n",
       "      <td>OWC0124-A</td>\n",
       "      <td>Open - OWC HDD Installation Kit for iMac 27 \"2...</td>\n",
       "      <td>installation disc iMac 27-inch HDD in 2012 and...</td>\n",
       "      <td>72.99</td>\n",
       "      <td>438.896</td>\n",
       "      <td>0</td>\n",
       "      <td>1298</td>\n",
       "    </tr>\n",
       "    <tr>\n",
       "      <th>17879</th>\n",
       "      <td>PAC2371</td>\n",
       "      <td>Synology DS218 + NAS Server | 6GB RAM | 8TB (2...</td>\n",
       "      <td>NAS storage server integrated with special foc...</td>\n",
       "      <td>766.96</td>\n",
       "      <td>6.251.792</td>\n",
       "      <td>0</td>\n",
       "      <td>12175397</td>\n",
       "    </tr>\n",
       "    <tr>\n",
       "      <th>271</th>\n",
       "      <td>PAC0184</td>\n",
       "      <td>Apple MacBook Pro 133 \"25GHz | RAM 16GB | 500G...</td>\n",
       "      <td>Apple MacBook Pro 133 inches (MD101Y / A) with...</td>\n",
       "      <td>1439.00</td>\n",
       "      <td>13.989.899</td>\n",
       "      <td>0</td>\n",
       "      <td>1282</td>\n",
       "    </tr>\n",
       "    <tr>\n",
       "      <th>18661</th>\n",
       "      <td>LAN0015</td>\n",
       "      <td>LandingZone DOCK PRO 13 \"Touch bar</td>\n",
       "      <td>station and dock with multiple ports for MacBo...</td>\n",
       "      <td>388.05</td>\n",
       "      <td>3.499.889</td>\n",
       "      <td>1</td>\n",
       "      <td>8696</td>\n",
       "    </tr>\n",
       "    <tr>\n",
       "      <th>13601</th>\n",
       "      <td>BEL0240-A</td>\n",
       "      <td>(Open) Belkin InvisiGlass TrueClear invisible ...</td>\n",
       "      <td>Invisible protective glass iPhone 5 5s 5c, SE</td>\n",
       "      <td>19.99</td>\n",
       "      <td>115.516</td>\n",
       "      <td>0</td>\n",
       "      <td>1298</td>\n",
       "    </tr>\n",
       "    <tr>\n",
       "      <th>2317</th>\n",
       "      <td>MOX0015</td>\n",
       "      <td>Moxie 2.5D Tempered glass iPhone 6 / 6S</td>\n",
       "      <td>Screen Saver tempered glass for iPhone 6 / 6S.</td>\n",
       "      <td>9.99</td>\n",
       "      <td>39.894</td>\n",
       "      <td>0</td>\n",
       "      <td>13555403</td>\n",
       "    </tr>\n",
       "    <tr>\n",
       "      <th>11860</th>\n",
       "      <td>WDT0315</td>\n",
       "      <td>Blue WD 2TB Hard Drive 35 \"Mac and PC</td>\n",
       "      <td>Internal Hard Drive Western Digital 2TB 3.5-in...</td>\n",
       "      <td>79.00</td>\n",
       "      <td>639.945</td>\n",
       "      <td>0</td>\n",
       "      <td>12655397</td>\n",
       "    </tr>\n",
       "    <tr>\n",
       "      <th>2414</th>\n",
       "      <td>BEZ0181</td>\n",
       "      <td>Be.ez LA robe MacBook Air / Pro 13 Black / Orange</td>\n",
       "      <td>Case adaptable to the form for MacBook Air 13-...</td>\n",
       "      <td>34.99</td>\n",
       "      <td>298.991</td>\n",
       "      <td>0</td>\n",
       "      <td>13835403</td>\n",
       "    </tr>\n",
       "    <tr>\n",
       "      <th>1410</th>\n",
       "      <td>GOP0077</td>\n",
       "      <td>GoPro Fetch Dog Harness</td>\n",
       "      <td>GoPro harness for dogs.</td>\n",
       "      <td>63.99</td>\n",
       "      <td>499.899</td>\n",
       "      <td>0</td>\n",
       "      <td>12355400</td>\n",
       "    </tr>\n",
       "    <tr>\n",
       "      <th>1614</th>\n",
       "      <td>OLL0017</td>\n",
       "      <td>Olloclip 4-in-1 lens iPhone 6 / 6S and 6 / 6S ...</td>\n",
       "      <td>gLente wide angle lens macro fisheye and macro...</td>\n",
       "      <td>79.99</td>\n",
       "      <td>669.904</td>\n",
       "      <td>0</td>\n",
       "      <td>11905404</td>\n",
       "    </tr>\n",
       "    <tr>\n",
       "      <th>11052</th>\n",
       "      <td>PAC1226</td>\n",
       "      <td>Pack QNAP TS-251 + | 2GB RAM | Seagate 4TB Iro...</td>\n",
       "      <td>Pack NAS QNAP TS-251 + 2GB RAM + 4TB (2x2TB) I...</td>\n",
       "      <td>568.98</td>\n",
       "      <td>4.891.788</td>\n",
       "      <td>0</td>\n",
       "      <td>12175397</td>\n",
       "    </tr>\n",
       "    <tr>\n",
       "      <th>3153</th>\n",
       "      <td>XDO0021</td>\n",
       "      <td>X-Doria Lux Apple Watch Strap 38mm White Croc</td>\n",
       "      <td>Leather strap for easy installation Apple Watch.</td>\n",
       "      <td>30.99</td>\n",
       "      <td>268.995</td>\n",
       "      <td>1</td>\n",
       "      <td>2449</td>\n",
       "    </tr>\n",
       "    <tr>\n",
       "      <th>16699</th>\n",
       "      <td>APP2433</td>\n",
       "      <td>Apple Macbook 12 \"Core i5 1.3GHz | 16GB | 512G...</td>\n",
       "      <td>New MacBook Retina Display 12-inch Core i5 16G...</td>\n",
       "      <td>2039.00</td>\n",
       "      <td>19.170.042</td>\n",
       "      <td>0</td>\n",
       "      <td>5,39E+11</td>\n",
       "    </tr>\n",
       "    <tr>\n",
       "      <th>11331</th>\n",
       "      <td>UAG0027</td>\n",
       "      <td>Urban Armor Gear Pro 129 iPad Case \"Blue / Black</td>\n",
       "      <td>resistant and lightweight housing cover format...</td>\n",
       "      <td>79.95</td>\n",
       "      <td>499.899</td>\n",
       "      <td>0</td>\n",
       "      <td>12635403</td>\n",
       "    </tr>\n",
       "    <tr>\n",
       "      <th>473</th>\n",
       "      <td>NTE0019</td>\n",
       "      <td>NewerTech NuPower battery MacBook Pro 15 \"unib...</td>\n",
       "      <td>Battery MacBook Pro 15-inch Unibody No 2006-2008</td>\n",
       "      <td>119.99</td>\n",
       "      <td>949.898</td>\n",
       "      <td>1</td>\n",
       "      <td>10142</td>\n",
       "    </tr>\n",
       "    <tr>\n",
       "      <th>15762</th>\n",
       "      <td>ELG0049</td>\n",
       "      <td>Dock Elgato Thunderbolt Hub USB-C 3 Silver</td>\n",
       "      <td>USB-Hub with 2 ports Thunderbolt C 3 (40GB) 1 ...</td>\n",
       "      <td>299.99</td>\n",
       "      <td>2.999.893</td>\n",
       "      <td>1</td>\n",
       "      <td>12585395</td>\n",
       "    </tr>\n",
       "    <tr>\n",
       "      <th>18075</th>\n",
       "      <td>ADN0055</td>\n",
       "      <td>Jot Adonith Dash 3 Pointer Bronze</td>\n",
       "      <td>clip stylus with transportation and 14-hour ba...</td>\n",
       "      <td>60.50</td>\n",
       "      <td>399.905</td>\n",
       "      <td>1</td>\n",
       "      <td>1229</td>\n",
       "    </tr>\n",
       "    <tr>\n",
       "      <th>10692</th>\n",
       "      <td>PAC1778</td>\n",
       "      <td>Synology Pack DS216SE | Seagate 8TB NAS</td>\n",
       "      <td>Synology NAS 16TB (2x8TB) Seagate Hard Drive f...</td>\n",
       "      <td>859.97</td>\n",
       "      <td>5.781.791</td>\n",
       "      <td>1</td>\n",
       "      <td>12175397</td>\n",
       "    </tr>\n",
       "    <tr>\n",
       "      <th>1442</th>\n",
       "      <td>BEA0025</td>\n",
       "      <td>Beats by Dr. Dre speaker Red Pill Case</td>\n",
       "      <td>Beats Pill Case with ring to transport.</td>\n",
       "      <td>34.95</td>\n",
       "      <td>239.943</td>\n",
       "      <td>0</td>\n",
       "      <td>5398</td>\n",
       "    </tr>\n",
       "    <tr>\n",
       "      <th>1681</th>\n",
       "      <td>PAC1796</td>\n",
       "      <td>Synology DS1815 Pack + | 8GB RAM | Seagate 48T...</td>\n",
       "      <td>DS1815 + Nas with 8GB RAM and 48TB capacity (8...</td>\n",
       "      <td>3276.89</td>\n",
       "      <td>27.627.458</td>\n",
       "      <td>0</td>\n",
       "      <td>12175397</td>\n",
       "    </tr>\n",
       "    <tr>\n",
       "      <th>13422</th>\n",
       "      <td>APP1776</td>\n",
       "      <td>Smart Battery Apple Battery Case iPhone 6s Cha...</td>\n",
       "      <td>Battery Case for iPhone 6s and 6</td>\n",
       "      <td>119.00</td>\n",
       "      <td>1.099.902</td>\n",
       "      <td>0</td>\n",
       "      <td>5,49E+11</td>\n",
       "    </tr>\n",
       "    <tr>\n",
       "      <th>2326</th>\n",
       "      <td>SPE0156</td>\n",
       "      <td>Speck CandyShell Grip Case for iPhone 6 Plus 5...</td>\n",
       "      <td>ultra tough for iPhone 6 Plus. housing</td>\n",
       "      <td>26.99</td>\n",
       "      <td>249.865</td>\n",
       "      <td>0</td>\n",
       "      <td>11865403</td>\n",
       "    </tr>\n",
       "    <tr>\n",
       "      <th>2654</th>\n",
       "      <td>KAN0041</td>\n",
       "      <td>USB-C Kanex HDMI Adapter MacBook 12 \"- 4K</td>\n",
       "      <td>C USB-HDMI adapter for MacBook high-resolution...</td>\n",
       "      <td>49.99</td>\n",
       "      <td>399.905</td>\n",
       "      <td>1</td>\n",
       "      <td>12585395</td>\n",
       "    </tr>\n",
       "    <tr>\n",
       "      <th>816</th>\n",
       "      <td>WDT0196</td>\n",
       "      <td>Western Digital My Book Thunderbolt Duo 6TB Mac</td>\n",
       "      <td>WD External Hard Drive Mac and PC with Thunder...</td>\n",
       "      <td>529.99</td>\n",
       "      <td>3.669.894</td>\n",
       "      <td>0</td>\n",
       "      <td>11935397</td>\n",
       "    </tr>\n",
       "    <tr>\n",
       "      <th>1047</th>\n",
       "      <td>BNQ0019</td>\n",
       "      <td>BL2410PT LED Monitor Benq 24 \"Black</td>\n",
       "      <td>Professional Monitor 24-inch HD for Mac and PC.</td>\n",
       "      <td>253.00</td>\n",
       "      <td>2.229.909</td>\n",
       "      <td>0</td>\n",
       "      <td>1296</td>\n",
       "    </tr>\n",
       "    <tr>\n",
       "      <th>19216</th>\n",
       "      <td>WAC0257</td>\n",
       "      <td>Wacom Intuos Graphics Tablet M Bluetooth Pista...</td>\n",
       "      <td>Medium-edge graphics tablet with Bluetooth int...</td>\n",
       "      <td>199.00</td>\n",
       "      <td>1.869.898</td>\n",
       "      <td>1</td>\n",
       "      <td>1405</td>\n",
       "    </tr>\n",
       "    <tr>\n",
       "      <th>13148</th>\n",
       "      <td>SYN0158</td>\n",
       "      <td>Synology MailPlus License for 20 users</td>\n",
       "      <td>Mail service license valid accounts 20 Ai ± or...</td>\n",
       "      <td>1101.10</td>\n",
       "      <td>11.099.899</td>\n",
       "      <td>0</td>\n",
       "      <td>1416</td>\n",
       "    </tr>\n",
       "    <tr>\n",
       "      <th>16077</th>\n",
       "      <td>AP20145</td>\n",
       "      <td>Like new - Apple AirPort Time Capsule 3TB</td>\n",
       "      <td>Apple Airport Time Capsule 3TB Reconditioned</td>\n",
       "      <td>429.00</td>\n",
       "      <td>2.777.942</td>\n",
       "      <td>0</td>\n",
       "      <td>11935397</td>\n",
       "    </tr>\n",
       "  </tbody>\n",
       "</table>\n",
       "</div>\n",
       "    <div class=\"colab-df-buttons\">\n",
       "\n",
       "  <div class=\"colab-df-container\">\n",
       "    <button class=\"colab-df-convert\" onclick=\"convertToInteractive('df-bf98adb3-82f1-4b71-8736-598a0979ef9e')\"\n",
       "            title=\"Convert this dataframe to an interactive table.\"\n",
       "            style=\"display:none;\">\n",
       "\n",
       "  <svg xmlns=\"http://www.w3.org/2000/svg\" height=\"24px\" viewBox=\"0 -960 960 960\">\n",
       "    <path d=\"M120-120v-720h720v720H120Zm60-500h600v-160H180v160Zm220 220h160v-160H400v160Zm0 220h160v-160H400v160ZM180-400h160v-160H180v160Zm440 0h160v-160H620v160ZM180-180h160v-160H180v160Zm440 0h160v-160H620v160Z\"/>\n",
       "  </svg>\n",
       "    </button>\n",
       "\n",
       "  <style>\n",
       "    .colab-df-container {\n",
       "      display:flex;\n",
       "      gap: 12px;\n",
       "    }\n",
       "\n",
       "    .colab-df-convert {\n",
       "      background-color: #E8F0FE;\n",
       "      border: none;\n",
       "      border-radius: 50%;\n",
       "      cursor: pointer;\n",
       "      display: none;\n",
       "      fill: #1967D2;\n",
       "      height: 32px;\n",
       "      padding: 0 0 0 0;\n",
       "      width: 32px;\n",
       "    }\n",
       "\n",
       "    .colab-df-convert:hover {\n",
       "      background-color: #E2EBFA;\n",
       "      box-shadow: 0px 1px 2px rgba(60, 64, 67, 0.3), 0px 1px 3px 1px rgba(60, 64, 67, 0.15);\n",
       "      fill: #174EA6;\n",
       "    }\n",
       "\n",
       "    .colab-df-buttons div {\n",
       "      margin-bottom: 4px;\n",
       "    }\n",
       "\n",
       "    [theme=dark] .colab-df-convert {\n",
       "      background-color: #3B4455;\n",
       "      fill: #D2E3FC;\n",
       "    }\n",
       "\n",
       "    [theme=dark] .colab-df-convert:hover {\n",
       "      background-color: #434B5C;\n",
       "      box-shadow: 0px 1px 3px 1px rgba(0, 0, 0, 0.15);\n",
       "      filter: drop-shadow(0px 1px 2px rgba(0, 0, 0, 0.3));\n",
       "      fill: #FFFFFF;\n",
       "    }\n",
       "  </style>\n",
       "\n",
       "    <script>\n",
       "      const buttonEl =\n",
       "        document.querySelector('#df-bf98adb3-82f1-4b71-8736-598a0979ef9e button.colab-df-convert');\n",
       "      buttonEl.style.display =\n",
       "        google.colab.kernel.accessAllowed ? 'block' : 'none';\n",
       "\n",
       "      async function convertToInteractive(key) {\n",
       "        const element = document.querySelector('#df-bf98adb3-82f1-4b71-8736-598a0979ef9e');\n",
       "        const dataTable =\n",
       "          await google.colab.kernel.invokeFunction('convertToInteractive',\n",
       "                                                    [key], {});\n",
       "        if (!dataTable) return;\n",
       "\n",
       "        const docLinkHtml = 'Like what you see? Visit the ' +\n",
       "          '<a target=\"_blank\" href=https://colab.research.google.com/notebooks/data_table.ipynb>data table notebook</a>'\n",
       "          + ' to learn more about interactive tables.';\n",
       "        element.innerHTML = '';\n",
       "        dataTable['output_type'] = 'display_data';\n",
       "        await google.colab.output.renderOutput(dataTable, element);\n",
       "        const docLink = document.createElement('div');\n",
       "        docLink.innerHTML = docLinkHtml;\n",
       "        element.appendChild(docLink);\n",
       "      }\n",
       "    </script>\n",
       "  </div>\n",
       "\n",
       "\n",
       "<div id=\"df-e4c077a3-b6fe-48b1-b260-aaf2ff2ac469\">\n",
       "  <button class=\"colab-df-quickchart\" onclick=\"quickchart('df-e4c077a3-b6fe-48b1-b260-aaf2ff2ac469')\"\n",
       "            title=\"Suggest charts.\"\n",
       "            style=\"display:none;\">\n",
       "\n",
       "<svg xmlns=\"http://www.w3.org/2000/svg\" height=\"24px\"viewBox=\"0 0 24 24\"\n",
       "     width=\"24px\">\n",
       "    <g>\n",
       "        <path d=\"M19 3H5c-1.1 0-2 .9-2 2v14c0 1.1.9 2 2 2h14c1.1 0 2-.9 2-2V5c0-1.1-.9-2-2-2zM9 17H7v-7h2v7zm4 0h-2V7h2v10zm4 0h-2v-4h2v4z\"/>\n",
       "    </g>\n",
       "</svg>\n",
       "  </button>\n",
       "\n",
       "<style>\n",
       "  .colab-df-quickchart {\n",
       "      --bg-color: #E8F0FE;\n",
       "      --fill-color: #1967D2;\n",
       "      --hover-bg-color: #E2EBFA;\n",
       "      --hover-fill-color: #174EA6;\n",
       "      --disabled-fill-color: #AAA;\n",
       "      --disabled-bg-color: #DDD;\n",
       "  }\n",
       "\n",
       "  [theme=dark] .colab-df-quickchart {\n",
       "      --bg-color: #3B4455;\n",
       "      --fill-color: #D2E3FC;\n",
       "      --hover-bg-color: #434B5C;\n",
       "      --hover-fill-color: #FFFFFF;\n",
       "      --disabled-bg-color: #3B4455;\n",
       "      --disabled-fill-color: #666;\n",
       "  }\n",
       "\n",
       "  .colab-df-quickchart {\n",
       "    background-color: var(--bg-color);\n",
       "    border: none;\n",
       "    border-radius: 50%;\n",
       "    cursor: pointer;\n",
       "    display: none;\n",
       "    fill: var(--fill-color);\n",
       "    height: 32px;\n",
       "    padding: 0;\n",
       "    width: 32px;\n",
       "  }\n",
       "\n",
       "  .colab-df-quickchart:hover {\n",
       "    background-color: var(--hover-bg-color);\n",
       "    box-shadow: 0 1px 2px rgba(60, 64, 67, 0.3), 0 1px 3px 1px rgba(60, 64, 67, 0.15);\n",
       "    fill: var(--button-hover-fill-color);\n",
       "  }\n",
       "\n",
       "  .colab-df-quickchart-complete:disabled,\n",
       "  .colab-df-quickchart-complete:disabled:hover {\n",
       "    background-color: var(--disabled-bg-color);\n",
       "    fill: var(--disabled-fill-color);\n",
       "    box-shadow: none;\n",
       "  }\n",
       "\n",
       "  .colab-df-spinner {\n",
       "    border: 2px solid var(--fill-color);\n",
       "    border-color: transparent;\n",
       "    border-bottom-color: var(--fill-color);\n",
       "    animation:\n",
       "      spin 1s steps(1) infinite;\n",
       "  }\n",
       "\n",
       "  @keyframes spin {\n",
       "    0% {\n",
       "      border-color: transparent;\n",
       "      border-bottom-color: var(--fill-color);\n",
       "      border-left-color: var(--fill-color);\n",
       "    }\n",
       "    20% {\n",
       "      border-color: transparent;\n",
       "      border-left-color: var(--fill-color);\n",
       "      border-top-color: var(--fill-color);\n",
       "    }\n",
       "    30% {\n",
       "      border-color: transparent;\n",
       "      border-left-color: var(--fill-color);\n",
       "      border-top-color: var(--fill-color);\n",
       "      border-right-color: var(--fill-color);\n",
       "    }\n",
       "    40% {\n",
       "      border-color: transparent;\n",
       "      border-right-color: var(--fill-color);\n",
       "      border-top-color: var(--fill-color);\n",
       "    }\n",
       "    60% {\n",
       "      border-color: transparent;\n",
       "      border-right-color: var(--fill-color);\n",
       "    }\n",
       "    80% {\n",
       "      border-color: transparent;\n",
       "      border-right-color: var(--fill-color);\n",
       "      border-bottom-color: var(--fill-color);\n",
       "    }\n",
       "    90% {\n",
       "      border-color: transparent;\n",
       "      border-bottom-color: var(--fill-color);\n",
       "    }\n",
       "  }\n",
       "</style>\n",
       "\n",
       "  <script>\n",
       "    async function quickchart(key) {\n",
       "      const quickchartButtonEl =\n",
       "        document.querySelector('#' + key + ' button');\n",
       "      quickchartButtonEl.disabled = true;  // To prevent multiple clicks.\n",
       "      quickchartButtonEl.classList.add('colab-df-spinner');\n",
       "      try {\n",
       "        const charts = await google.colab.kernel.invokeFunction(\n",
       "            'suggestCharts', [key], {});\n",
       "      } catch (error) {\n",
       "        console.error('Error during call to suggestCharts:', error);\n",
       "      }\n",
       "      quickchartButtonEl.classList.remove('colab-df-spinner');\n",
       "      quickchartButtonEl.classList.add('colab-df-quickchart-complete');\n",
       "    }\n",
       "    (() => {\n",
       "      let quickchartButtonEl =\n",
       "        document.querySelector('#df-e4c077a3-b6fe-48b1-b260-aaf2ff2ac469 button');\n",
       "      quickchartButtonEl.style.display =\n",
       "        google.colab.kernel.accessAllowed ? 'block' : 'none';\n",
       "    })();\n",
       "  </script>\n",
       "</div>\n",
       "    </div>\n",
       "  </div>\n"
      ],
      "text/plain": [
       "             sku                                               name  \\\n",
       "14703    PAC1764                                   QNAP TS-431P NAS   \n",
       "2696     WDT0288                  8GB SSHD 1TB WD Blue SSD 25 \"SATA   \n",
       "17484    APP2489                     Apple iPhone 64GB Space Gray X   \n",
       "13648    GRT0447  Griffin Survivor iPhone Case Journey 8 Plus / ...   \n",
       "11288    OWC0132            OWC Aura 2TB SSD for Apple Mac Pro 2013   \n",
       "12389    PAC1424  Synology DS916 + Pack | 2GB RAM | WD 16TB Network   \n",
       "19060    TRA0051              Transcend JetDrive PCIe SSD 825 240GB   \n",
       "17267    AP20278  Like new - Apple Watch 42mm steel case and str...   \n",
       "11559    PAC1270        Pack QNAP TS-251 | 4GB RAM | WD 4TB Network   \n",
       "2291     MYK0013  MyKronoz ZeBracelet 2 receiving calls Bracelet...   \n",
       "2309     LOG0158  Logitech AnyAngle iPad Mini Case with Stand Black   \n",
       "14564    SAT0021             Support Satechi iPhone Aluminum Silver   \n",
       "11723    OWC0182             OWC Mercury Electra 6G SSD Max 2TB 7mm   \n",
       "1944     PAC0721  expansion kit 1TB SSD Crucial MX200 Mac mini a...   \n",
       "18318    EVU0013  Evutec Aergo Ballistic Nylon Case + Support Ha...   \n",
       "15748    APP2044  Open - Apple iPhone 7 Plus 32GB Silver - like new   \n",
       "15742    APP2027   Open - Pink Apple iPhone 6s 16GB Gold - Like New   \n",
       "931    CRU0016-2  Crucial memory Mac 8GB (2x4GB) SO-DIMM DDR3 10...   \n",
       "14600    SAT0042                      Satechi Aluminum HDD Dock Mac   \n",
       "15067  BNQ0037-A        Open - LED Monitor Benq GW2270 215 \"DVI VGA   \n",
       "18460    APP2691  Apple iMac Pro 27 \"14-core Intel Xeon W 25GHz ...   \n",
       "2288     TRA0033  Transcend StoreJet 100 2TB External Hard Drive...   \n",
       "15844  OWC0124-A  Open - OWC HDD Installation Kit for iMac 27 \"2...   \n",
       "17879    PAC2371  Synology DS218 + NAS Server | 6GB RAM | 8TB (2...   \n",
       "271      PAC0184  Apple MacBook Pro 133 \"25GHz | RAM 16GB | 500G...   \n",
       "18661    LAN0015                 LandingZone DOCK PRO 13 \"Touch bar   \n",
       "13601  BEL0240-A  (Open) Belkin InvisiGlass TrueClear invisible ...   \n",
       "2317     MOX0015            Moxie 2.5D Tempered glass iPhone 6 / 6S   \n",
       "11860    WDT0315              Blue WD 2TB Hard Drive 35 \"Mac and PC   \n",
       "2414     BEZ0181  Be.ez LA robe MacBook Air / Pro 13 Black / Orange   \n",
       "1410     GOP0077                            GoPro Fetch Dog Harness   \n",
       "1614     OLL0017  Olloclip 4-in-1 lens iPhone 6 / 6S and 6 / 6S ...   \n",
       "11052    PAC1226  Pack QNAP TS-251 + | 2GB RAM | Seagate 4TB Iro...   \n",
       "3153     XDO0021      X-Doria Lux Apple Watch Strap 38mm White Croc   \n",
       "16699    APP2433  Apple Macbook 12 \"Core i5 1.3GHz | 16GB | 512G...   \n",
       "11331    UAG0027   Urban Armor Gear Pro 129 iPad Case \"Blue / Black   \n",
       "473      NTE0019  NewerTech NuPower battery MacBook Pro 15 \"unib...   \n",
       "15762    ELG0049         Dock Elgato Thunderbolt Hub USB-C 3 Silver   \n",
       "18075    ADN0055                  Jot Adonith Dash 3 Pointer Bronze   \n",
       "10692    PAC1778            Synology Pack DS216SE | Seagate 8TB NAS   \n",
       "1442     BEA0025             Beats by Dr. Dre speaker Red Pill Case   \n",
       "1681     PAC1796  Synology DS1815 Pack + | 8GB RAM | Seagate 48T...   \n",
       "13422    APP1776  Smart Battery Apple Battery Case iPhone 6s Cha...   \n",
       "2326     SPE0156  Speck CandyShell Grip Case for iPhone 6 Plus 5...   \n",
       "2654     KAN0041          USB-C Kanex HDMI Adapter MacBook 12 \"- 4K   \n",
       "816      WDT0196    Western Digital My Book Thunderbolt Duo 6TB Mac   \n",
       "1047     BNQ0019                BL2410PT LED Monitor Benq 24 \"Black   \n",
       "19216    WAC0257  Wacom Intuos Graphics Tablet M Bluetooth Pista...   \n",
       "13148    SYN0158             Synology MailPlus License for 20 users   \n",
       "16077    AP20145          Like new - Apple AirPort Time Capsule 3TB   \n",
       "\n",
       "                                                    desc     price  \\\n",
       "14703  NAS with 16TB capacity Seagate Hard Drives for...   1021.95   \n",
       "2696   Western Digital hard drive hybrid Mac and PC 1...     94.90   \n",
       "17484                             New Free iPhone 64GB X   1159.00   \n",
       "13648  rugged case with shock dispersion system for i...     29.99   \n",
       "11288               2TB SSD hard drive for Mac Pro 2013.   1399.99   \n",
       "12389  Synology DS916 + with 2GB RAM memory + 16TB (4...   1256.80   \n",
       "19060  240GB SSD expansion for Macbook Pro Retina Mac...    269.99   \n",
       "17267                  Apple Watch 42 mm refitted as new    869.00   \n",
       "11559  QNAP TS-251 pack 4GB RAM + 4TB (2x2TB) Network...    616.00   \n",
       "2291   Bracelet sports and activities for iPhone iPad...     79.00   \n",
       "2309   Cover with multiposition support for iPad Mini...     71.99   \n",
       "14564  Stand with aluminum finish Lightning access to...     34.99   \n",
       "11723        7mm 2.5-inch hard drive for Mac 2TB and PC.    967.99   \n",
       "1944   SSD upgrade kit 1TB iMac Mac mini 2009 and 200...    684.98   \n",
       "18318  Protection cover with plastic anti-impact nylo...     29.99   \n",
       "15748  Apple iPhone 7 Plus Free 32 GB Silver (MN4X2QL...    909.00   \n",
       "15742  Apple 16GB Apple iPhone 6s Rose Gold (MKQM2QL ...    659.00   \n",
       "931    RAM 8GB (2x4GB) Mac mini iMac MacBook and MacB...    107.98   \n",
       "14600  Dock with DVD HDD SATA SSDs and two USB 3.0 po...     69.99   \n",
       "15067  LED 215-inch monitor flicker-free technology a...    115.00   \n",
       "18460  Pro iMac 27 inch screen Retina 5K and Intel Xe...  11739.00   \n",
       "2288   2TB external hard drive ultrafast and ultra re...    137.00   \n",
       "15844  installation disc iMac 27-inch HDD in 2012 and...     72.99   \n",
       "17879  NAS storage server integrated with special foc...    766.96   \n",
       "271    Apple MacBook Pro 133 inches (MD101Y / A) with...   1439.00   \n",
       "18661  station and dock with multiple ports for MacBo...    388.05   \n",
       "13601      Invisible protective glass iPhone 5 5s 5c, SE     19.99   \n",
       "2317      Screen Saver tempered glass for iPhone 6 / 6S.      9.99   \n",
       "11860  Internal Hard Drive Western Digital 2TB 3.5-in...     79.00   \n",
       "2414   Case adaptable to the form for MacBook Air 13-...     34.99   \n",
       "1410                             GoPro harness for dogs.     63.99   \n",
       "1614   gLente wide angle lens macro fisheye and macro...     79.99   \n",
       "11052  Pack NAS QNAP TS-251 + 2GB RAM + 4TB (2x2TB) I...    568.98   \n",
       "3153    Leather strap for easy installation Apple Watch.     30.99   \n",
       "16699  New MacBook Retina Display 12-inch Core i5 16G...   2039.00   \n",
       "11331  resistant and lightweight housing cover format...     79.95   \n",
       "473     Battery MacBook Pro 15-inch Unibody No 2006-2008    119.99   \n",
       "15762  USB-Hub with 2 ports Thunderbolt C 3 (40GB) 1 ...    299.99   \n",
       "18075  clip stylus with transportation and 14-hour ba...     60.50   \n",
       "10692  Synology NAS 16TB (2x8TB) Seagate Hard Drive f...    859.97   \n",
       "1442             Beats Pill Case with ring to transport.     34.95   \n",
       "1681   DS1815 + Nas with 8GB RAM and 48TB capacity (8...   3276.89   \n",
       "13422                   Battery Case for iPhone 6s and 6    119.00   \n",
       "2326              ultra tough for iPhone 6 Plus. housing     26.99   \n",
       "2654   C USB-HDMI adapter for MacBook high-resolution...     49.99   \n",
       "816    WD External Hard Drive Mac and PC with Thunder...    529.99   \n",
       "1047     Professional Monitor 24-inch HD for Mac and PC.    253.00   \n",
       "19216  Medium-edge graphics tablet with Bluetooth int...    199.00   \n",
       "13148  Mail service license valid accounts 20 Ai ± or...   1101.10   \n",
       "16077       Apple Airport Time Capsule 3TB Reconditioned    429.00   \n",
       "\n",
       "      promo_price  in_stock       type  \n",
       "14703   6.913.686         0   12175397  \n",
       "2696      949.003         0   12655397  \n",
       "17484  11.240.005         1  113271716  \n",
       "13648     159.902         0   11865403  \n",
       "11288  14.285.865         0   12215397  \n",
       "12389   1.138.368         0   12175397  \n",
       "19060   2.689.951         1   12215397  \n",
       "17267   3.989.999         0   24895185  \n",
       "11559   4.679.905         0   12175397  \n",
       "2291       74.899         0   11905404  \n",
       "2309      468.996         0   12635403  \n",
       "14564     249.901         1       5720  \n",
       "11723   6.685.843         0   12215397  \n",
       "1944    6.479.901         0       1433  \n",
       "18318     199.904         1   11865403  \n",
       "15748   7.303.306         0   85651716  \n",
       "15742   5.203.315         0       1716  \n",
       "931     1.069.894         1       1364  \n",
       "14600     399.905         1   11935397  \n",
       "15067     973.732         0       1298  \n",
       "18460  11.035.004         0  118692158  \n",
       "2288    1.242.041         0   11935397  \n",
       "15844     438.896         0       1298  \n",
       "17879   6.251.792         0   12175397  \n",
       "271    13.989.899         0       1282  \n",
       "18661   3.499.889         1       8696  \n",
       "13601     115.516         0       1298  \n",
       "2317       39.894         0   13555403  \n",
       "11860     639.945         0   12655397  \n",
       "2414      298.991         0   13835403  \n",
       "1410      499.899         0   12355400  \n",
       "1614      669.904         0   11905404  \n",
       "11052   4.891.788         0   12175397  \n",
       "3153      268.995         1       2449  \n",
       "16699  19.170.042         0   5,39E+11  \n",
       "11331     499.899         0   12635403  \n",
       "473       949.898         1      10142  \n",
       "15762   2.999.893         1   12585395  \n",
       "18075     399.905         1       1229  \n",
       "10692   5.781.791         1   12175397  \n",
       "1442      239.943         0       5398  \n",
       "1681   27.627.458         0   12175397  \n",
       "13422   1.099.902         0   5,49E+11  \n",
       "2326      249.865         0   11865403  \n",
       "2654      399.905         1   12585395  \n",
       "816     3.669.894         0   11935397  \n",
       "1047    2.229.909         0       1296  \n",
       "19216   1.869.898         1       1405  \n",
       "13148  11.099.899         0       1416  \n",
       "16077   2.777.942         0   11935397  "
      ]
     },
     "execution_count": 35,
     "metadata": {},
     "output_type": "execute_result"
    }
   ],
   "source": [
    "promo_price_df = products_df.loc[(products_df.promo_price.astype(str).str.contains(\"\\d+\\.\\d+\\.\\d+\"))|(products_df.promo_price.astype(str).str.contains(\"\\d+\\.\\d{3,}\")), :]\n",
    "promo_price_df.sample(50)"
   ]
  },
  {
   "cell_type": "markdown",
   "metadata": {
    "id": "0Hfgo84xu_VS"
   },
   "source": [
    "So we were correct, over 90% of the data in this column is corrupt. There's no point deleting all of these rows, then we would barely have a products table. Instead, as it's only this column that appears to be very untrustworthy, we will delete the column."
   ]
  },
  {
   "cell_type": "code",
   "execution_count": 32,
   "metadata": {
    "id": "OalyJ-8atij8"
   },
   "outputs": [],
   "source": [
    "products_cl = products_df.drop(columns=[\"promo_price\"])"
   ]
  },
  {
   "cell_type": "code",
   "execution_count": 33,
   "metadata": {
    "colab": {
     "base_uri": "https://localhost:8080/"
    },
    "executionInfo": {
     "elapsed": 271,
     "status": "ok",
     "timestamp": 1696862264882,
     "user": {
      "displayName": "Yanish Veerahoo",
      "userId": "12777002046449133933"
     },
     "user_tz": -120
    },
    "id": "mJQtVYS-Knyf",
    "outputId": "9896da7c-7571-487b-98cd-1b9a36334bc8"
   },
   "outputs": [
    {
     "name": "stdout",
     "output_type": "stream",
     "text": [
      "<class 'pandas.core.frame.DataFrame'>\n",
      "Index: 9992 entries, 0 to 19325\n",
      "Data columns (total 6 columns):\n",
      " #   Column    Non-Null Count  Dtype  \n",
      "---  ------    --------------  -----  \n",
      " 0   sku       9992 non-null   object \n",
      " 1   name      9992 non-null   object \n",
      " 2   desc      9992 non-null   object \n",
      " 3   price     9992 non-null   float64\n",
      " 4   in_stock  9992 non-null   int64  \n",
      " 5   type      9946 non-null   object \n",
      "dtypes: float64(1), int64(1), object(4)\n",
      "memory usage: 546.4+ KB\n"
     ]
    }
   ],
   "source": [
    "products_cl.info()"
   ]
  },
  {
   "cell_type": "markdown",
   "metadata": {
    "id": "vyyISxnQ1YVG"
   },
   "source": [
    "Obviously, there's now no need to convert `promo_price` to a numerical datatype\n",
    "\n",
    "Don't forget to download/save your new DataFrames. Also, give them an obvious name, so that you know they are the cleaned version and not the original DataFrame."
   ]
  },
  {
   "cell_type": "code",
   "execution_count": 34,
   "metadata": {
    "id": "6M4Jxfz-8G2b"
   },
   "outputs": [],
   "source": [
    "# from google.colab import files\n",
    "\n",
    "# orders_df.to_csv(\"orders_cl.csv\", index=False)\n",
    "# files.download(\"orders_cl.csv\")\n",
    "\n",
    "# orderlines_df.to_csv(\"orderlines_cl.csv\", index=False)\n",
    "# files.download(\"orderlines_cl.csv\")\n",
    "\n",
    "products_cl.to_csv(\"../data/products_cl.csv\", index=False)\n",
    "# files.download(\"products_cl.csv\")"
   ]
  },
  {
   "cell_type": "code",
   "execution_count": 43,
   "metadata": {
    "editable": true,
    "slideshow": {
     "slide_type": ""
    },
    "tags": []
   },
   "outputs": [],
   "source": [
    "for p in products[\"price\"].astype(str):\n",
    "    if not isinstance(p, str):\n",
    "        print(p)"
   ]
  }
 ],
 "metadata": {
  "colab": {
   "provenance": [
    {
     "file_id": "16pgUncac38tFjS84jf6pDirtsEbYcgVT",
     "timestamp": 1696865010215
    },
    {
     "file_id": "1mD_LzinGOgqg1l3qeXKzaU7-oKUv6Bvi",
     "timestamp": 1696856207883
    }
   ]
  },
  "kernelspec": {
   "display_name": "Python 3 (ipykernel)",
   "language": "python",
   "name": "python3"
  },
  "language_info": {
   "codemirror_mode": {
    "name": "ipython",
    "version": 3
   },
   "file_extension": ".py",
   "mimetype": "text/x-python",
   "name": "python",
   "nbconvert_exporter": "python",
   "pygments_lexer": "ipython3",
   "version": "3.12.9"
  }
 },
 "nbformat": 4,
 "nbformat_minor": 4
}

{
 "cells": [
  {
   "cell_type": "markdown",
   "metadata": {
    "id": "aSm5aaRLtFLx"
   },
   "source": [
    "# Quality Assessment\n",
    "Now it's your turn. Follow [the steps on the platform](https://learn.wbscodingschool.com/courses/data-science/lessons/%f0%9f%93%9d-5-data-quality/) and use what you've learnt to see how reliable the data is."
   ]
  },
  {
   "cell_type": "code",
   "execution_count": 139,
   "metadata": {
    "id": "Lq7zsZka4q2m"
   },
   "outputs": [],
   "source": [
    "import pandas as pd"
   ]
  },
  {
   "cell_type": "markdown",
   "metadata": {
    "id": "hzwXSr-xfh97"
   },
   "source": [
    "Load our cleaned DataFrames"
   ]
  },
  {
   "cell_type": "code",
   "execution_count": 142,
   "metadata": {
    "id": "30IJsE7t49Eu"
   },
   "outputs": [],
   "source": [
    "# orders_cl.csv\n",
    "path = './Files/orders_cl.csv'\n",
    "orders_cl = pd.read_csv(path)\n",
    "\n",
    "# orderlines_cl.csv\n",
    "path = './Files/orderlines_cl.csv'\n",
    "orderlines_cl = pd.read_csv(path)\n",
    "\n",
    "# products_cl.csv\n",
    "path = './Files/products_cl.csv'\n",
    "products_cl = pd.read_csv(path)\n",
    "\n",
    "# brands.csv\n",
    "path = './Files/brands.csv'\n",
    "brands = pd.read_csv(path)\n",
    "\n",
    "# orders_cl.csv\n",
    "path = './Files/cleaned_orders_cl.csv'\n",
    "orders_cl = pd.read_csv(path)\n",
    "\n",
    "# orderlines_cl.csv\n",
    "path = './Files/cleaned_orderlines_cl.csv'\n",
    "orderlines_cl = pd.read_csv(path)\n"
   ]
  },
  {
   "cell_type": "markdown",
   "metadata": {
    "id": "GjQD8WPe6h0i"
   },
   "source": [
    "## 1.&nbsp; Define Pandas display format"
   ]
  },
  {
   "cell_type": "code",
   "execution_count": 145,
   "metadata": {
    "id": "SLikKmNx4WNo"
   },
   "outputs": [],
   "source": [
    "import pandas as pd\n",
    "pd.set_option('display.float_format', lambda x: '%.2f' % x)\n",
    "pd.set_option('display.max_rows', 1000)# your code here"
   ]
  },
  {
   "cell_type": "code",
   "execution_count": 147,
   "metadata": {},
   "outputs": [
    {
     "data": {
      "text/plain": [
       "61775"
      ]
     },
     "execution_count": 147,
     "metadata": {},
     "output_type": "execute_result"
    }
   ],
   "source": [
    "orders_cl.shape[0]"
   ]
  },
  {
   "cell_type": "code",
   "execution_count": 149,
   "metadata": {},
   "outputs": [
    {
     "data": {
      "text/plain": [
       "205580"
      ]
     },
     "execution_count": 149,
     "metadata": {},
     "output_type": "execute_result"
    }
   ],
   "source": [
    "orderlines_cl.shape[0]"
   ]
  },
  {
   "cell_type": "markdown",
   "metadata": {
    "id": "M0NhTKzF6jV4"
   },
   "source": [
    "## 2.&nbsp; Exclude unwanted orders"
   ]
  },
  {
   "cell_type": "code",
   "execution_count": 152,
   "metadata": {
    "id": "ja0XpsDDkZrT"
   },
   "outputs": [
    {
     "name": "stdout",
     "output_type": "stream",
     "text": [
      "['Cancelled' 'Completed' 'Pending']\n"
     ]
    }
   ],
   "source": [
    "# Keep only the desired order states\n",
    "valid_orders = orders_cl[orders_cl[\"state\"].isin([\"Completed\", \"Cancelled\",\"Pending\"])]\n",
    "print(orders_cl[\"state\"].unique())\n"
   ]
  },
  {
   "cell_type": "code",
   "execution_count": 154,
   "metadata": {},
   "outputs": [
    {
     "data": {
      "text/plain": [
       "61775"
      ]
     },
     "execution_count": 154,
     "metadata": {},
     "output_type": "execute_result"
    }
   ],
   "source": [
    "valid_orders.shape[0]"
   ]
  },
  {
   "cell_type": "code",
   "execution_count": 156,
   "metadata": {},
   "outputs": [
    {
     "name": "stdout",
     "output_type": "stream",
     "text": [
      "<class 'pandas.core.frame.DataFrame'>\n",
      "Index: 76653 entries, 6 to 205568\n",
      "Data columns (total 7 columns):\n",
      " #   Column            Non-Null Count  Dtype  \n",
      "---  ------            --------------  -----  \n",
      " 0   id                76653 non-null  int64  \n",
      " 1   id_order          76653 non-null  int64  \n",
      " 2   product_id        76653 non-null  int64  \n",
      " 3   product_quantity  76653 non-null  int64  \n",
      " 4   sku               76653 non-null  object \n",
      " 5   unit_price        76653 non-null  float64\n",
      " 6   date              76653 non-null  object \n",
      "dtypes: float64(1), int64(4), object(2)\n",
      "memory usage: 4.7+ MB\n",
      "None\n"
     ]
    }
   ],
   "source": [
    "valid_orderlines = orderlines_cl[orderlines_cl[\"id_order\"].isin(valid_orders[\"order_id\"])]\n",
    "print(valid_orderlines.info())\n"
   ]
  },
  {
   "cell_type": "code",
   "execution_count": 158,
   "metadata": {},
   "outputs": [
    {
     "data": {
      "text/plain": [
       "76653"
      ]
     },
     "execution_count": 158,
     "metadata": {},
     "output_type": "execute_result"
    }
   ],
   "source": [
    "valid_orderlines.shape[0]"
   ]
  },
  {
   "cell_type": "code",
   "execution_count": 160,
   "metadata": {
    "scrolled": true
   },
   "outputs": [
    {
     "name": "stdout",
     "output_type": "stream",
     "text": [
      "<class 'pandas.core.frame.DataFrame'>\n",
      "Index: 59672 entries, 0 to 61774\n",
      "Data columns (total 4 columns):\n",
      " #   Column        Non-Null Count  Dtype  \n",
      "---  ------        --------------  -----  \n",
      " 0   order_id      59672 non-null  int64  \n",
      " 1   created_date  59672 non-null  object \n",
      " 2   total_paid    59672 non-null  float64\n",
      " 3   state         59672 non-null  object \n",
      "dtypes: float64(1), int64(1), object(2)\n",
      "memory usage: 2.3+ MB\n",
      "None\n"
     ]
    }
   ],
   "source": [
    "valid_orders = valid_orders[valid_orders[\"order_id\"].isin(valid_orderlines[\"id_order\"])]\n",
    "print(valid_orders.info())\n"
   ]
  },
  {
   "cell_type": "code",
   "execution_count": 162,
   "metadata": {},
   "outputs": [
    {
     "data": {
      "text/plain": [
       "59672"
      ]
     },
     "execution_count": 162,
     "metadata": {},
     "output_type": "execute_result"
    }
   ],
   "source": [
    "valid_orders.shape[0]"
   ]
  },
  {
   "cell_type": "code",
   "execution_count": 164,
   "metadata": {},
   "outputs": [
    {
     "data": {
      "text/plain": [
       "76653"
      ]
     },
     "execution_count": 164,
     "metadata": {},
     "output_type": "execute_result"
    }
   ],
   "source": [
    "valid_orderlines.shape[0]"
   ]
  },
  {
   "cell_type": "code",
   "execution_count": 166,
   "metadata": {},
   "outputs": [],
   "source": [
    "# Step 5: Save the cleaned DataFrames back to CSV\n",
    "valid_orderlines.to_csv('./Files/cleaned_orderlines_cl.csv', index=False)\n",
    "valid_orders.to_csv('./Files/cleaned_orders_cl.csv', index=False)"
   ]
  },
  {
   "cell_type": "code",
   "execution_count": null,
   "metadata": {},
   "outputs": [],
   "source": []
  },
  {
   "cell_type": "code",
   "execution_count": 169,
   "metadata": {},
   "outputs": [
    {
     "data": {
      "image/png": "[encoded data removed]",
      "text/plain": [
       "<Figure size 1000x600 with 1 Axes>"
      ]
     },
     "metadata": {},
     "output_type": "display_data"
    }
   ],
   "source": [
    "#Number of Orders by State\n",
    "import seaborn as sns\n",
    "import matplotlib.pyplot as plt\n",
    "\n",
    "plt.figure(figsize=(10, 6))\n",
    "sns.countplot(x=\"state\", data=valid_orders, hue=\"state\",palette=\"Set2\",legend=False)\n",
    "plt.title(\"Number of Orders by State\")\n",
    "plt.xlabel(\"Order State\")\n",
    "plt.ylabel(\"Count\")\n",
    "plt.show()\n"
   ]
  },
  {
   "cell_type": "code",
   "execution_count": 171,
   "metadata": {},
   "outputs": [
    {
     "data": {
      "image/png": "[encoded data removed]",
      "text/plain": [
       "<Figure size 1000x600 with 1 Axes>"
      ]
     },
     "metadata": {},
     "output_type": "display_data"
    }
   ],
   "source": [
    "#Distribution of Total Paid Amount\n",
    "plt.figure(figsize=(10, 6))\n",
    "sns.histplot(valid_orders[\"total_paid\"], bins=30, kde=True, color=\"skyblue\")\n",
    "plt.title(\"Distribution of Total Paid Amount\")\n",
    "plt.xlabel(\"Total Paid\")\n",
    "plt.ylabel(\"Frequency\")\n",
    "plt.show()\n",
    "\n"
   ]
  },
  {
   "cell_type": "code",
   "execution_count": 173,
   "metadata": {},
   "outputs": [
    {
     "data": {
      "image/png": "[encoded data removed]",
      "text/plain": [
       "<Figure size 1400x600 with 1 Axes>"
      ]
     },
     "metadata": {},
     "output_type": "display_data"
    }
   ],
   "source": [
    "#Orders Over Time\n",
    "valid_orders[\"created_date\"] = pd.to_datetime(valid_orders[\"created_date\"])\n",
    "\n",
    "plt.figure(figsize=(14, 6))\n",
    "sns.lineplot(x=\"created_date\", y=\"order_id\", data=valid_orders.groupby(\"created_date\").count().reset_index(), color=\"purple\")\n",
    "plt.title(\"Number of Orders Over Time\")\n",
    "plt.xlabel(\"Date\")\n",
    "plt.ylabel(\"Number of Orders\")\n",
    "plt.show()\n"
   ]
  },
  {
   "cell_type": "markdown",
   "metadata": {
    "id": "F-rtzwAn7WyS"
   },
   "source": [
    "## 3.&nbsp; Exclude orders with unknown products\n"
   ]
  },
  {
   "cell_type": "code",
   "execution_count": 177,
   "metadata": {
    "id": "EkNqtrfdJGAW"
   },
   "outputs": [
    {
     "name": "stdout",
     "output_type": "stream",
     "text": [
      "Unknown Products Found:\n",
      "[]\n"
     ]
    }
   ],
   "source": [
    "#1. Identify Unknown Products \n",
    "#Check which SKUs are present in products\n",
    "valid_skus = products_cl[\"sku\"].unique()\n",
    "\n",
    "# Filter unknown SKUs in orderlines\n",
    "unknown_products = orderlines_cl[~orderlines_cl[\"sku\"].isin(valid_skus)]\n",
    "print(\"Unknown Products Found:\")\n",
    "print(unknown_products[\"sku\"].unique())\n"
   ]
  },
  {
   "cell_type": "code",
   "execution_count": 118,
   "metadata": {},
   "outputs": [
    {
     "name": "stdout",
     "output_type": "stream",
     "text": [
      "Orders to be Deleted:\n",
      "[299576 299638 299695 ... 527170 527191 527367]\n"
     ]
    }
   ],
   "source": [
    "#2. Find Affected Orders\n",
    "# Get the list of affected order IDs\n",
    "orders_with_unknown_products = unknown_products[\"id_order\"].unique()\n",
    "print(\"Orders to be Deleted:\")\n",
    "print(orders_with_unknown_products)\n"
   ]
  },
  {
   "cell_type": "code",
   "execution_count": 120,
   "metadata": {},
   "outputs": [
    {
     "name": "stdout",
     "output_type": "stream",
     "text": [
      "Valid Orderlines After Removal:\n",
      "<class 'pandas.core.frame.DataFrame'>\n",
      "Index: 205580 entries, 0 to 216249\n",
      "Data columns (total 7 columns):\n",
      " #   Column            Non-Null Count   Dtype  \n",
      "---  ------            --------------   -----  \n",
      " 0   id                205580 non-null  int64  \n",
      " 1   id_order          205580 non-null  int64  \n",
      " 2   product_id        205580 non-null  int64  \n",
      " 3   product_quantity  205580 non-null  int64  \n",
      " 4   sku               205580 non-null  object \n",
      " 5   unit_price        205580 non-null  float64\n",
      " 6   date              205580 non-null  object \n",
      "dtypes: float64(1), int64(4), object(2)\n",
      "memory usage: 12.5+ MB\n",
      "None\n"
     ]
    }
   ],
   "source": [
    "#3. Remove Affected Orderlines\n",
    "# Remove rows from orderlines with unknown products\n",
    "valid_orderlines = orderlines_cl[~orderlines_cl[\"id_order\"].isin(orders_with_unknown_products)]\n",
    "print(\"Valid Orderlines After Removal:\")\n",
    "print(valid_orderlines.info())\n"
   ]
  },
  {
   "cell_type": "code",
   "execution_count": 89,
   "metadata": {},
   "outputs": [
    {
     "name": "stdout",
     "output_type": "stream",
     "text": [
      "Valid Orders After Removal:\n",
      "<class 'pandas.core.frame.DataFrame'>\n",
      "Index: 220585 entries, 0 to 226903\n",
      "Data columns (total 4 columns):\n",
      " #   Column        Non-Null Count   Dtype  \n",
      "---  ------        --------------   -----  \n",
      " 0   order_id      220585 non-null  int64  \n",
      " 1   created_date  220585 non-null  object \n",
      " 2   total_paid    220585 non-null  float64\n",
      " 3   state         220585 non-null  object \n",
      "dtypes: float64(1), int64(1), object(2)\n",
      "memory usage: 8.4+ MB\n",
      "None\n"
     ]
    }
   ],
   "source": [
    "#4. Remove Affected Orders\n",
    "# Remove orders with unknown products from valid_orders\n",
    "valid_orders = valid_orders[~valid_orders[\"order_id\"].isin(orders_with_unknown_products)]\n",
    "print(\"Valid Orders After Removal:\")\n",
    "print(valid_orders.info())\n"
   ]
  },
  {
   "cell_type": "code",
   "execution_count": 87,
   "metadata": {},
   "outputs": [
    {
     "name": "stdout",
     "output_type": "stream",
     "text": [
      "Orders with Unknown Products: [299576 299638 299695 ... 527170 527191 527367]\n",
      "Removed Orders: 6319 (2.78%)\n"
     ]
    }
   ],
   "source": [
    "# Check if there are any orders with unknown products\n",
    "print(\"Orders with Unknown Products:\", orders_with_unknown_products)\n",
    "\n",
    "# Count valid orders before and after removal\n",
    "valid_orders_before = orders_cl.shape[0]  # Before removal\n",
    "valid_orders_after = valid_orders.shape[0]\n",
    "# Calculate removed orders and the percentage\n",
    "removed_orders = valid_orders_before - valid_orders_after\n",
    "print(f\"Removed Orders: {removed_orders} ({removed_orders / valid_orders_before * 100:.2f}%)\")\n"
   ]
  },
  {
   "cell_type": "code",
   "execution_count": 75,
   "metadata": {},
   "outputs": [
    {
     "name": "stdout",
     "output_type": "stream",
     "text": [
      "Valid Orderlines After Removal: 205580\n",
      "Valid Orders After Removal: 220585\n",
      "Cleaned files have been saved successfully.\n"
     ]
    }
   ],
   "source": [
    "# Step 1: Filter out the unknown product SKUs from orderlines\n",
    "unknown_products = orderlines_cl[~orderlines_cl[\"sku\"].isin(products_cl[\"sku\"])]\n",
    "orders_with_unknown_products = unknown_products[\"id_order\"].unique()\n",
    "\n",
    "# Step 2: Remove affected orderlines from orderlines_cl\n",
    "valid_orderlines = orderlines_cl[~orderlines_cl[\"id_order\"].isin(orders_with_unknown_products)]\n",
    "\n",
    "# Step 3: Remove affected orders from valid_orders (assuming orders_cl has the order data)\n",
    "valid_orders = orders_cl[~orders_cl[\"order_id\"].isin(orders_with_unknown_products)]\n",
    "\n",
    "# Step 4: Verify the number of rows after removal\n",
    "print(f\"Valid Orderlines After Removal: {valid_orderlines.shape[0]}\")\n",
    "print(f\"Valid Orders After Removal: {valid_orders.shape[0]}\")\n",
    "\n",
    "# Step 5: Save the cleaned DataFrames back to CSV\n",
    "valid_orderlines.to_csv('./Files/cleaned_orderlines_cl.csv', index=False)\n",
    "valid_orders.to_csv('./Files/cleaned_orders_cl.csv', index=False)\n",
    "\n",
    "# Optional: Save products_cl (if you've made any changes to it)\n",
    "products_cl.to_csv('./Files/cleaned_products_cl.csv', index=False)\n",
    "\n",
    "# Confirm that the files are saved\n",
    "print(\"Cleaned files have been saved successfully.\")\n"
   ]
  },
  {
   "cell_type": "code",
   "execution_count": 79,
   "metadata": {
    "scrolled": true
   },
   "outputs": [
    {
     "data": {
      "image/png": "[encoded data removed]",
      "text/plain": [
       "<Figure size 800x600 with 1 Axes>"
      ]
     },
     "metadata": {},
     "output_type": "display_data"
    }
   ],
   "source": [
    "import matplotlib.pyplot as plt\n",
    "\n",
    "# Step 1: Filter out affected orders (with unknown products) from valid_orders\n",
    "valid_orders_after = valid_orders[~valid_orders[\"order_id\"].isin(orders_with_unknown_products)]\n",
    "\n",
    "# Step 2: Count the number of valid orders before and after removal\n",
    "valid_orders_before = len(valid_orders)  # Before removal\n",
    "valid_orders_after_count = len(valid_orders_after)  # After removal\n",
    "\n",
    "# Step 3: Calculate the percentage of removed orders\n",
    "removed_orders = valid_orders_before - valid_orders_after_count\n",
    "percentage_removed = (removed_orders / valid_orders_before) * 100\n",
    "\n",
    "# Step 4: Data for the bar chart\n",
    "labels = ['Valid Orders Before', 'Valid Orders After']\n",
    "values = [valid_orders_before, valid_orders_after_count]\n",
    "\n",
    "# Step 5: Plot the bar chart\n",
    "plt.figure(figsize=(8, 6))\n",
    "plt.bar(labels, values, color=['blue', 'green'])\n",
    "plt.ylabel('Number of Orders')\n",
    "plt.title(f'Orders Removed: {percentage_removed:.2f}%')\n",
    "plt.text(0, valid_orders_before + 1000, f'{valid_orders_before:,}', ha='center', color='blue', fontweight='bold')\n",
    "plt.text(1, valid_orders_after_count + 1000, f'{valid_orders_after_count:,}', ha='center', color='green', fontweight='bold')\n",
    "\n",
    "# Step 6: Display the plot\n",
    "plt.tight_layout()\n",
    "plt.show()\n"
   ]
  },
  {
   "cell_type": "code",
   "execution_count": null,
   "metadata": {},
   "outputs": [],
   "source": []
  },
  {
   "cell_type": "code",
   "execution_count": null,
   "metadata": {},
   "outputs": [],
   "source": []
  },
  {
   "cell_type": "code",
   "execution_count": null,
   "metadata": {},
   "outputs": [],
   "source": []
  },
  {
   "cell_type": "code",
   "execution_count": null,
   "metadata": {},
   "outputs": [],
   "source": []
  },
  {
   "cell_type": "markdown",
   "metadata": {
    "id": "bCLu78B07gN1"
   },
   "source": [
    "## 4.&nbsp; Explore the revenue from different tables"
   ]
  },
  {
   "cell_type": "markdown",
   "metadata": {
    "id": "CrmrCXypbflw"
   },
   "source": [
    "#### Step 1:\n",
    "Create the `unit_price_total` as `orderlines.unit_price` * `orderlines.product_quantity`"
   ]
  },
  {
   "cell_type": "code",
   "execution_count": null,
   "metadata": {
    "id": "c8MApY6jatlO"
   },
   "outputs": [],
   "source": [
    "# your code here"
   ]
  },
  {
   "cell_type": "markdown",
   "metadata": {
    "id": "gkvMUjymbvSC"
   },
   "source": [
    "#### Step 2:\n",
    "Group by `id_order`, summarising by the sum of `unit_price_total`"
   ]
  },
  {
   "cell_type": "code",
   "execution_count": null,
   "metadata": {
    "id": "4hasZA5BaH1k"
   },
   "outputs": [],
   "source": [
    "# your code here"
   ]
  },
  {
   "cell_type": "markdown",
   "metadata": {
    "id": "_d1lwist8F6X"
   },
   "source": [
    "### What is the average difference between `total_paid` and `unit_price_total`?"
   ]
  },
  {
   "cell_type": "code",
   "execution_count": null,
   "metadata": {
    "id": "5N02JPCMgyBU"
   },
   "outputs": [],
   "source": [
    "# your code here"
   ]
  },
  {
   "cell_type": "markdown",
   "metadata": {
    "id": "UpynvRcO8QBr"
   },
   "source": [
    "### What is the distribution of these differences?"
   ]
  },
  {
   "cell_type": "code",
   "execution_count": null,
   "metadata": {
    "id": "O4RDNgttJSPD"
   },
   "outputs": [],
   "source": [
    "# your code here"
   ]
  },
  {
   "cell_type": "markdown",
   "metadata": {
    "id": "NINPK4rB8TSY"
   },
   "source": [
    "### Can all the differences be explained by shipping costs? If not, what are other plausible explanations?"
   ]
  },
  {
   "cell_type": "code",
   "execution_count": null,
   "metadata": {
    "id": "_6GvQ28EJUIf"
   },
   "outputs": [],
   "source": [
    "# your explanation here"
   ]
  },
  {
   "cell_type": "markdown",
   "metadata": {
    "id": "xPos2ipK8VST"
   },
   "source": [
    "### If there are differences that you can’t explain: what should you do with these orders?"
   ]
  },
  {
   "cell_type": "code",
   "execution_count": null,
   "metadata": {
    "id": "xqeCAJBt8V3T"
   },
   "outputs": [],
   "source": [
    "# your code here"
   ]
  },
  {
   "cell_type": "markdown",
   "metadata": {
    "id": "FWROzNEd8b8d"
   },
   "source": [
    "## 5.&nbsp; Become confident about your dataset"
   ]
  },
  {
   "cell_type": "markdown",
   "metadata": {
    "id": "qkiySvbwldvU"
   },
   "source": [
    "Let's hear your thoughts about what you discovered."
   ]
  },
  {
   "cell_type": "code",
   "execution_count": null,
   "metadata": {
    "id": "AR14cjMpfXV0"
   },
   "outputs": [],
   "source": [
    "# your thoughts & code here"
   ]
  },
  {
   "cell_type": "markdown",
   "metadata": {
    "id": "dvyhnpLcfXdd"
   },
   "source": [
    "Do not forget to download your quality controlled DataFrames"
   ]
  },
  {
   "cell_type": "code",
   "execution_count": null,
   "metadata": {
    "id": "gUcJc1E6sVOl"
   },
   "outputs": [],
   "source": [
    "from google.colab import files\n",
    "\n",
    "#orders_quality_controlled.to_csv(\"orders_qu.csv\", index=False)\n",
    "#files.download(\"orders_qu.csv\")\n",
    "\n",
    "#orderlines_quality_controlled.to_csv(\"orderlines_qu.csv\", index=False)\n",
    "#files.download(\"orderlines_qu.csv\")"
   ]
  }
 ],
 "metadata": {
  "colab": {
   "collapsed_sections": [
    "GjQD8WPe6h0i",
    "M0NhTKzF6jV4",
    "F-rtzwAn7WyS",
    "_d1lwist8F6X",
    "UpynvRcO8QBr",
    "NINPK4rB8TSY",
    "xPos2ipK8VST",
    "FWROzNEd8b8d"
   ],
   "provenance": [
    {
     "file_id": "1Bj7hMJhRih-7k0o0eOjl_RvJRnu-S653",
     "timestamp": 1741250011531
    },
    {
     "file_id": "12dvr7WGPjOAZKy0jMCpHuvKg2ZtaOQwv",
     "timestamp": 1660047699809
    }
   ]
  },
  "kernelspec": {
   "display_name": "Python [conda env:base] *",
   "language": "python",
   "name": "conda-base-py"
  },
  "language_info": {
   "codemirror_mode": {
    "name": "ipython",
    "version": 3
   },
   "file_extension": ".py",
   "mimetype": "text/x-python",
   "name": "python",
   "nbconvert_exporter": "python",
   "pygments_lexer": "ipython3",
   "version": "3.12.7"
  }
 },
 "nbformat": 4,
 "nbformat_minor": 4
}

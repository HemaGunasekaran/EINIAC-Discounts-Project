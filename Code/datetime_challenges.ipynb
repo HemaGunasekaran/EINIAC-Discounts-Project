{
 "cells": [
  {
   "cell_type": "markdown",
   "metadata": {
    "id": "CP3XvAdtSh-W"
   },
   "source": [
    "# Date times\n",
    "\n",
    "As part of the data quality process, we often have to assess and correct that our software interprets the data appropriately.\n",
    "\n",
    "In the previous notebook, correcting data types helped us to identify errors. It can also help us manipulate data in the correct way: for example, if numbers were stored as objects, then `\"2\" + \"3\" = \"23\"`, whereas if we change it to a numerical datatype, `2 + 3 = 5`.\n",
    "\n",
    "Changing dates to the `datetime` data type allows us to manipulate and check our data in a similar way. In this notebook, we will learn about this special data type."
   ]
  },
  {
   "cell_type": "code",
   "execution_count": 118,
   "metadata": {
    "id": "Lq7zsZka4q2m"
   },
   "outputs": [],
   "source": [
    "import pandas as pd"
   ]
  },
  {
   "cell_type": "code",
   "execution_count": 120,
   "metadata": {
    "id": "30IJsE7t49Eu"
   },
   "outputs": [],
   "source": [
    "# orders_cl.csv\n",
    "path = './Files/orders_cl.csv'\n",
    "orders_cl = pd.read_csv(path)"
   ]
  },
  {
   "cell_type": "markdown",
   "metadata": {
    "id": "QNtHEd73OOOI"
   },
   "source": [
    "Before we begin, we'll make a copy of the `orders_cl` DataFrame."
   ]
  },
  {
   "cell_type": "code",
   "execution_count": 122,
   "metadata": {
    "id": "b-Nb_cRbbnQV"
   },
   "outputs": [],
   "source": [
    "orders_df = orders_cl.copy()"
   ]
  },
  {
   "cell_type": "markdown",
   "metadata": {
    "id": "Ql8M9p7uzYyM"
   },
   "source": [
    "Let's have a look at the top 5 rows of the DataFrame."
   ]
  },
  {
   "cell_type": "code",
   "execution_count": 125,
   "metadata": {
    "colab": {
     "base_uri": "https://localhost:8080/",
     "height": 206
    },
    "executionInfo": {
     "elapsed": 7,
     "status": "ok",
     "timestamp": 1721142119546,
     "user": {
      "displayName": "Christopher Galloway",
      "userId": "16329134674817848650"
     },
     "user_tz": -120
    },
    "id": "C26-AvwDzWww",
    "outputId": "0513faa9-23be-40e8-dc1d-0a02ce537ff2"
   },
   "outputs": [
    {
     "data": {
      "text/html": [
       "<div>\n",
       "<style scoped>\n",
       "    .dataframe tbody tr th:only-of-type {\n",
       "        vertical-align: middle;\n",
       "    }\n",
       "\n",
       "    .dataframe tbody tr th {\n",
       "        vertical-align: top;\n",
       "    }\n",
       "\n",
       "    .dataframe thead th {\n",
       "        text-align: right;\n",
       "    }\n",
       "</style>\n",
       "<table border=\"1\" class=\"dataframe\">\n",
       "  <thead>\n",
       "    <tr style=\"text-align: right;\">\n",
       "      <th></th>\n",
       "      <th>order_id</th>\n",
       "      <th>created_date</th>\n",
       "      <th>total_paid</th>\n",
       "      <th>state</th>\n",
       "    </tr>\n",
       "  </thead>\n",
       "  <tbody>\n",
       "    <tr>\n",
       "      <th>0</th>\n",
       "      <td>241319</td>\n",
       "      <td>2017-01-02 13:35:40</td>\n",
       "      <td>44.99</td>\n",
       "      <td>Cancelled</td>\n",
       "    </tr>\n",
       "    <tr>\n",
       "      <th>1</th>\n",
       "      <td>241423</td>\n",
       "      <td>2017-11-06 13:10:02</td>\n",
       "      <td>136.15</td>\n",
       "      <td>Completed</td>\n",
       "    </tr>\n",
       "    <tr>\n",
       "      <th>2</th>\n",
       "      <td>242832</td>\n",
       "      <td>2017-12-31 17:40:03</td>\n",
       "      <td>15.76</td>\n",
       "      <td>Completed</td>\n",
       "    </tr>\n",
       "    <tr>\n",
       "      <th>3</th>\n",
       "      <td>243330</td>\n",
       "      <td>2017-02-16 10:59:38</td>\n",
       "      <td>84.98</td>\n",
       "      <td>Completed</td>\n",
       "    </tr>\n",
       "    <tr>\n",
       "      <th>4</th>\n",
       "      <td>243784</td>\n",
       "      <td>2017-11-24 13:35:19</td>\n",
       "      <td>157.86</td>\n",
       "      <td>Cancelled</td>\n",
       "    </tr>\n",
       "  </tbody>\n",
       "</table>\n",
       "</div>"
      ],
      "text/plain": [
       "   order_id         created_date  total_paid      state\n",
       "0    241319  2017-01-02 13:35:40       44.99  Cancelled\n",
       "1    241423  2017-11-06 13:10:02      136.15  Completed\n",
       "2    242832  2017-12-31 17:40:03       15.76  Completed\n",
       "3    243330  2017-02-16 10:59:38       84.98  Completed\n",
       "4    243784  2017-11-24 13:35:19      157.86  Cancelled"
      ]
     },
     "execution_count": 125,
     "metadata": {},
     "output_type": "execute_result"
    }
   ],
   "source": [
    "orders_df.head()"
   ]
  },
  {
   "cell_type": "markdown",
   "metadata": {
    "id": "rHYeWzjc3Jtc"
   },
   "source": [
    "## 1.&nbsp; Converting to datetime"
   ]
  },
  {
   "cell_type": "markdown",
   "metadata": {
    "id": "9SqBncps-DJl"
   },
   "source": [
    "Now, let's take a look at the datatypes pandas has given each column."
   ]
  },
  {
   "cell_type": "code",
   "execution_count": 129,
   "metadata": {
    "colab": {
     "base_uri": "https://localhost:8080/"
    },
    "executionInfo": {
     "elapsed": 5,
     "status": "ok",
     "timestamp": 1721142119546,
     "user": {
      "displayName": "Christopher Galloway",
      "userId": "16329134674817848650"
     },
     "user_tz": -120
    },
    "id": "g1ORRCVEJ4CE",
    "outputId": "90ca9930-61b7-45a3-9378-5a03d58111d3"
   },
   "outputs": [
    {
     "name": "stdout",
     "output_type": "stream",
     "text": [
      "<class 'pandas.core.frame.DataFrame'>\n",
      "RangeIndex: 226904 entries, 0 to 226903\n",
      "Data columns (total 4 columns):\n",
      " #   Column        Non-Null Count   Dtype  \n",
      "---  ------        --------------   -----  \n",
      " 0   order_id      226904 non-null  int64  \n",
      " 1   created_date  226904 non-null  object \n",
      " 2   total_paid    226904 non-null  float64\n",
      " 3   state         226904 non-null  object \n",
      "dtypes: float64(1), int64(1), object(2)\n",
      "memory usage: 6.9+ MB\n"
     ]
    }
   ],
   "source": [
    "orders_df.info()"
   ]
  },
  {
   "cell_type": "markdown",
   "metadata": {
    "id": "5NqxTDt9-NIU"
   },
   "source": [
    "We can see that `created_date` is currently an object. Let's convert it using [pd.to_datetime()](https://pandas.pydata.org/pandas-docs/stable/reference/api/pandas.to_datetime.html)."
   ]
  },
  {
   "cell_type": "code",
   "execution_count": 132,
   "metadata": {
    "id": "YXyIEix9J-g4"
   },
   "outputs": [],
   "source": [
    "orders_df[\"created_date\"] = pd.to_datetime(orders_df[\"created_date\"])"
   ]
  },
  {
   "cell_type": "markdown",
   "metadata": {
    "id": "1QddCxrW-YdF"
   },
   "source": [
    "Let's have a look at `.info()` again to check we now have `datetime`.\n",
    "\n"
   ]
  },
  {
   "cell_type": "code",
   "execution_count": 135,
   "metadata": {
    "colab": {
     "base_uri": "https://localhost:8080/"
    },
    "executionInfo": {
     "elapsed": 4,
     "status": "ok",
     "timestamp": 1721142119977,
     "user": {
      "displayName": "Christopher Galloway",
      "userId": "16329134674817848650"
     },
     "user_tz": -120
    },
    "id": "QJADhN98KMr0",
    "outputId": "71c938df-37d7-4f71-b957-3cc1571dc064"
   },
   "outputs": [
    {
     "name": "stdout",
     "output_type": "stream",
     "text": [
      "<class 'pandas.core.frame.DataFrame'>\n",
      "RangeIndex: 226904 entries, 0 to 226903\n",
      "Data columns (total 4 columns):\n",
      " #   Column        Non-Null Count   Dtype         \n",
      "---  ------        --------------   -----         \n",
      " 0   order_id      226904 non-null  int64         \n",
      " 1   created_date  226904 non-null  datetime64[ns]\n",
      " 2   total_paid    226904 non-null  float64       \n",
      " 3   state         226904 non-null  object        \n",
      "dtypes: datetime64[ns](1), float64(1), int64(1), object(1)\n",
      "memory usage: 6.9+ MB\n"
     ]
    }
   ],
   "source": [
    "orders_df.info()"
   ]
  },
  {
   "cell_type": "markdown",
   "metadata": {
    "id": "TbkphFeLzm4t"
   },
   "source": [
    "Let's have another look at the top 5 rows - they still look the same!"
   ]
  },
  {
   "cell_type": "code",
   "execution_count": 138,
   "metadata": {
    "colab": {
     "base_uri": "https://localhost:8080/",
     "height": 206
    },
    "executionInfo": {
     "elapsed": 4,
     "status": "ok",
     "timestamp": 1721142119977,
     "user": {
      "displayName": "Christopher Galloway",
      "userId": "16329134674817848650"
     },
     "user_tz": -120
    },
    "id": "SMwS96XOxI6f",
    "outputId": "fd3b085b-6b58-4bd0-fe67-31e286619359"
   },
   "outputs": [
    {
     "data": {
      "text/html": [
       "<div>\n",
       "<style scoped>\n",
       "    .dataframe tbody tr th:only-of-type {\n",
       "        vertical-align: middle;\n",
       "    }\n",
       "\n",
       "    .dataframe tbody tr th {\n",
       "        vertical-align: top;\n",
       "    }\n",
       "\n",
       "    .dataframe thead th {\n",
       "        text-align: right;\n",
       "    }\n",
       "</style>\n",
       "<table border=\"1\" class=\"dataframe\">\n",
       "  <thead>\n",
       "    <tr style=\"text-align: right;\">\n",
       "      <th></th>\n",
       "      <th>order_id</th>\n",
       "      <th>created_date</th>\n",
       "      <th>total_paid</th>\n",
       "      <th>state</th>\n",
       "    </tr>\n",
       "  </thead>\n",
       "  <tbody>\n",
       "    <tr>\n",
       "      <th>0</th>\n",
       "      <td>241319</td>\n",
       "      <td>2017-01-02 13:35:40</td>\n",
       "      <td>44.99</td>\n",
       "      <td>Cancelled</td>\n",
       "    </tr>\n",
       "    <tr>\n",
       "      <th>1</th>\n",
       "      <td>241423</td>\n",
       "      <td>2017-11-06 13:10:02</td>\n",
       "      <td>136.15</td>\n",
       "      <td>Completed</td>\n",
       "    </tr>\n",
       "    <tr>\n",
       "      <th>2</th>\n",
       "      <td>242832</td>\n",
       "      <td>2017-12-31 17:40:03</td>\n",
       "      <td>15.76</td>\n",
       "      <td>Completed</td>\n",
       "    </tr>\n",
       "    <tr>\n",
       "      <th>3</th>\n",
       "      <td>243330</td>\n",
       "      <td>2017-02-16 10:59:38</td>\n",
       "      <td>84.98</td>\n",
       "      <td>Completed</td>\n",
       "    </tr>\n",
       "    <tr>\n",
       "      <th>4</th>\n",
       "      <td>243784</td>\n",
       "      <td>2017-11-24 13:35:19</td>\n",
       "      <td>157.86</td>\n",
       "      <td>Cancelled</td>\n",
       "    </tr>\n",
       "  </tbody>\n",
       "</table>\n",
       "</div>"
      ],
      "text/plain": [
       "   order_id        created_date  total_paid      state\n",
       "0    241319 2017-01-02 13:35:40       44.99  Cancelled\n",
       "1    241423 2017-11-06 13:10:02      136.15  Completed\n",
       "2    242832 2017-12-31 17:40:03       15.76  Completed\n",
       "3    243330 2017-02-16 10:59:38       84.98  Completed\n",
       "4    243784 2017-11-24 13:35:19      157.86  Cancelled"
      ]
     },
     "execution_count": 138,
     "metadata": {},
     "output_type": "execute_result"
    }
   ],
   "source": [
    "orders_df.head()"
   ]
  },
  {
   "cell_type": "markdown",
   "metadata": {
    "id": "BDaxXeZuguAu"
   },
   "source": [
    "Success!!!"
   ]
  },
  {
   "cell_type": "markdown",
   "metadata": {
    "id": "WIchkd4FvJmN"
   },
   "source": [
    "## 2.&nbsp; `.dt` accessor\n",
    "`.dt` is to datetime what `.str` is to strings. If you have a Series that is of the datetime data type, `.dt` is an accessor that allows you to return datetime properties from the values of the Series. These properties will be indexed the same as the original Series."
   ]
  },
  {
   "cell_type": "markdown",
   "metadata": {
    "id": "hNyLsHwFCYAq"
   },
   "source": [
    "Remember,  if you select one column from a DataFrame it's a Series."
   ]
  },
  {
   "cell_type": "code",
   "execution_count": 143,
   "metadata": {
    "colab": {
     "base_uri": "https://localhost:8080/",
     "height": 203
    },
    "executionInfo": {
     "elapsed": 380,
     "status": "ok",
     "timestamp": 1721142120354,
     "user": {
      "displayName": "Christopher Galloway",
      "userId": "16329134674817848650"
     },
     "user_tz": -120
    },
    "id": "kiP2Pn4DCJKG",
    "outputId": "9913b228-f854-4291-e89a-73d15cfe692d"
   },
   "outputs": [
    {
     "data": {
      "text/plain": [
       "pandas.core.series.Series"
      ]
     },
     "execution_count": 143,
     "metadata": {},
     "output_type": "execute_result"
    }
   ],
   "source": [
    "single_column = orders_df[\"created_date\"]\n",
    "\n",
    "type(single_column)"
   ]
  },
  {
   "cell_type": "markdown",
   "metadata": {
    "id": "GneS3aODCtJH"
   },
   "source": [
    "`.dt` can return many properties from datetime, such as the `.month`"
   ]
  },
  {
   "cell_type": "code",
   "execution_count": 146,
   "metadata": {
    "colab": {
     "base_uri": "https://localhost:8080/",
     "height": 206
    },
    "executionInfo": {
     "elapsed": 437,
     "status": "ok",
     "timestamp": 1721142120788,
     "user": {
      "displayName": "Christopher Galloway",
      "userId": "16329134674817848650"
     },
     "user_tz": -120
    },
    "id": "-Qoit1btueM1",
    "outputId": "2622fdf5-8f14-4d10-ea18-6fef7adc73e2"
   },
   "outputs": [
    {
     "data": {
      "text/html": [
       "<div>\n",
       "<style scoped>\n",
       "    .dataframe tbody tr th:only-of-type {\n",
       "        vertical-align: middle;\n",
       "    }\n",
       "\n",
       "    .dataframe tbody tr th {\n",
       "        vertical-align: top;\n",
       "    }\n",
       "\n",
       "    .dataframe thead th {\n",
       "        text-align: right;\n",
       "    }\n",
       "</style>\n",
       "<table border=\"1\" class=\"dataframe\">\n",
       "  <thead>\n",
       "    <tr style=\"text-align: right;\">\n",
       "      <th></th>\n",
       "      <th>order_id</th>\n",
       "      <th>created_date</th>\n",
       "      <th>total_paid</th>\n",
       "      <th>state</th>\n",
       "      <th>month</th>\n",
       "    </tr>\n",
       "  </thead>\n",
       "  <tbody>\n",
       "    <tr>\n",
       "      <th>0</th>\n",
       "      <td>241319</td>\n",
       "      <td>2017-01-02 13:35:40</td>\n",
       "      <td>44.99</td>\n",
       "      <td>Cancelled</td>\n",
       "      <td>1</td>\n",
       "    </tr>\n",
       "    <tr>\n",
       "      <th>1</th>\n",
       "      <td>241423</td>\n",
       "      <td>2017-11-06 13:10:02</td>\n",
       "      <td>136.15</td>\n",
       "      <td>Completed</td>\n",
       "      <td>11</td>\n",
       "    </tr>\n",
       "    <tr>\n",
       "      <th>2</th>\n",
       "      <td>242832</td>\n",
       "      <td>2017-12-31 17:40:03</td>\n",
       "      <td>15.76</td>\n",
       "      <td>Completed</td>\n",
       "      <td>12</td>\n",
       "    </tr>\n",
       "    <tr>\n",
       "      <th>3</th>\n",
       "      <td>243330</td>\n",
       "      <td>2017-02-16 10:59:38</td>\n",
       "      <td>84.98</td>\n",
       "      <td>Completed</td>\n",
       "      <td>2</td>\n",
       "    </tr>\n",
       "    <tr>\n",
       "      <th>4</th>\n",
       "      <td>243784</td>\n",
       "      <td>2017-11-24 13:35:19</td>\n",
       "      <td>157.86</td>\n",
       "      <td>Cancelled</td>\n",
       "      <td>11</td>\n",
       "    </tr>\n",
       "  </tbody>\n",
       "</table>\n",
       "</div>"
      ],
      "text/plain": [
       "   order_id        created_date  total_paid      state  month\n",
       "0    241319 2017-01-02 13:35:40       44.99  Cancelled      1\n",
       "1    241423 2017-11-06 13:10:02      136.15  Completed     11\n",
       "2    242832 2017-12-31 17:40:03       15.76  Completed     12\n",
       "3    243330 2017-02-16 10:59:38       84.98  Completed      2\n",
       "4    243784 2017-11-24 13:35:19      157.86  Cancelled     11"
      ]
     },
     "execution_count": 146,
     "metadata": {},
     "output_type": "execute_result"
    }
   ],
   "source": [
    "orders_df.loc[:,\"month\"] = orders_df[\"created_date\"].dt.month\n",
    "orders_df.head()"
   ]
  },
  {
   "cell_type": "markdown",
   "metadata": {
    "id": "RqL1vBNOC4Wl"
   },
   "source": [
    "If we'd rather have the month as a name, as oppossed to a number, that's also possible using `.month_name()`."
   ]
  },
  {
   "cell_type": "code",
   "execution_count": 149,
   "metadata": {
    "colab": {
     "base_uri": "https://localhost:8080/",
     "height": 206
    },
    "executionInfo": {
     "elapsed": 4,
     "status": "ok",
     "timestamp": 1721142120788,
     "user": {
      "displayName": "Christopher Galloway",
      "userId": "16329134674817848650"
     },
     "user_tz": -120
    },
    "id": "hd1ijxBqiyNO",
    "outputId": "f4e24433-2008-4146-929a-2c10eaea3f6a"
   },
   "outputs": [
    {
     "data": {
      "text/html": [
       "<div>\n",
       "<style scoped>\n",
       "    .dataframe tbody tr th:only-of-type {\n",
       "        vertical-align: middle;\n",
       "    }\n",
       "\n",
       "    .dataframe tbody tr th {\n",
       "        vertical-align: top;\n",
       "    }\n",
       "\n",
       "    .dataframe thead th {\n",
       "        text-align: right;\n",
       "    }\n",
       "</style>\n",
       "<table border=\"1\" class=\"dataframe\">\n",
       "  <thead>\n",
       "    <tr style=\"text-align: right;\">\n",
       "      <th></th>\n",
       "      <th>order_id</th>\n",
       "      <th>created_date</th>\n",
       "      <th>total_paid</th>\n",
       "      <th>state</th>\n",
       "      <th>month</th>\n",
       "      <th>month_name</th>\n",
       "    </tr>\n",
       "  </thead>\n",
       "  <tbody>\n",
       "    <tr>\n",
       "      <th>0</th>\n",
       "      <td>241319</td>\n",
       "      <td>2017-01-02 13:35:40</td>\n",
       "      <td>44.99</td>\n",
       "      <td>Cancelled</td>\n",
       "      <td>1</td>\n",
       "      <td>January</td>\n",
       "    </tr>\n",
       "    <tr>\n",
       "      <th>1</th>\n",
       "      <td>241423</td>\n",
       "      <td>2017-11-06 13:10:02</td>\n",
       "      <td>136.15</td>\n",
       "      <td>Completed</td>\n",
       "      <td>11</td>\n",
       "      <td>November</td>\n",
       "    </tr>\n",
       "    <tr>\n",
       "      <th>2</th>\n",
       "      <td>242832</td>\n",
       "      <td>2017-12-31 17:40:03</td>\n",
       "      <td>15.76</td>\n",
       "      <td>Completed</td>\n",
       "      <td>12</td>\n",
       "      <td>December</td>\n",
       "    </tr>\n",
       "    <tr>\n",
       "      <th>3</th>\n",
       "      <td>243330</td>\n",
       "      <td>2017-02-16 10:59:38</td>\n",
       "      <td>84.98</td>\n",
       "      <td>Completed</td>\n",
       "      <td>2</td>\n",
       "      <td>February</td>\n",
       "    </tr>\n",
       "    <tr>\n",
       "      <th>4</th>\n",
       "      <td>243784</td>\n",
       "      <td>2017-11-24 13:35:19</td>\n",
       "      <td>157.86</td>\n",
       "      <td>Cancelled</td>\n",
       "      <td>11</td>\n",
       "      <td>November</td>\n",
       "    </tr>\n",
       "  </tbody>\n",
       "</table>\n",
       "</div>"
      ],
      "text/plain": [
       "   order_id        created_date  total_paid      state  month month_name\n",
       "0    241319 2017-01-02 13:35:40       44.99  Cancelled      1    January\n",
       "1    241423 2017-11-06 13:10:02      136.15  Completed     11   November\n",
       "2    242832 2017-12-31 17:40:03       15.76  Completed     12   December\n",
       "3    243330 2017-02-16 10:59:38       84.98  Completed      2   February\n",
       "4    243784 2017-11-24 13:35:19      157.86  Cancelled     11   November"
      ]
     },
     "execution_count": 149,
     "metadata": {},
     "output_type": "execute_result"
    }
   ],
   "source": [
    "orders_df.loc[:,\"month_name\"] = orders_df[\"created_date\"].dt.month_name()\n",
    "orders_df.head()"
   ]
  },
  {
   "cell_type": "markdown",
   "metadata": {
    "id": "TOnwkLJLDBvT"
   },
   "source": [
    "We can also return the `.year`."
   ]
  },
  {
   "cell_type": "code",
   "execution_count": 152,
   "metadata": {
    "colab": {
     "base_uri": "https://localhost:8080/",
     "height": 206
    },
    "executionInfo": {
     "elapsed": 297,
     "status": "ok",
     "timestamp": 1721142121081,
     "user": {
      "displayName": "Christopher Galloway",
      "userId": "16329134674817848650"
     },
     "user_tz": -120
    },
    "id": "-QTplV0yu2pB",
    "outputId": "19d26908-dd6c-4c2d-e5ca-c357f7ddc014"
   },
   "outputs": [
    {
     "data": {
      "text/html": [
       "<div>\n",
       "<style scoped>\n",
       "    .dataframe tbody tr th:only-of-type {\n",
       "        vertical-align: middle;\n",
       "    }\n",
       "\n",
       "    .dataframe tbody tr th {\n",
       "        vertical-align: top;\n",
       "    }\n",
       "\n",
       "    .dataframe thead th {\n",
       "        text-align: right;\n",
       "    }\n",
       "</style>\n",
       "<table border=\"1\" class=\"dataframe\">\n",
       "  <thead>\n",
       "    <tr style=\"text-align: right;\">\n",
       "      <th></th>\n",
       "      <th>order_id</th>\n",
       "      <th>created_date</th>\n",
       "      <th>total_paid</th>\n",
       "      <th>state</th>\n",
       "      <th>month</th>\n",
       "      <th>month_name</th>\n",
       "      <th>year</th>\n",
       "    </tr>\n",
       "  </thead>\n",
       "  <tbody>\n",
       "    <tr>\n",
       "      <th>0</th>\n",
       "      <td>241319</td>\n",
       "      <td>2017-01-02 13:35:40</td>\n",
       "      <td>44.99</td>\n",
       "      <td>Cancelled</td>\n",
       "      <td>1</td>\n",
       "      <td>January</td>\n",
       "      <td>2017</td>\n",
       "    </tr>\n",
       "    <tr>\n",
       "      <th>1</th>\n",
       "      <td>241423</td>\n",
       "      <td>2017-11-06 13:10:02</td>\n",
       "      <td>136.15</td>\n",
       "      <td>Completed</td>\n",
       "      <td>11</td>\n",
       "      <td>November</td>\n",
       "      <td>2017</td>\n",
       "    </tr>\n",
       "    <tr>\n",
       "      <th>2</th>\n",
       "      <td>242832</td>\n",
       "      <td>2017-12-31 17:40:03</td>\n",
       "      <td>15.76</td>\n",
       "      <td>Completed</td>\n",
       "      <td>12</td>\n",
       "      <td>December</td>\n",
       "      <td>2017</td>\n",
       "    </tr>\n",
       "    <tr>\n",
       "      <th>3</th>\n",
       "      <td>243330</td>\n",
       "      <td>2017-02-16 10:59:38</td>\n",
       "      <td>84.98</td>\n",
       "      <td>Completed</td>\n",
       "      <td>2</td>\n",
       "      <td>February</td>\n",
       "      <td>2017</td>\n",
       "    </tr>\n",
       "    <tr>\n",
       "      <th>4</th>\n",
       "      <td>243784</td>\n",
       "      <td>2017-11-24 13:35:19</td>\n",
       "      <td>157.86</td>\n",
       "      <td>Cancelled</td>\n",
       "      <td>11</td>\n",
       "      <td>November</td>\n",
       "      <td>2017</td>\n",
       "    </tr>\n",
       "  </tbody>\n",
       "</table>\n",
       "</div>"
      ],
      "text/plain": [
       "   order_id        created_date  total_paid      state  month month_name  year\n",
       "0    241319 2017-01-02 13:35:40       44.99  Cancelled      1    January  2017\n",
       "1    241423 2017-11-06 13:10:02      136.15  Completed     11   November  2017\n",
       "2    242832 2017-12-31 17:40:03       15.76  Completed     12   December  2017\n",
       "3    243330 2017-02-16 10:59:38       84.98  Completed      2   February  2017\n",
       "4    243784 2017-11-24 13:35:19      157.86  Cancelled     11   November  2017"
      ]
     },
     "execution_count": 152,
     "metadata": {},
     "output_type": "execute_result"
    }
   ],
   "source": [
    "orders_df.loc[:,\"year\"] = orders_df[\"created_date\"].dt.year\n",
    "orders_df.head()"
   ]
  },
  {
   "cell_type": "markdown",
   "metadata": {
    "id": "DuyjcA_cDS6c"
   },
   "source": [
    "Sometimes the properties seem obvious, but don't always return what we think they would. `.day` returns the day of the month, not the day of the week."
   ]
  },
  {
   "cell_type": "code",
   "execution_count": 155,
   "metadata": {
    "colab": {
     "base_uri": "https://localhost:8080/",
     "height": 206
    },
    "executionInfo": {
     "elapsed": 4,
     "status": "ok",
     "timestamp": 1721142121081,
     "user": {
      "displayName": "Christopher Galloway",
      "userId": "16329134674817848650"
     },
     "user_tz": -120
    },
    "id": "t7HhZ8Jyu3dG",
    "outputId": "167d2730-d054-4a69-f14d-06b4dd98fc86"
   },
   "outputs": [
    {
     "data": {
      "text/html": [
       "<div>\n",
       "<style scoped>\n",
       "    .dataframe tbody tr th:only-of-type {\n",
       "        vertical-align: middle;\n",
       "    }\n",
       "\n",
       "    .dataframe tbody tr th {\n",
       "        vertical-align: top;\n",
       "    }\n",
       "\n",
       "    .dataframe thead th {\n",
       "        text-align: right;\n",
       "    }\n",
       "</style>\n",
       "<table border=\"1\" class=\"dataframe\">\n",
       "  <thead>\n",
       "    <tr style=\"text-align: right;\">\n",
       "      <th></th>\n",
       "      <th>order_id</th>\n",
       "      <th>created_date</th>\n",
       "      <th>total_paid</th>\n",
       "      <th>state</th>\n",
       "      <th>month</th>\n",
       "      <th>month_name</th>\n",
       "      <th>year</th>\n",
       "      <th>day</th>\n",
       "    </tr>\n",
       "  </thead>\n",
       "  <tbody>\n",
       "    <tr>\n",
       "      <th>0</th>\n",
       "      <td>241319</td>\n",
       "      <td>2017-01-02 13:35:40</td>\n",
       "      <td>44.99</td>\n",
       "      <td>Cancelled</td>\n",
       "      <td>1</td>\n",
       "      <td>January</td>\n",
       "      <td>2017</td>\n",
       "      <td>2</td>\n",
       "    </tr>\n",
       "    <tr>\n",
       "      <th>1</th>\n",
       "      <td>241423</td>\n",
       "      <td>2017-11-06 13:10:02</td>\n",
       "      <td>136.15</td>\n",
       "      <td>Completed</td>\n",
       "      <td>11</td>\n",
       "      <td>November</td>\n",
       "      <td>2017</td>\n",
       "      <td>6</td>\n",
       "    </tr>\n",
       "    <tr>\n",
       "      <th>2</th>\n",
       "      <td>242832</td>\n",
       "      <td>2017-12-31 17:40:03</td>\n",
       "      <td>15.76</td>\n",
       "      <td>Completed</td>\n",
       "      <td>12</td>\n",
       "      <td>December</td>\n",
       "      <td>2017</td>\n",
       "      <td>31</td>\n",
       "    </tr>\n",
       "    <tr>\n",
       "      <th>3</th>\n",
       "      <td>243330</td>\n",
       "      <td>2017-02-16 10:59:38</td>\n",
       "      <td>84.98</td>\n",
       "      <td>Completed</td>\n",
       "      <td>2</td>\n",
       "      <td>February</td>\n",
       "      <td>2017</td>\n",
       "      <td>16</td>\n",
       "    </tr>\n",
       "    <tr>\n",
       "      <th>4</th>\n",
       "      <td>243784</td>\n",
       "      <td>2017-11-24 13:35:19</td>\n",
       "      <td>157.86</td>\n",
       "      <td>Cancelled</td>\n",
       "      <td>11</td>\n",
       "      <td>November</td>\n",
       "      <td>2017</td>\n",
       "      <td>24</td>\n",
       "    </tr>\n",
       "  </tbody>\n",
       "</table>\n",
       "</div>"
      ],
      "text/plain": [
       "   order_id        created_date  total_paid      state  month month_name  \\\n",
       "0    241319 2017-01-02 13:35:40       44.99  Cancelled      1    January   \n",
       "1    241423 2017-11-06 13:10:02      136.15  Completed     11   November   \n",
       "2    242832 2017-12-31 17:40:03       15.76  Completed     12   December   \n",
       "3    243330 2017-02-16 10:59:38       84.98  Completed      2   February   \n",
       "4    243784 2017-11-24 13:35:19      157.86  Cancelled     11   November   \n",
       "\n",
       "   year  day  \n",
       "0  2017    2  \n",
       "1  2017    6  \n",
       "2  2017   31  \n",
       "3  2017   16  \n",
       "4  2017   24  "
      ]
     },
     "execution_count": 155,
     "metadata": {},
     "output_type": "execute_result"
    }
   ],
   "source": [
    "orders_df.loc[:,\"day\"] = orders_df[\"created_date\"].dt.day\n",
    "orders_df.head()"
   ]
  },
  {
   "cell_type": "markdown",
   "metadata": {
    "id": "mH46Wy9wDpNy"
   },
   "source": [
    "Day of the week is accessed through either `weekday` or `day_name`."
   ]
  },
  {
   "cell_type": "code",
   "execution_count": 158,
   "metadata": {
    "colab": {
     "base_uri": "https://localhost:8080/",
     "height": 206
    },
    "executionInfo": {
     "elapsed": 831,
     "status": "ok",
     "timestamp": 1721142121908,
     "user": {
      "displayName": "Christopher Galloway",
      "userId": "16329134674817848650"
     },
     "user_tz": -120
    },
    "id": "xpirRq6jdyyg",
    "outputId": "ba09b4d8-0e52-4f5e-8891-a2fa76e6f1a2"
   },
   "outputs": [
    {
     "data": {
      "text/html": [
       "<div>\n",
       "<style scoped>\n",
       "    .dataframe tbody tr th:only-of-type {\n",
       "        vertical-align: middle;\n",
       "    }\n",
       "\n",
       "    .dataframe tbody tr th {\n",
       "        vertical-align: top;\n",
       "    }\n",
       "\n",
       "    .dataframe thead th {\n",
       "        text-align: right;\n",
       "    }\n",
       "</style>\n",
       "<table border=\"1\" class=\"dataframe\">\n",
       "  <thead>\n",
       "    <tr style=\"text-align: right;\">\n",
       "      <th></th>\n",
       "      <th>order_id</th>\n",
       "      <th>created_date</th>\n",
       "      <th>total_paid</th>\n",
       "      <th>state</th>\n",
       "      <th>month</th>\n",
       "      <th>month_name</th>\n",
       "      <th>year</th>\n",
       "      <th>day</th>\n",
       "      <th>weekday</th>\n",
       "      <th>day_of_week</th>\n",
       "    </tr>\n",
       "  </thead>\n",
       "  <tbody>\n",
       "    <tr>\n",
       "      <th>0</th>\n",
       "      <td>241319</td>\n",
       "      <td>2017-01-02 13:35:40</td>\n",
       "      <td>44.99</td>\n",
       "      <td>Cancelled</td>\n",
       "      <td>1</td>\n",
       "      <td>January</td>\n",
       "      <td>2017</td>\n",
       "      <td>2</td>\n",
       "      <td>0</td>\n",
       "      <td>Monday</td>\n",
       "    </tr>\n",
       "    <tr>\n",
       "      <th>1</th>\n",
       "      <td>241423</td>\n",
       "      <td>2017-11-06 13:10:02</td>\n",
       "      <td>136.15</td>\n",
       "      <td>Completed</td>\n",
       "      <td>11</td>\n",
       "      <td>November</td>\n",
       "      <td>2017</td>\n",
       "      <td>6</td>\n",
       "      <td>0</td>\n",
       "      <td>Monday</td>\n",
       "    </tr>\n",
       "    <tr>\n",
       "      <th>2</th>\n",
       "      <td>242832</td>\n",
       "      <td>2017-12-31 17:40:03</td>\n",
       "      <td>15.76</td>\n",
       "      <td>Completed</td>\n",
       "      <td>12</td>\n",
       "      <td>December</td>\n",
       "      <td>2017</td>\n",
       "      <td>31</td>\n",
       "      <td>6</td>\n",
       "      <td>Sunday</td>\n",
       "    </tr>\n",
       "    <tr>\n",
       "      <th>3</th>\n",
       "      <td>243330</td>\n",
       "      <td>2017-02-16 10:59:38</td>\n",
       "      <td>84.98</td>\n",
       "      <td>Completed</td>\n",
       "      <td>2</td>\n",
       "      <td>February</td>\n",
       "      <td>2017</td>\n",
       "      <td>16</td>\n",
       "      <td>3</td>\n",
       "      <td>Thursday</td>\n",
       "    </tr>\n",
       "    <tr>\n",
       "      <th>4</th>\n",
       "      <td>243784</td>\n",
       "      <td>2017-11-24 13:35:19</td>\n",
       "      <td>157.86</td>\n",
       "      <td>Cancelled</td>\n",
       "      <td>11</td>\n",
       "      <td>November</td>\n",
       "      <td>2017</td>\n",
       "      <td>24</td>\n",
       "      <td>4</td>\n",
       "      <td>Friday</td>\n",
       "    </tr>\n",
       "  </tbody>\n",
       "</table>\n",
       "</div>"
      ],
      "text/plain": [
       "   order_id        created_date  total_paid      state  month month_name  \\\n",
       "0    241319 2017-01-02 13:35:40       44.99  Cancelled      1    January   \n",
       "1    241423 2017-11-06 13:10:02      136.15  Completed     11   November   \n",
       "2    242832 2017-12-31 17:40:03       15.76  Completed     12   December   \n",
       "3    243330 2017-02-16 10:59:38       84.98  Completed      2   February   \n",
       "4    243784 2017-11-24 13:35:19      157.86  Cancelled     11   November   \n",
       "\n",
       "   year  day  weekday day_of_week  \n",
       "0  2017    2        0      Monday  \n",
       "1  2017    6        0      Monday  \n",
       "2  2017   31        6      Sunday  \n",
       "3  2017   16        3    Thursday  \n",
       "4  2017   24        4      Friday  "
      ]
     },
     "execution_count": 158,
     "metadata": {},
     "output_type": "execute_result"
    }
   ],
   "source": [
    "orders_df.loc[:,\"weekday\"] = orders_df[\"created_date\"].dt.weekday\n",
    "orders_df.loc[:,\"day_of_week\"] = orders_df[\"created_date\"].dt.day_name()\n",
    "orders_df.head()"
   ]
  },
  {
   "cell_type": "markdown",
   "metadata": {
    "id": "8qnGNBJLGLNW"
   },
   "source": [
    "We even have the option to extract the properties of the datetime as a string using `.strftime()`. Inside the brackets we place the code for how we'd like the string to be written."
   ]
  },
  {
   "cell_type": "code",
   "execution_count": 161,
   "metadata": {
    "colab": {
     "base_uri": "https://localhost:8080/",
     "height": 312
    },
    "executionInfo": {
     "elapsed": 2171,
     "status": "ok",
     "timestamp": 1721142124077,
     "user": {
      "displayName": "Christopher Galloway",
      "userId": "16329134674817848650"
     },
     "user_tz": -120
    },
    "id": "eNQbTCImux9F",
    "outputId": "995b899c-76bd-4338-9989-ccd1ffdb93a2"
   },
   "outputs": [
    {
     "data": {
      "text/html": [
       "<div>\n",
       "<style scoped>\n",
       "    .dataframe tbody tr th:only-of-type {\n",
       "        vertical-align: middle;\n",
       "    }\n",
       "\n",
       "    .dataframe tbody tr th {\n",
       "        vertical-align: top;\n",
       "    }\n",
       "\n",
       "    .dataframe thead th {\n",
       "        text-align: right;\n",
       "    }\n",
       "</style>\n",
       "<table border=\"1\" class=\"dataframe\">\n",
       "  <thead>\n",
       "    <tr style=\"text-align: right;\">\n",
       "      <th></th>\n",
       "      <th>order_id</th>\n",
       "      <th>created_date</th>\n",
       "      <th>total_paid</th>\n",
       "      <th>state</th>\n",
       "      <th>month</th>\n",
       "      <th>month_name</th>\n",
       "      <th>year</th>\n",
       "      <th>day</th>\n",
       "      <th>weekday</th>\n",
       "      <th>day_of_week</th>\n",
       "      <th>date_as_string</th>\n",
       "    </tr>\n",
       "  </thead>\n",
       "  <tbody>\n",
       "    <tr>\n",
       "      <th>0</th>\n",
       "      <td>241319</td>\n",
       "      <td>2017-01-02 13:35:40</td>\n",
       "      <td>44.99</td>\n",
       "      <td>Cancelled</td>\n",
       "      <td>1</td>\n",
       "      <td>January</td>\n",
       "      <td>2017</td>\n",
       "      <td>2</td>\n",
       "      <td>0</td>\n",
       "      <td>Monday</td>\n",
       "      <td>Monday, 02 Jan 17</td>\n",
       "    </tr>\n",
       "    <tr>\n",
       "      <th>1</th>\n",
       "      <td>241423</td>\n",
       "      <td>2017-11-06 13:10:02</td>\n",
       "      <td>136.15</td>\n",
       "      <td>Completed</td>\n",
       "      <td>11</td>\n",
       "      <td>November</td>\n",
       "      <td>2017</td>\n",
       "      <td>6</td>\n",
       "      <td>0</td>\n",
       "      <td>Monday</td>\n",
       "      <td>Monday, 06 Nov 17</td>\n",
       "    </tr>\n",
       "    <tr>\n",
       "      <th>2</th>\n",
       "      <td>242832</td>\n",
       "      <td>2017-12-31 17:40:03</td>\n",
       "      <td>15.76</td>\n",
       "      <td>Completed</td>\n",
       "      <td>12</td>\n",
       "      <td>December</td>\n",
       "      <td>2017</td>\n",
       "      <td>31</td>\n",
       "      <td>6</td>\n",
       "      <td>Sunday</td>\n",
       "      <td>Sunday, 31 Dec 17</td>\n",
       "    </tr>\n",
       "    <tr>\n",
       "      <th>3</th>\n",
       "      <td>243330</td>\n",
       "      <td>2017-02-16 10:59:38</td>\n",
       "      <td>84.98</td>\n",
       "      <td>Completed</td>\n",
       "      <td>2</td>\n",
       "      <td>February</td>\n",
       "      <td>2017</td>\n",
       "      <td>16</td>\n",
       "      <td>3</td>\n",
       "      <td>Thursday</td>\n",
       "      <td>Thursday, 16 Feb 17</td>\n",
       "    </tr>\n",
       "    <tr>\n",
       "      <th>4</th>\n",
       "      <td>243784</td>\n",
       "      <td>2017-11-24 13:35:19</td>\n",
       "      <td>157.86</td>\n",
       "      <td>Cancelled</td>\n",
       "      <td>11</td>\n",
       "      <td>November</td>\n",
       "      <td>2017</td>\n",
       "      <td>24</td>\n",
       "      <td>4</td>\n",
       "      <td>Friday</td>\n",
       "      <td>Friday, 24 Nov 17</td>\n",
       "    </tr>\n",
       "  </tbody>\n",
       "</table>\n",
       "</div>"
      ],
      "text/plain": [
       "   order_id        created_date  total_paid      state  month month_name  \\\n",
       "0    241319 2017-01-02 13:35:40       44.99  Cancelled      1    January   \n",
       "1    241423 2017-11-06 13:10:02      136.15  Completed     11   November   \n",
       "2    242832 2017-12-31 17:40:03       15.76  Completed     12   December   \n",
       "3    243330 2017-02-16 10:59:38       84.98  Completed      2   February   \n",
       "4    243784 2017-11-24 13:35:19      157.86  Cancelled     11   November   \n",
       "\n",
       "   year  day  weekday day_of_week       date_as_string  \n",
       "0  2017    2        0      Monday    Monday, 02 Jan 17  \n",
       "1  2017    6        0      Monday    Monday, 06 Nov 17  \n",
       "2  2017   31        6      Sunday    Sunday, 31 Dec 17  \n",
       "3  2017   16        3    Thursday  Thursday, 16 Feb 17  \n",
       "4  2017   24        4      Friday    Friday, 24 Nov 17  "
      ]
     },
     "execution_count": 161,
     "metadata": {},
     "output_type": "execute_result"
    }
   ],
   "source": [
    "orders_df[\"date_as_string\"] = orders_df[\"created_date\"].dt.strftime(\"%A, %d %b %y\")\n",
    "orders_df.head()"
   ]
  },
  {
   "cell_type": "markdown",
   "metadata": {
    "id": "zIV_wu1-FJnX"
   },
   "source": [
    "A full list of the properties and methods that can be returned with `.dt` can be found [here](https://pandas.pydata.org/pandas-docs/stable/reference/series.html#datetimelike-properties)."
   ]
  },
  {
   "cell_type": "markdown",
   "metadata": {
    "id": "Z9kLKPLncOrD"
   },
   "source": [
    "A full list of `strftime()` format codes can be found [here](https://docs.python.org/3/library/datetime.html#strftime-and-strptime-behavior)."
   ]
  },
  {
   "cell_type": "markdown",
   "metadata": {
    "id": "zVPfPNeULST5"
   },
   "source": [
    "## 3.&nbsp; Datetime aggregates\n",
    "Datetime is not limited to only returning properties, we can also perform aggregates with datetime."
   ]
  },
  {
   "cell_type": "markdown",
   "metadata": {
    "id": "jhk-r0vJ_ncX"
   },
   "source": [
    "We can utilise methods such as `.min()` and `.max()`, which will show us the earliest and the latest date in the Series."
   ]
  },
  {
   "cell_type": "code",
   "execution_count": 167,
   "metadata": {
    "colab": {
     "base_uri": "https://localhost:8080/"
    },
    "executionInfo": {
     "elapsed": 6,
     "status": "ok",
     "timestamp": 1721142124078,
     "user": {
      "displayName": "Christopher Galloway",
      "userId": "16329134674817848650"
     },
     "user_tz": -120
    },
    "id": "zEmgL60Rue6N",
    "outputId": "b7d75059-8412-4260-a4a8-c9a33368cc8b"
   },
   "outputs": [
    {
     "data": {
      "text/plain": [
       "(Timestamp('2017-01-01 00:07:19'), Timestamp('2018-03-14 13:58:36'))"
      ]
     },
     "execution_count": 167,
     "metadata": {},
     "output_type": "execute_result"
    }
   ],
   "source": [
    "orders_df[\"created_date\"].min(), orders_df[\"created_date\"].max()"
   ]
  },
  {
   "cell_type": "markdown",
   "metadata": {
    "id": "coBE8m6D_8mX"
   },
   "source": [
    "This also quickly allows you to see the timespan of the Series."
   ]
  },
  {
   "cell_type": "code",
   "execution_count": 170,
   "metadata": {
    "colab": {
     "base_uri": "https://localhost:8080/"
    },
    "executionInfo": {
     "elapsed": 370,
     "status": "ok",
     "timestamp": 1723538166784,
     "user": {
      "displayName": "Guy Fried",
      "userId": "11781590939247767763"
     },
     "user_tz": -120
    },
    "id": "5IV6dqAEuYoj",
    "outputId": "c0669fd0-6695-4d29-9777-16d2adb8042f"
   },
   "outputs": [
    {
     "data": {
      "text/plain": [
       "Timedelta('437 days 13:51:17')"
      ]
     },
     "execution_count": 170,
     "metadata": {},
     "output_type": "execute_result"
    }
   ],
   "source": [
    "orders_df[\"created_date\"].max() - orders_df[\"created_date\"].min()"
   ]
  },
  {
   "cell_type": "markdown",
   "metadata": {
    "id": "GZ7oOBs9AFBv"
   },
   "source": [
    "> **Note:** We won't dive deep into the differences between `Timestamp`, `Timedelta`, and the other time data types. For now, just know that a `Timestamp` is a point in time, whereas `Timedelta` represents a span of time. If you have the time, you can learn more [here](https://pandas.pydata.org/docs/user_guide/timeseries.html#overview)."
   ]
  },
  {
   "cell_type": "markdown",
   "metadata": {
    "id": "OsGgVSZOIWGd"
   },
   "source": [
    "We can also use `.mean()` or `.median()`."
   ]
  },
  {
   "cell_type": "code",
   "execution_count": 174,
   "metadata": {
    "colab": {
     "base_uri": "https://localhost:8080/"
    },
    "executionInfo": {
     "elapsed": 5,
     "status": "ok",
     "timestamp": 1721142124078,
     "user": {
      "displayName": "Christopher Galloway",
      "userId": "16329134674817848650"
     },
     "user_tz": -120
    },
    "id": "HWgwPQm_h2dP",
    "outputId": "f633e904-a988-4885-b528-51181abb36ee"
   },
   "outputs": [
    {
     "data": {
      "text/plain": [
       "(Timestamp('2017-09-06 14:58:03.124224512'),\n",
       " Timestamp('2017-10-16 21:00:01.500000'))"
      ]
     },
     "execution_count": 174,
     "metadata": {},
     "output_type": "execute_result"
    }
   ],
   "source": [
    "orders_df[\"created_date\"].mean(), orders_df[\"created_date\"].median()"
   ]
  },
  {
   "cell_type": "markdown",
   "metadata": {
    "id": "GWzpjakTIkGE"
   },
   "source": [
    "Or, even use `.describe()` to get an idea of the whole Series."
   ]
  },
  {
   "cell_type": "code",
   "execution_count": 177,
   "metadata": {
    "colab": {
     "base_uri": "https://localhost:8080/"
    },
    "executionInfo": {
     "elapsed": 286,
     "status": "ok",
     "timestamp": 1721142315718,
     "user": {
      "displayName": "Christopher Galloway",
      "userId": "16329134674817848650"
     },
     "user_tz": -120
    },
    "id": "52DG86cRiWXW",
    "outputId": "e7bfdfe6-412e-497f-c40c-0238224ee96a"
   },
   "outputs": [
    {
     "data": {
      "text/plain": [
       "count                           226904\n",
       "mean     2017-09-06 14:58:03.124224512\n",
       "min                2017-01-01 00:07:19\n",
       "25%      2017-05-17 08:01:00.750000128\n",
       "50%         2017-10-16 21:00:01.500000\n",
       "75%      2017-12-24 15:56:53.249999872\n",
       "max                2018-03-14 13:58:36\n",
       "Name: created_date, dtype: object"
      ]
     },
     "execution_count": 177,
     "metadata": {},
     "output_type": "execute_result"
    }
   ],
   "source": [
    "orders_df[\"created_date\"].describe()"
   ]
  },
  {
   "cell_type": "markdown",
   "metadata": {
    "id": "vPTXsc5FdWCv"
   },
   "source": [
    "## 4.&nbsp; Filtering by datetime\n",
    "Datetime is also useful to find information at, or in between, certain points in time.\n",
    "\n",
    "For example, we can find all the orders created in 2018."
   ]
  },
  {
   "cell_type": "code",
   "execution_count": 180,
   "metadata": {
    "id": "Pdd2Ttlqe4Sa"
   },
   "outputs": [],
   "source": [
    "date_filtering_df = orders_cl.copy()\n",
    "date_filtering_df[\"created_date\"] = pd.to_datetime(date_filtering_df[\"created_date\"])"
   ]
  },
  {
   "cell_type": "code",
   "execution_count": 182,
   "metadata": {
    "colab": {
     "base_uri": "https://localhost:8080/",
     "height": 206
    },
    "executionInfo": {
     "elapsed": 396,
     "status": "ok",
     "timestamp": 1721142316390,
     "user": {
      "displayName": "Christopher Galloway",
      "userId": "16329134674817848650"
     },
     "user_tz": -120
    },
    "id": "JMgkUE5FdaWQ",
    "outputId": "53ae92e9-5591-4d66-eb47-db54dd3f450c"
   },
   "outputs": [
    {
     "data": {
      "text/html": [
       "<div>\n",
       "<style scoped>\n",
       "    .dataframe tbody tr th:only-of-type {\n",
       "        vertical-align: middle;\n",
       "    }\n",
       "\n",
       "    .dataframe tbody tr th {\n",
       "        vertical-align: top;\n",
       "    }\n",
       "\n",
       "    .dataframe thead th {\n",
       "        text-align: right;\n",
       "    }\n",
       "</style>\n",
       "<table border=\"1\" class=\"dataframe\">\n",
       "  <thead>\n",
       "    <tr style=\"text-align: right;\">\n",
       "      <th></th>\n",
       "      <th>order_id</th>\n",
       "      <th>created_date</th>\n",
       "      <th>total_paid</th>\n",
       "      <th>state</th>\n",
       "    </tr>\n",
       "  </thead>\n",
       "  <tbody>\n",
       "    <tr>\n",
       "      <th>11</th>\n",
       "      <td>247524</td>\n",
       "      <td>2018-01-09 14:21:34</td>\n",
       "      <td>167.98</td>\n",
       "      <td>Completed</td>\n",
       "    </tr>\n",
       "    <tr>\n",
       "      <th>27</th>\n",
       "      <td>256434</td>\n",
       "      <td>2018-02-26 07:32:21</td>\n",
       "      <td>39.99</td>\n",
       "      <td>Pending</td>\n",
       "    </tr>\n",
       "    <tr>\n",
       "      <th>29</th>\n",
       "      <td>256799</td>\n",
       "      <td>2018-02-16 09:44:42</td>\n",
       "      <td>20.97</td>\n",
       "      <td>Completed</td>\n",
       "    </tr>\n",
       "    <tr>\n",
       "      <th>33</th>\n",
       "      <td>258155</td>\n",
       "      <td>2018-01-22 18:51:50</td>\n",
       "      <td>40.76</td>\n",
       "      <td>Completed</td>\n",
       "    </tr>\n",
       "    <tr>\n",
       "      <th>51</th>\n",
       "      <td>264244</td>\n",
       "      <td>2018-01-29 15:33:06</td>\n",
       "      <td>141.97</td>\n",
       "      <td>Completed</td>\n",
       "    </tr>\n",
       "  </tbody>\n",
       "</table>\n",
       "</div>"
      ],
      "text/plain": [
       "    order_id        created_date  total_paid      state\n",
       "11    247524 2018-01-09 14:21:34      167.98  Completed\n",
       "27    256434 2018-02-26 07:32:21       39.99    Pending\n",
       "29    256799 2018-02-16 09:44:42       20.97  Completed\n",
       "33    258155 2018-01-22 18:51:50       40.76  Completed\n",
       "51    264244 2018-01-29 15:33:06      141.97  Completed"
      ]
     },
     "execution_count": 182,
     "metadata": {},
     "output_type": "execute_result"
    }
   ],
   "source": [
    "date_filtering_df.loc[date_filtering_df[\"created_date\"].dt.year == 2018, :].head()"
   ]
  },
  {
   "cell_type": "markdown",
   "metadata": {
    "id": "-Gc9uzcpf_xD"
   },
   "source": [
    "Or, all the orders in March."
   ]
  },
  {
   "cell_type": "code",
   "execution_count": 185,
   "metadata": {
    "colab": {
     "base_uri": "https://localhost:8080/",
     "height": 206
    },
    "executionInfo": {
     "elapsed": 8,
     "status": "ok",
     "timestamp": 1721142316391,
     "user": {
      "displayName": "Christopher Galloway",
      "userId": "16329134674817848650"
     },
     "user_tz": -120
    },
    "id": "6XoO8AAEgDfS",
    "outputId": "3310586f-ca8c-4827-a174-ed04bb47177f"
   },
   "outputs": [
    {
     "data": {
      "text/html": [
       "<div>\n",
       "<style scoped>\n",
       "    .dataframe tbody tr th:only-of-type {\n",
       "        vertical-align: middle;\n",
       "    }\n",
       "\n",
       "    .dataframe tbody tr th {\n",
       "        vertical-align: top;\n",
       "    }\n",
       "\n",
       "    .dataframe thead th {\n",
       "        text-align: right;\n",
       "    }\n",
       "</style>\n",
       "<table border=\"1\" class=\"dataframe\">\n",
       "  <thead>\n",
       "    <tr style=\"text-align: right;\">\n",
       "      <th></th>\n",
       "      <th>order_id</th>\n",
       "      <th>created_date</th>\n",
       "      <th>total_paid</th>\n",
       "      <th>state</th>\n",
       "    </tr>\n",
       "  </thead>\n",
       "  <tbody>\n",
       "    <tr>\n",
       "      <th>39</th>\n",
       "      <td>259638</td>\n",
       "      <td>2017-03-02 20:12:59</td>\n",
       "      <td>387.60</td>\n",
       "      <td>Pending</td>\n",
       "    </tr>\n",
       "    <tr>\n",
       "      <th>72</th>\n",
       "      <td>271587</td>\n",
       "      <td>2017-03-08 17:23:47</td>\n",
       "      <td>20.98</td>\n",
       "      <td>Pending</td>\n",
       "    </tr>\n",
       "    <tr>\n",
       "      <th>73</th>\n",
       "      <td>271644</td>\n",
       "      <td>2017-03-01 13:11:40</td>\n",
       "      <td>21.98</td>\n",
       "      <td>Pending</td>\n",
       "    </tr>\n",
       "    <tr>\n",
       "      <th>74</th>\n",
       "      <td>272512</td>\n",
       "      <td>2018-03-04 11:35:15</td>\n",
       "      <td>114.98</td>\n",
       "      <td>Completed</td>\n",
       "    </tr>\n",
       "    <tr>\n",
       "      <th>85</th>\n",
       "      <td>279405</td>\n",
       "      <td>2017-03-12 19:01:08</td>\n",
       "      <td>59.98</td>\n",
       "      <td>Pending</td>\n",
       "    </tr>\n",
       "  </tbody>\n",
       "</table>\n",
       "</div>"
      ],
      "text/plain": [
       "    order_id        created_date  total_paid      state\n",
       "39    259638 2017-03-02 20:12:59      387.60    Pending\n",
       "72    271587 2017-03-08 17:23:47       20.98    Pending\n",
       "73    271644 2017-03-01 13:11:40       21.98    Pending\n",
       "74    272512 2018-03-04 11:35:15      114.98  Completed\n",
       "85    279405 2017-03-12 19:01:08       59.98    Pending"
      ]
     },
     "execution_count": 185,
     "metadata": {},
     "output_type": "execute_result"
    }
   ],
   "source": [
    "date_filtering_df.loc[date_filtering_df[\"created_date\"].dt.month == 3, :].head()"
   ]
  },
  {
   "cell_type": "markdown",
   "metadata": {
    "id": "pNE2sB9IgM2L"
   },
   "source": [
    "With the code above, we get all of the orders from March of any year (in this case, both 2017 and 2018). What if want just the orders from March of one year?\n",
    "\n",
    "When selecting a particular period of time, we have a few options. The most obvious - based on the code cells above - is to use 2 clauses in `.loc`.\n",
    "\n",
    "When passing multiple clauses to `.loc`, you have to wrap them in parentheses.  You also have to use them in combination with logical operators (`&` for \"and\", `|` for \"or\", `~` for \"not\")."
   ]
  },
  {
   "cell_type": "code",
   "execution_count": 188,
   "metadata": {
    "colab": {
     "base_uri": "https://localhost:8080/",
     "height": 206
    },
    "executionInfo": {
     "elapsed": 7,
     "status": "ok",
     "timestamp": 1721142316391,
     "user": {
      "displayName": "Christopher Galloway",
      "userId": "16329134674817848650"
     },
     "user_tz": -120
    },
    "id": "IWT_ydgwhXiO",
    "outputId": "c7a89b73-e13d-4735-ddff-0d27c14fc391"
   },
   "outputs": [
    {
     "data": {
      "text/html": [
       "<div>\n",
       "<style scoped>\n",
       "    .dataframe tbody tr th:only-of-type {\n",
       "        vertical-align: middle;\n",
       "    }\n",
       "\n",
       "    .dataframe tbody tr th {\n",
       "        vertical-align: top;\n",
       "    }\n",
       "\n",
       "    .dataframe thead th {\n",
       "        text-align: right;\n",
       "    }\n",
       "</style>\n",
       "<table border=\"1\" class=\"dataframe\">\n",
       "  <thead>\n",
       "    <tr style=\"text-align: right;\">\n",
       "      <th></th>\n",
       "      <th>order_id</th>\n",
       "      <th>created_date</th>\n",
       "      <th>total_paid</th>\n",
       "      <th>state</th>\n",
       "    </tr>\n",
       "  </thead>\n",
       "  <tbody>\n",
       "    <tr>\n",
       "      <th>74</th>\n",
       "      <td>272512</td>\n",
       "      <td>2018-03-04 11:35:15</td>\n",
       "      <td>114.98</td>\n",
       "      <td>Completed</td>\n",
       "    </tr>\n",
       "    <tr>\n",
       "      <th>140</th>\n",
       "      <td>294278</td>\n",
       "      <td>2018-03-04 20:04:01</td>\n",
       "      <td>173.98</td>\n",
       "      <td>Completed</td>\n",
       "    </tr>\n",
       "    <tr>\n",
       "      <th>25299</th>\n",
       "      <td>324779</td>\n",
       "      <td>2018-03-02 15:08:16</td>\n",
       "      <td>1874.99</td>\n",
       "      <td>Completed</td>\n",
       "    </tr>\n",
       "    <tr>\n",
       "      <th>37506</th>\n",
       "      <td>336990</td>\n",
       "      <td>2018-03-03 23:08:42</td>\n",
       "      <td>223.97</td>\n",
       "      <td>Completed</td>\n",
       "    </tr>\n",
       "    <tr>\n",
       "      <th>44901</th>\n",
       "      <td>344394</td>\n",
       "      <td>2018-03-09 16:47:11</td>\n",
       "      <td>39.98</td>\n",
       "      <td>Completed</td>\n",
       "    </tr>\n",
       "  </tbody>\n",
       "</table>\n",
       "</div>"
      ],
      "text/plain": [
       "       order_id        created_date  total_paid      state\n",
       "74       272512 2018-03-04 11:35:15      114.98  Completed\n",
       "140      294278 2018-03-04 20:04:01      173.98  Completed\n",
       "25299    324779 2018-03-02 15:08:16     1874.99  Completed\n",
       "37506    336990 2018-03-03 23:08:42      223.97  Completed\n",
       "44901    344394 2018-03-09 16:47:11       39.98  Completed"
      ]
     },
     "execution_count": 188,
     "metadata": {},
     "output_type": "execute_result"
    }
   ],
   "source": [
    "date_filtering_df.loc[(date_filtering_df[\"created_date\"].dt.month == 3) & (date_filtering_df[\"created_date\"].dt.year == 2018), :].head()"
   ]
  },
  {
   "cell_type": "markdown",
   "metadata": {
    "id": "vw9soGZF39RJ"
   },
   "source": [
    "This is good to give us a particular month. However, we can use the pandas method `.between()` to give us greater flexibility. With `.between()` we can search between any 2 datetimes we need."
   ]
  },
  {
   "cell_type": "code",
   "execution_count": 191,
   "metadata": {
    "colab": {
     "base_uri": "https://localhost:8080/",
     "height": 206
    },
    "executionInfo": {
     "elapsed": 6,
     "status": "ok",
     "timestamp": 1721142316391,
     "user": {
      "displayName": "Christopher Galloway",
      "userId": "16329134674817848650"
     },
     "user_tz": -120
    },
    "id": "o-h1YjCh35D7",
    "outputId": "80c1ed19-4981-48e7-f05c-d2cf8dc210a5"
   },
   "outputs": [
    {
     "data": {
      "text/html": [
       "<div>\n",
       "<style scoped>\n",
       "    .dataframe tbody tr th:only-of-type {\n",
       "        vertical-align: middle;\n",
       "    }\n",
       "\n",
       "    .dataframe tbody tr th {\n",
       "        vertical-align: top;\n",
       "    }\n",
       "\n",
       "    .dataframe thead th {\n",
       "        text-align: right;\n",
       "    }\n",
       "</style>\n",
       "<table border=\"1\" class=\"dataframe\">\n",
       "  <thead>\n",
       "    <tr style=\"text-align: right;\">\n",
       "      <th></th>\n",
       "      <th>order_id</th>\n",
       "      <th>created_date</th>\n",
       "      <th>total_paid</th>\n",
       "      <th>state</th>\n",
       "    </tr>\n",
       "  </thead>\n",
       "  <tbody>\n",
       "    <tr>\n",
       "      <th>74</th>\n",
       "      <td>272512</td>\n",
       "      <td>2018-03-04 11:35:15</td>\n",
       "      <td>114.98</td>\n",
       "      <td>Completed</td>\n",
       "    </tr>\n",
       "    <tr>\n",
       "      <th>140</th>\n",
       "      <td>294278</td>\n",
       "      <td>2018-03-04 20:04:01</td>\n",
       "      <td>173.98</td>\n",
       "      <td>Completed</td>\n",
       "    </tr>\n",
       "    <tr>\n",
       "      <th>25299</th>\n",
       "      <td>324779</td>\n",
       "      <td>2018-03-02 15:08:16</td>\n",
       "      <td>1874.99</td>\n",
       "      <td>Completed</td>\n",
       "    </tr>\n",
       "    <tr>\n",
       "      <th>37506</th>\n",
       "      <td>336990</td>\n",
       "      <td>2018-03-03 23:08:42</td>\n",
       "      <td>223.97</td>\n",
       "      <td>Completed</td>\n",
       "    </tr>\n",
       "    <tr>\n",
       "      <th>44901</th>\n",
       "      <td>344394</td>\n",
       "      <td>2018-03-09 16:47:11</td>\n",
       "      <td>39.98</td>\n",
       "      <td>Completed</td>\n",
       "    </tr>\n",
       "  </tbody>\n",
       "</table>\n",
       "</div>"
      ],
      "text/plain": [
       "       order_id        created_date  total_paid      state\n",
       "74       272512 2018-03-04 11:35:15      114.98  Completed\n",
       "140      294278 2018-03-04 20:04:01      173.98  Completed\n",
       "25299    324779 2018-03-02 15:08:16     1874.99  Completed\n",
       "37506    336990 2018-03-03 23:08:42      223.97  Completed\n",
       "44901    344394 2018-03-09 16:47:11       39.98  Completed"
      ]
     },
     "execution_count": 191,
     "metadata": {},
     "output_type": "execute_result"
    }
   ],
   "source": [
    "date_filtering_df.loc[date_filtering_df[\"created_date\"].between(\"2018-03-01\", \"2018-04-01\")].head()"
   ]
  },
  {
   "cell_type": "markdown",
   "metadata": {
    "id": "upNmVHdQ4x2L"
   },
   "source": [
    "There are a couple of other ways of filtering periods of time. We won't go through these in class as the 2 methods above are more than enough for the moment. However, we'll leave them commented out below for those with inquisitive minds."
   ]
  },
  {
   "cell_type": "code",
   "execution_count": 194,
   "metadata": {
    "id": "W878vwBbipsZ"
   },
   "outputs": [],
   "source": [
    "# date_filtering_df.loc[date_filtering_df[\"created_date\"].dt.strftime(\"%Y-%m\") == \"2018-03\"].head()"
   ]
  },
  {
   "cell_type": "code",
   "execution_count": 196,
   "metadata": {
    "id": "bhwITrINi7M2"
   },
   "outputs": [],
   "source": [
    "# date_filtering_df.loc[date_filtering_df[\"created_date\"].dt.to_period(\"M\") == \"2018-03\"].head()"
   ]
  },
  {
   "cell_type": "markdown",
   "metadata": {
    "id": "m050CtFNk0aG"
   },
   "source": [
    "# Challenges"
   ]
  },
  {
   "cell_type": "markdown",
   "metadata": {
    "id": "FWNQ8_OsOwIQ"
   },
   "source": [
    "### Challenge 1.\n",
    "\n",
    "What's the latest order?"
   ]
  },
  {
   "cell_type": "code",
   "execution_count": 202,
   "metadata": {
    "id": "RwEkh9e4O4WH"
   },
   "outputs": [
    {
     "data": {
      "text/plain": [
       "order_id                        527401\n",
       "created_date       2018-03-14 13:58:36\n",
       "total_paid                       18.98\n",
       "state                      Place Order\n",
       "month                                3\n",
       "month_name                       March\n",
       "year                              2018\n",
       "day                                 14\n",
       "weekday                              2\n",
       "day_of_week                  Wednesday\n",
       "date_as_string    Wednesday, 14 Mar 18\n",
       "Name: 226903, dtype: object"
      ]
     },
     "execution_count": 202,
     "metadata": {},
     "output_type": "execute_result"
    }
   ],
   "source": [
    "latest_order = orders_df.loc[orders_cl['created_date'].idxmax()]\n",
    "\n",
    "latest_order# your code here"
   ]
  },
  {
   "cell_type": "code",
   "execution_count": null,
   "metadata": {},
   "outputs": [],
   "source": [
    "\n"
   ]
  },
  {
   "cell_type": "markdown",
   "metadata": {
    "id": "73hRZj7mPTaD"
   },
   "source": [
    "### Challenge 2.\n",
    "\n",
    "Use `.strftime()` to print out the latest order as \"Wed, 14/03/2018\"."
   ]
  },
  {
   "cell_type": "code",
   "execution_count": 210,
   "metadata": {
    "id": "7xJIjd9aPT32"
   },
   "outputs": [
    {
     "data": {
      "text/plain": [
       "'Wed, 14/03/2018'"
      ]
     },
     "execution_count": 210,
     "metadata": {},
     "output_type": "execute_result"
    }
   ],
   "source": [
    "max_date = orders_df['created_date'].max()\n",
    "max_date.strftime('%a, %d/%m/%Y')"
   ]
  },
  {
   "cell_type": "markdown",
   "metadata": {
    "id": "g0JB9tqbKCX6"
   },
   "source": [
    "### Challenge 3.\n",
    "\n",
    "What's the order number of the first order sold in June 2017?"
   ]
  },
  {
   "cell_type": "code",
   "execution_count": 222,
   "metadata": {
    "id": "1Hr9gt7iCFEy"
   },
   "outputs": [
    {
     "name": "stdout",
     "output_type": "stream",
     "text": [
      "The first order number in June 2017 is: 361104\n"
     ]
    }
   ],
   "source": [
    "# Filter for June 2017 orders\n",
    "june_orders = orders_df.loc[orders_df['created_date'].between('2017-06-01', '2017-06-30')]\n",
    "\n",
    "# Sort by date to get the first order\n",
    "june_orders = june_orders.sort_values(by='created_date', ascending=True)\n",
    "\n",
    "# Get the first order number\n",
    "first_order = june_orders.iloc[0]['order_id']\n",
    "\n",
    "print(f\"The first order number in June 2017 is: {first_order}\")\n",
    "# your code here"
   ]
  },
  {
   "cell_type": "code",
   "execution_count": 224,
   "metadata": {},
   "outputs": [
    {
     "data": {
      "text/plain": [
       "61563    361104\n",
       "Name: order_id, dtype: int64"
      ]
     },
     "execution_count": 224,
     "metadata": {},
     "output_type": "execute_result"
    }
   ],
   "source": [
    "\n",
    "(\n",
    "    orders_df\n",
    "    .loc[orders_df [\"created_date\"].dt. to_period (\"M\") == \"2017-06\"]\n",
    "    .sort_values (\"created_date\")\n",
    "    .head (1)\n",
    "    [\"order_id\"]\n",
    ")"
   ]
  },
  {
   "cell_type": "code",
   "execution_count": 244,
   "metadata": {},
   "outputs": [
    {
     "data": {
      "text/plain": [
       "61563   2017-06-01 00:02:27\n",
       "Name: created_date, dtype: datetime64[ns]"
      ]
     },
     "execution_count": 244,
     "metadata": {},
     "output_type": "execute_result"
    }
   ],
   "source": [
    "\n",
    "first_purchase_time = (\n",
    "    orders_df\n",
    "    .loc[orders_df[\"created_date\"].dt.to_period(\"M\") == \"2017-06\",\"created_date\"].nsmallest().head(1)\n",
    ")\n",
    "first_purchase_time\n",
    "#orders_df.loc[orders_df[\"created_date\"] == first_purchase_time]"
   ]
  },
  {
   "cell_type": "markdown",
   "metadata": {
    "id": "vAnpL3C7N2Hv"
   },
   "source": [
    "### Challenge 4.\n",
    "\n",
    "How many orders, regardless of state, were processed between 15th April 2017 and 6th May 2017?"
   ]
  },
  {
   "cell_type": "code",
   "execution_count": 218,
   "metadata": {
    "id": "2fl8Lam4LDna"
   },
   "outputs": [
    {
     "name": "stdout",
     "output_type": "stream",
     "text": [
      "6854\n"
     ]
    }
   ],
   "source": [
    "# Count the number of orders between 15th April 2017 and 6th May 2017\n",
    "orders_between = orders_df.loc[orders_df['created_date'].between('2017-04-15', '2017-05-06'), 'order_id'].count()\n",
    "\n",
    "print(orders_between)\n"
   ]
  },
  {
   "cell_type": "markdown",
   "metadata": {
    "id": "4tNq6wzoOg3s"
   },
   "source": [
    "### Challenge 5.\n",
    "\n",
    "Using the `.dt` accessor, create an extra column showing the quarter in which each order was sold."
   ]
  },
  {
   "cell_type": "code",
   "execution_count": 107,
   "metadata": {
    "id": "90bxXypVNbHs"
   },
   "outputs": [
    {
     "data": {
      "text/html": [
       "<div>\n",
       "<style scoped>\n",
       "    .dataframe tbody tr th:only-of-type {\n",
       "        vertical-align: middle;\n",
       "    }\n",
       "\n",
       "    .dataframe tbody tr th {\n",
       "        vertical-align: top;\n",
       "    }\n",
       "\n",
       "    .dataframe thead th {\n",
       "        text-align: right;\n",
       "    }\n",
       "</style>\n",
       "<table border=\"1\" class=\"dataframe\">\n",
       "  <thead>\n",
       "    <tr style=\"text-align: right;\">\n",
       "      <th></th>\n",
       "      <th>order_id</th>\n",
       "      <th>created_date</th>\n",
       "      <th>total_paid</th>\n",
       "      <th>state</th>\n",
       "      <th>month</th>\n",
       "      <th>month_name</th>\n",
       "      <th>year</th>\n",
       "      <th>day</th>\n",
       "      <th>weekday</th>\n",
       "      <th>day_of_week</th>\n",
       "      <th>date_as_string</th>\n",
       "      <th>quarter</th>\n",
       "    </tr>\n",
       "  </thead>\n",
       "  <tbody>\n",
       "    <tr>\n",
       "      <th>0</th>\n",
       "      <td>241319</td>\n",
       "      <td>2017-01-02 13:35:40</td>\n",
       "      <td>44.99</td>\n",
       "      <td>Cancelled</td>\n",
       "      <td>1</td>\n",
       "      <td>January</td>\n",
       "      <td>2017</td>\n",
       "      <td>2</td>\n",
       "      <td>0</td>\n",
       "      <td>Monday</td>\n",
       "      <td>Monday, 02 Jan 17</td>\n",
       "      <td>1</td>\n",
       "    </tr>\n",
       "    <tr>\n",
       "      <th>1</th>\n",
       "      <td>241423</td>\n",
       "      <td>2017-11-06 13:10:02</td>\n",
       "      <td>136.15</td>\n",
       "      <td>Completed</td>\n",
       "      <td>11</td>\n",
       "      <td>November</td>\n",
       "      <td>2017</td>\n",
       "      <td>6</td>\n",
       "      <td>0</td>\n",
       "      <td>Monday</td>\n",
       "      <td>Monday, 06 Nov 17</td>\n",
       "      <td>4</td>\n",
       "    </tr>\n",
       "    <tr>\n",
       "      <th>2</th>\n",
       "      <td>242832</td>\n",
       "      <td>2017-12-31 17:40:03</td>\n",
       "      <td>15.76</td>\n",
       "      <td>Completed</td>\n",
       "      <td>12</td>\n",
       "      <td>December</td>\n",
       "      <td>2017</td>\n",
       "      <td>31</td>\n",
       "      <td>6</td>\n",
       "      <td>Sunday</td>\n",
       "      <td>Sunday, 31 Dec 17</td>\n",
       "      <td>4</td>\n",
       "    </tr>\n",
       "    <tr>\n",
       "      <th>3</th>\n",
       "      <td>243330</td>\n",
       "      <td>2017-02-16 10:59:38</td>\n",
       "      <td>84.98</td>\n",
       "      <td>Completed</td>\n",
       "      <td>2</td>\n",
       "      <td>February</td>\n",
       "      <td>2017</td>\n",
       "      <td>16</td>\n",
       "      <td>3</td>\n",
       "      <td>Thursday</td>\n",
       "      <td>Thursday, 16 Feb 17</td>\n",
       "      <td>1</td>\n",
       "    </tr>\n",
       "    <tr>\n",
       "      <th>4</th>\n",
       "      <td>243784</td>\n",
       "      <td>2017-11-24 13:35:19</td>\n",
       "      <td>157.86</td>\n",
       "      <td>Cancelled</td>\n",
       "      <td>11</td>\n",
       "      <td>November</td>\n",
       "      <td>2017</td>\n",
       "      <td>24</td>\n",
       "      <td>4</td>\n",
       "      <td>Friday</td>\n",
       "      <td>Friday, 24 Nov 17</td>\n",
       "      <td>4</td>\n",
       "    </tr>\n",
       "    <tr>\n",
       "      <th>...</th>\n",
       "      <td>...</td>\n",
       "      <td>...</td>\n",
       "      <td>...</td>\n",
       "      <td>...</td>\n",
       "      <td>...</td>\n",
       "      <td>...</td>\n",
       "      <td>...</td>\n",
       "      <td>...</td>\n",
       "      <td>...</td>\n",
       "      <td>...</td>\n",
       "      <td>...</td>\n",
       "      <td>...</td>\n",
       "    </tr>\n",
       "    <tr>\n",
       "      <th>226899</th>\n",
       "      <td>527397</td>\n",
       "      <td>2018-03-14 13:56:38</td>\n",
       "      <td>42.99</td>\n",
       "      <td>Place Order</td>\n",
       "      <td>3</td>\n",
       "      <td>March</td>\n",
       "      <td>2018</td>\n",
       "      <td>14</td>\n",
       "      <td>2</td>\n",
       "      <td>Wednesday</td>\n",
       "      <td>Wednesday, 14 Mar 18</td>\n",
       "      <td>1</td>\n",
       "    </tr>\n",
       "    <tr>\n",
       "      <th>226900</th>\n",
       "      <td>527398</td>\n",
       "      <td>2018-03-14 13:57:25</td>\n",
       "      <td>42.99</td>\n",
       "      <td>Shopping Basket</td>\n",
       "      <td>3</td>\n",
       "      <td>March</td>\n",
       "      <td>2018</td>\n",
       "      <td>14</td>\n",
       "      <td>2</td>\n",
       "      <td>Wednesday</td>\n",
       "      <td>Wednesday, 14 Mar 18</td>\n",
       "      <td>1</td>\n",
       "    </tr>\n",
       "    <tr>\n",
       "      <th>226901</th>\n",
       "      <td>527399</td>\n",
       "      <td>2018-03-14 13:57:34</td>\n",
       "      <td>141.58</td>\n",
       "      <td>Shopping Basket</td>\n",
       "      <td>3</td>\n",
       "      <td>March</td>\n",
       "      <td>2018</td>\n",
       "      <td>14</td>\n",
       "      <td>2</td>\n",
       "      <td>Wednesday</td>\n",
       "      <td>Wednesday, 14 Mar 18</td>\n",
       "      <td>1</td>\n",
       "    </tr>\n",
       "    <tr>\n",
       "      <th>226902</th>\n",
       "      <td>527400</td>\n",
       "      <td>2018-03-14 13:57:41</td>\n",
       "      <td>19.98</td>\n",
       "      <td>Shopping Basket</td>\n",
       "      <td>3</td>\n",
       "      <td>March</td>\n",
       "      <td>2018</td>\n",
       "      <td>14</td>\n",
       "      <td>2</td>\n",
       "      <td>Wednesday</td>\n",
       "      <td>Wednesday, 14 Mar 18</td>\n",
       "      <td>1</td>\n",
       "    </tr>\n",
       "    <tr>\n",
       "      <th>226903</th>\n",
       "      <td>527401</td>\n",
       "      <td>2018-03-14 13:58:36</td>\n",
       "      <td>18.98</td>\n",
       "      <td>Place Order</td>\n",
       "      <td>3</td>\n",
       "      <td>March</td>\n",
       "      <td>2018</td>\n",
       "      <td>14</td>\n",
       "      <td>2</td>\n",
       "      <td>Wednesday</td>\n",
       "      <td>Wednesday, 14 Mar 18</td>\n",
       "      <td>1</td>\n",
       "    </tr>\n",
       "  </tbody>\n",
       "</table>\n",
       "<p>226904 rows × 12 columns</p>\n",
       "</div>"
      ],
      "text/plain": [
       "        order_id        created_date  total_paid            state  month  \\\n",
       "0         241319 2017-01-02 13:35:40       44.99        Cancelled      1   \n",
       "1         241423 2017-11-06 13:10:02      136.15        Completed     11   \n",
       "2         242832 2017-12-31 17:40:03       15.76        Completed     12   \n",
       "3         243330 2017-02-16 10:59:38       84.98        Completed      2   \n",
       "4         243784 2017-11-24 13:35:19      157.86        Cancelled     11   \n",
       "...          ...                 ...         ...              ...    ...   \n",
       "226899    527397 2018-03-14 13:56:38       42.99      Place Order      3   \n",
       "226900    527398 2018-03-14 13:57:25       42.99  Shopping Basket      3   \n",
       "226901    527399 2018-03-14 13:57:34      141.58  Shopping Basket      3   \n",
       "226902    527400 2018-03-14 13:57:41       19.98  Shopping Basket      3   \n",
       "226903    527401 2018-03-14 13:58:36       18.98      Place Order      3   \n",
       "\n",
       "       month_name  year  day  weekday day_of_week        date_as_string  \\\n",
       "0         January  2017    2        0      Monday     Monday, 02 Jan 17   \n",
       "1        November  2017    6        0      Monday     Monday, 06 Nov 17   \n",
       "2        December  2017   31        6      Sunday     Sunday, 31 Dec 17   \n",
       "3        February  2017   16        3    Thursday   Thursday, 16 Feb 17   \n",
       "4        November  2017   24        4      Friday     Friday, 24 Nov 17   \n",
       "...           ...   ...  ...      ...         ...                   ...   \n",
       "226899      March  2018   14        2   Wednesday  Wednesday, 14 Mar 18   \n",
       "226900      March  2018   14        2   Wednesday  Wednesday, 14 Mar 18   \n",
       "226901      March  2018   14        2   Wednesday  Wednesday, 14 Mar 18   \n",
       "226902      March  2018   14        2   Wednesday  Wednesday, 14 Mar 18   \n",
       "226903      March  2018   14        2   Wednesday  Wednesday, 14 Mar 18   \n",
       "\n",
       "        quarter  \n",
       "0             1  \n",
       "1             4  \n",
       "2             4  \n",
       "3             1  \n",
       "4             4  \n",
       "...         ...  \n",
       "226899        1  \n",
       "226900        1  \n",
       "226901        1  \n",
       "226902        1  \n",
       "226903        1  \n",
       "\n",
       "[226904 rows x 12 columns]"
      ]
     },
     "execution_count": 107,
     "metadata": {},
     "output_type": "execute_result"
    }
   ],
   "source": [
    "orders_df ['quarter'] = orders_df['created_date'].dt.quarter\n",
    "orders_df# your code here"
   ]
  },
  {
   "cell_type": "code",
   "execution_count": 115,
   "metadata": {},
   "outputs": [
    {
     "name": "stderr",
     "output_type": "stream",
     "text": [
      "Matplotlib is building the font cache; this may take a moment.\n"
     ]
    },
    {
     "data": {
      "text/plain": [
       "<Axes: xlabel='state'>"
      ]
     },
     "execution_count": 115,
     "metadata": {},
     "output_type": "execute_result"
    },
    {
     "data": {
      "image/png": "[encoded data removed]",
      "text/plain": [
       "<Figure size 640x480 with 1 Axes>"
      ]
     },
     "metadata": {},
     "output_type": "display_data"
    }
   ],
   "source": [
    "orders_df.groupby('state')['order_id'].count().plot.bar()"
   ]
  },
  {
   "cell_type": "code",
   "execution_count": null,
   "metadata": {},
   "outputs": [],
   "source": []
  }
 ],
 "metadata": {
  "colab": {
   "provenance": [
    {
     "file_id": "1V0Z8RJfMJt5duIdaxgGhJxn5sAcLt1Oj",
     "timestamp": 1741163424559
    },
    {
     "file_id": "1iYJDQ1f76Z7-vBI80oQxCwRQIedroXEq",
     "timestamp": 1665406596974
    },
    {
     "file_id": "18fCBNPazeiW6hbupKfrB20Caf8PkNiT1",
     "timestamp": 1664968168475
    },
    {
     "file_id": "12dvr7WGPjOAZKy0jMCpHuvKg2ZtaOQwv",
     "timestamp": 1661152556637
    }
   ]
  },
  "kernelspec": {
   "display_name": "Python [conda env:base] *",
   "language": "python",
   "name": "conda-base-py"
  },
  "language_info": {
   "codemirror_mode": {
    "name": "ipython",
    "version": 3
   },
   "file_extension": ".py",
   "mimetype": "text/x-python",
   "name": "python",
   "nbconvert_exporter": "python",
   "pygments_lexer": "ipython3",
   "version": "3.12.7"
  }
 },
 "nbformat": 4,
 "nbformat_minor": 4
}
